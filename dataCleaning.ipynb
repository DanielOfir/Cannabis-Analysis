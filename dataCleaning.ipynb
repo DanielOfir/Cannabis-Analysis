{
 "metadata": {
  "language_info": {
   "codemirror_mode": {
    "name": "ipython",
    "version": 3
   },
   "file_extension": ".py",
   "mimetype": "text/x-python",
   "name": "python",
   "nbconvert_exporter": "python",
   "pygments_lexer": "ipython3",
   "version": "3.9.1"
  },
  "orig_nbformat": 2,
  "kernelspec": {
   "name": "python391jvsc74a57bd0aee8b7b246df8f9039afb4144a1f6fd8d2ca17a180786b69acc140d282b71a49",
   "display_name": "Python 3.9.1 64-bit"
  },
  "metadata": {
   "interpreter": {
    "hash": "aee8b7b246df8f9039afb4144a1f6fd8d2ca17a180786b69acc140d282b71a49"
   }
  }
 },
 "nbformat": 4,
 "nbformat_minor": 2,
 "cells": [
  {
   "cell_type": "code",
   "execution_count": 3,
   "metadata": {},
   "outputs": [],
   "source": [
    "import ast\n",
    "import bs4\n",
    "import time\n",
    "import json\n",
    "import requests\n",
    "import pandas as pd\n",
    "import scipy as scipy\n",
    "import numpy as np\n",
    "from bs4 import BeautifulSoup\n",
    "from datetime import datetime\n",
    "import matplotlib.pyplot as plt\n",
    "\n",
    "%matplotlib inline"
   ]
  },
  {
   "cell_type": "code",
   "execution_count": 121,
   "metadata": {},
   "outputs": [],
   "source": [
    "df = pd.read_csv('canna_df.csv')\n",
    "df['Feelings'] = df['Feelings'].map(ast.literal_eval) ## To get dicts instead of strings\n",
    "df['Cannabinoids'] = df['Cannabinoids'].map(ast.literal_eval)"
   ]
  },
  {
   "cell_type": "code",
   "execution_count": 122,
   "metadata": {},
   "outputs": [],
   "source": [
    "## Open dictionaries in columns ['Feelings','Cannabinoids'] to columns\n",
    "\n",
    "df = df.reset_index(drop=True)\n",
    "\n",
    "\n",
    "for i in range(5): \n",
    "    df[f'Feeling_{i+1}'] = df.apply(lambda x: x['Feelings']['Feelings'][i],axis=1) ## Turn feelings list to columns\n",
    "    df[f'Negative_{i+1}'] = df.apply(lambda x: x['Feelings']['Negatives'][i],axis=1) ## Turn negative feelings list to columns\n",
    "    df[f'Helps with_{i+1}'] = df.apply(lambda x: x['Feelings']['Helps with'][i],axis=1) ## Turn helps with list to columns\n",
    "\n",
    "    df[f'Feeling_{i+1}'] = df[f'Feeling_{i+1}'].str.replace(r'\\b $','',regex=True) ## Remove space at the end of values\n",
    "    df[f'Negative_{i+1}'] = df[f'Negative_{i+1}'].str.replace(r'\\b $','',regex=True)\n",
    "    df[f'Helps with_{i+1}'] = df[f'Helps with_{i+1}'].str.replace(r'\\b $','',regex=True)\n",
    "\n",
    "\n",
    "df['THC'] = df.apply(lambda x: x['Cannabinoids']['THC'],axis=1) ## Turn Cannabinoid dict to columns\n",
    "df['CBD'] = df.apply(lambda x: x['Cannabinoids']['CBD'],axis=1) \n",
    "df['CBG'] = df.apply(lambda x: x['Cannabinoids']['CBG'],axis=1) \n",
    "\n",
    "\n",
    "df.drop(['Feelings','Cannabinoids'],inplace=True,axis=1) ## Remove old columns\n",
    "\n",
    "cols = ['Rating','Rating Users','THC','CBD','CBG']\n",
    "\n",
    "df['THC'] = df['THC'].str.replace(\"%\",'',regex=True) # Remove % from numbers\n",
    "df['CBD'] = df['CBD'].str.replace(\"%\",'',regex=True)\n",
    "df['CBG'] = df['CBG'].str.replace(\"%\",'',regex=True)\n",
    "\n",
    "\n",
    "df['CBD'].replace(\"—\",np.nan,regex=True,inplace=True) # Replace '-' values with NaN\n",
    "df['THC'].replace(\"—\",np.nan,regex=True,inplace=True)\n",
    "df['CBG'].replace(\"—\",np.nan,regex=True,inplace=True)\n",
    "\n",
    "df[cols] = df[cols].apply(pd.to_numeric) # Change columns type to numeric\n",
    "\n",
    "\n",
    "\n"
   ]
  },
  {
   "cell_type": "code",
   "execution_count": null,
   "metadata": {},
   "outputs": [],
   "source": [
    "df['Type'].value_counts()"
   ]
  },
  {
   "cell_type": "code",
   "execution_count": 64,
   "metadata": {},
   "outputs": [],
   "source": [
    "## Fill missing THC values\n",
    "\n",
    "def my_func(df,parent):\n",
    "\n",
    "    func_df = df.loc[(df['Left Parent'] == parent) | (df['Right parent'] == parent) | (df['Strain Name'] == parent)] ## All rows with same parent, including the parent\n",
    "    mean = round(func_df['CBD'].mean(),0)\n",
    "\n",
    "    return mean\n",
    "\n",
    "def complete_cannabinoids_nan(df,col):\n",
    "    \n",
    "\n",
    "    # for col in col_names:\n",
    "    try:\n",
    "        nanim = df[(df[f'{col}'].isna()) & ((df['Left Parent'].notna()) | (df['Right parent'].notna()))].copy() # To apply changes on real DF\n",
    "\n",
    "        nanim[f'{col}'] = nanim.apply(lambda x: my_func(df,x['Left Parent']),axis=1)\n",
    "        nanim[f'{col}'] = nanim.apply(lambda x: my_func(df,x['Right parent']) if pd.isnull(x[f'{col}']) else x[f'{col}'],axis=1)\n",
    "        # fixed_df.append(nanim)\n",
    "    except Exception as e:\n",
    "        # print(f'Didnt get data for {col_name}')\n",
    "        pass\n",
    "\n",
    "\n",
    "    # fixed_df = pd.concat(fixed_df)\n",
    "\n",
    "    return nanim\n",
    "\n",
    "\n",
    "\n",
    "\n"
   ]
  },
  {
   "cell_type": "code",
   "execution_count": 65,
   "metadata": {},
   "outputs": [
    {
     "output_type": "execute_result",
     "data": {
      "text/plain": [
       "5007"
      ]
     },
     "metadata": {},
     "execution_count": 65
    }
   ],
   "source": [
    "# curr_df = df[df['CBD'].isna()]\n",
    "# curr_df.shape\n",
    "\n",
    "df['CBD'].isna().sum()"
   ]
  },
  {
   "cell_type": "code",
   "execution_count": 66,
   "metadata": {},
   "outputs": [],
   "source": [
    "\n",
    "nanim_df = complete_cannabinoids_nan(df,'CBD')\n"
   ]
  },
  {
   "cell_type": "code",
   "execution_count": 67,
   "metadata": {},
   "outputs": [],
   "source": [
    "df = df.copy()\n",
    "df.update(nanim_df)"
   ]
  },
  {
   "cell_type": "code",
   "execution_count": 68,
   "metadata": {},
   "outputs": [
    {
     "output_type": "execute_result",
     "data": {
      "text/plain": [
       "3617"
      ]
     },
     "metadata": {},
     "execution_count": 68
    }
   ],
   "source": [
    "df['CBD'].isna().sum()"
   ]
  },
  {
   "cell_type": "code",
   "execution_count": 31,
   "metadata": {},
   "outputs": [
    {
     "output_type": "execute_result",
     "data": {
      "text/plain": [
       "Empty DataFrame\n",
       "Columns: [Unnamed: 0, Strain Name, Type, Rating, Rating Users, Left Parent, Right parent, Left Child, Right Child, Feeling_1, Negative_1, Helps with_1, Feeling_2, Negative_2, Helps with_2, Feeling_3, Negative_3, Helps with_3, Feeling_4, Negative_4, Helps with_4, Feeling_5, Negative_5, Helps with_5, THC, CBD, CBG]\n",
       "Index: []\n",
       "\n",
       "[0 rows x 27 columns]"
      ],
      "text/html": "<div>\n<style scoped>\n    .dataframe tbody tr th:only-of-type {\n        vertical-align: middle;\n    }\n\n    .dataframe tbody tr th {\n        vertical-align: top;\n    }\n\n    .dataframe thead th {\n        text-align: right;\n    }\n</style>\n<table border=\"1\" class=\"dataframe\">\n  <thead>\n    <tr style=\"text-align: right;\">\n      <th></th>\n      <th>Unnamed: 0</th>\n      <th>Strain Name</th>\n      <th>Type</th>\n      <th>Rating</th>\n      <th>Rating Users</th>\n      <th>Left Parent</th>\n      <th>Right parent</th>\n      <th>Left Child</th>\n      <th>Right Child</th>\n      <th>Feeling_1</th>\n      <th>...</th>\n      <th>Helps with_3</th>\n      <th>Feeling_4</th>\n      <th>Negative_4</th>\n      <th>Helps with_4</th>\n      <th>Feeling_5</th>\n      <th>Negative_5</th>\n      <th>Helps with_5</th>\n      <th>THC</th>\n      <th>CBD</th>\n      <th>CBG</th>\n    </tr>\n  </thead>\n  <tbody>\n  </tbody>\n</table>\n<p>0 rows × 27 columns</p>\n</div>"
     },
     "metadata": {},
     "execution_count": 31
    }
   ],
   "source": [
    "curr_df[curr_df['CBD'].notna()]"
   ]
  },
  {
   "cell_type": "code",
   "execution_count": null,
   "metadata": {},
   "outputs": [],
   "source": [
    "df.columns.str.match(\"Unnamed\") ## A new column was created from some reason\n",
    "df = df.loc[:,~df.columns.str.match(\"Unnamed\")]\n",
    "\n"
   ]
  },
  {
   "cell_type": "code",
   "execution_count": 5,
   "metadata": {},
   "outputs": [
    {
     "output_type": "execute_result",
     "data": {
      "text/plain": [
       "(1746, 27)"
      ]
     },
     "metadata": {},
     "execution_count": 5
    }
   ],
   "source": [
    "\n",
    "\n",
    "# curr_df = df[(df['Feeling_1'].isna()) & (df['Feeling_2'].isna()) & (df['Feeling_3'].isna())]\n",
    "# curr_df = df[(df['Feeling_1'].isnull()) & (df['Feeling_2'].isnull()) & (df['Feeling_3'].isnull()) & ((df['Left Parent'].notna()) | (df['Right parent'].notna()))]\n",
    "# curr_df = df[(df['Negative_1'].isnull()) & (df['Negative_2'].isnull()) & (df['Negative_3'].isnull())]\n",
    "curr_df = df[df['THC'].isna()]\n",
    "curr_df.shape\n",
    "# curr_df.head(10)\n"
   ]
  },
  {
   "cell_type": "code",
   "execution_count": 123,
   "metadata": {},
   "outputs": [],
   "source": [
    "def my_func2(df,parent,mode,col):\n",
    "\n",
    "    func_df = df.loc[(df['Left Parent'] == parent) | (df['Right parent'] == parent) | (df['Strain Name'] == parent)] ## All rows with same parent, including the parent\n",
    "\n",
    "    if mode == 'Feelings':\n",
    "        try:\n",
    "            feeling = func_df[col].value_counts().idxmax() ## Limits to look only at the same col\n",
    "\n",
    "        except Exception as e:\n",
    "            feeling = np.NaN\n",
    "\n",
    "        return feeling\n",
    "\n",
    "    elif mode == 'Cannabinoids':\n",
    "\n",
    "        mean = round(func_df[col].mean(),0)\n",
    "        \n",
    "        return mean\n",
    "\n",
    "\n",
    "\n",
    "def complete_feelings(df,col_names):\n",
    "        \n",
    "    # main_df = []\n",
    "    for i,col in enumerate(col_names,0):\n",
    "        if 'Feeling' in col:\n",
    "            nanim = df[(df['Feeling_1'].isnull()) & (df['Feeling_2'].isnull()) & (df['Feeling_3'].isnull()) & ((df['Left Parent'].notna()) | (df['Right parent'].notna()))].copy()\n",
    "            mode = 'Feelings'\n",
    "\n",
    "        elif 'Negative' in col:\n",
    "            nanim = df[(df['Negative_1'].isnull()) & (df['Negative_2'].isnull()) & (df['Negative_3'].isnull()) & ((df['Left Parent'].notna()) | (df['Right parent'].notna()))].copy()\n",
    "            mode = 'Feelings'\n",
    "        \n",
    "        elif 'Helps with' in col:\n",
    "            nanim = df[(df['Helps with_1'].isnull()) & (df['Helps with_2'].isnull()) & (df['Helps with_3'].isnull()) & ((df['Left Parent'].notna()) | (df['Right parent'].notna()))].copy()\n",
    "            mode = 'Feelings'\n",
    "        \n",
    "        else:\n",
    "            nanim = df[(df[col].isna()) & ((df['Left Parent'].notna()) | (df['Right parent'].notna()))].copy() # To apply changes on real DF\n",
    "            mode = 'Cannabinoids'\n",
    "        \n",
    "        try:\n",
    "            nanim[col] = nanim.apply(lambda x: my_func2(df,x['Left Parent'],mode,col),axis=1)\n",
    "            nanim[col] = nanim.apply(lambda x: my_func2(df,x['Right parent'],mode,col) if pd.isnull(x[col]) else x[col],axis=1)\n",
    "            \n",
    "            df[col].fillna(nanim[col],inplace=True)\n",
    "\n",
    "            # if i == 0: ## First Dataframe\n",
    "            #     main_df = nanim\n",
    "            # else: ## Fill NaNs on main Dataframe\n",
    "            #     main_df[col].fillna(nanim[col],inplace=True)\n",
    "\n",
    "        except Exception as e:\n",
    "            print(e)\n",
    "            pass\n",
    "    \n",
    "\n",
    "\n",
    "    # return nanim\n",
    "    # return main_df\n",
    "    return df"
   ]
  },
  {
   "cell_type": "code",
   "execution_count": 124,
   "metadata": {},
   "outputs": [
    {
     "output_type": "stream",
     "name": "stdout",
     "text": [
      "1675\n1725\n1772\n3221\n3221\n3221\n2217\n2217\n2217\n1746\n5007\n3053\n"
     ]
    }
   ],
   "source": [
    "# cols = ['Feeling_1','Fas']\n",
    "\n",
    "# if any('Feeling' in s for s in cols):\n",
    "#     print('Si')\n",
    "\n",
    "# cols = ['Feelings_1','Feelings_2','Feelings_3']\n",
    "\n",
    "print(df['Feeling_1'].isna().sum())\n",
    "print(df['Feeling_2'].isna().sum())\n",
    "print(df['Feeling_3'].isna().sum())\n",
    "print(df['Negative_1'].isna().sum())\n",
    "print(df['Negative_2'].isna().sum())\n",
    "print(df['Negative_3'].isna().sum())\n",
    "print(df['Helps with_1'].isna().sum())\n",
    "print(df['Helps with_2'].isna().sum())\n",
    "print(df['Helps with_3'].isna().sum())\n",
    "print(df['THC'].isna().sum())\n",
    "print(df['CBD'].isna().sum())\n",
    "print(df['CBG'].isna().sum())\n"
   ]
  },
  {
   "cell_type": "code",
   "execution_count": 125,
   "metadata": {},
   "outputs": [],
   "source": [
    "cols = ['Feeling_1','Feeling_2','Feeling_3','Negative_1','Negative_2','Negative_3','Helps with_1','Helps with_2','Helps with_3']\n",
    "# cols = ['THC']\n",
    "feelings_complete = complete_feelings(df,cols)"
   ]
  },
  {
   "cell_type": "code",
   "execution_count": 126,
   "metadata": {},
   "outputs": [],
   "source": [
    "df = df.copy()\n",
    "df.update(feelings_complete)"
   ]
  },
  {
   "cell_type": "code",
   "execution_count": 128,
   "metadata": {},
   "outputs": [
    {
     "output_type": "stream",
     "name": "stdout",
     "text": [
      "1404\n1725\n1772\n1790\n2781\n3221\n1626\n2118\n2217\n1746\n5007\n3053\n"
     ]
    }
   ],
   "source": [
    "print(df['Feeling_1'].isna().sum())\n",
    "print(df['Feeling_2'].isna().sum())\n",
    "print(df['Feeling_3'].isna().sum())\n",
    "print(df['Negative_1'].isna().sum())\n",
    "print(df['Negative_2'].isna().sum())\n",
    "print(df['Negative_3'].isna().sum())\n",
    "print(df['Helps with_1'].isna().sum())\n",
    "print(df['Helps with_2'].isna().sum())\n",
    "print(df['Helps with_3'].isna().sum())\n",
    "print(df['THC'].isna().sum())\n",
    "print(df['CBD'].isna().sum())\n",
    "print(df['CBG'].isna().sum())"
   ]
  },
  {
   "cell_type": "code",
   "execution_count": null,
   "metadata": {},
   "outputs": [],
   "source": [
    "# curr_df = df[(df['Feeling_1'].isnull()) & (df['Feeling_2'].isnull()) & (df['Feeling_3'].isnull()) & ((df['Left Parent'].notna()) | (df['Right parent'].notna()))]\n",
    "feelings_complete.head(15)\n",
    "# feelings_complete.shape"
   ]
  },
  {
   "cell_type": "code",
   "execution_count": null,
   "metadata": {},
   "outputs": [],
   "source": [
    "df['THC'].hist(bins=30,rwidth=0.8,grid=False)\n",
    "plt.xlabel('THC%')\n",
    "plt.ylabel('Amount')\n",
    "plt.title('THC% Distribution')\n",
    "plt.show()"
   ]
  },
  {
   "cell_type": "code",
   "execution_count": null,
   "metadata": {},
   "outputs": [],
   "source": [
    "\n",
    "most_freq1 = df['Feeling_1'].value_counts()[:5].sort_index(ascending=True)\n",
    "most_freq2 = df['Feeling_2'].value_counts()[:5].sort_index(ascending=True)\n",
    "most_freq3 = df['Feeling_3'].value_counts()[:5].sort_index(ascending=True)\n",
    "\n",
    "\n",
    "freq = most_freq1 + most_freq2 + most_freq3\n",
    "\n",
    "\n",
    "freq.plot(kind='pie')\n",
    "plt.title('Top 5 Feelings')\n",
    "plt.show()"
   ]
  },
  {
   "cell_type": "code",
   "execution_count": null,
   "metadata": {},
   "outputs": [],
   "source": [
    "## Top health conditions\n",
    "\n",
    "most_freq1 = df['Helps with_1'].value_counts()[:5].sort_index(ascending=True)\n",
    "most_freq2 = df['Helps with_2'].value_counts()[:5].sort_index(ascending=True)\n",
    "most_freq3 = df['Helps with_3'].value_counts()[:5].sort_index(ascending=True)\n",
    "\n",
    "\n",
    "freq = most_freq1 + most_freq2 + most_freq3\n",
    "\n",
    "\n",
    "freq.plot(kind='bar')\n",
    "plt.show()"
   ]
  },
  {
   "cell_type": "code",
   "execution_count": null,
   "metadata": {},
   "outputs": [],
   "source": []
  }
 ]
}