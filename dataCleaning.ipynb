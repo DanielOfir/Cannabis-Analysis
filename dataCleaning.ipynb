{
 "metadata": {
  "language_info": {
   "codemirror_mode": {
    "name": "ipython",
    "version": 3
   },
   "file_extension": ".py",
   "mimetype": "text/x-python",
   "name": "python",
   "nbconvert_exporter": "python",
   "pygments_lexer": "ipython3",
   "version": "3.9.1"
  },
  "orig_nbformat": 2,
  "kernelspec": {
   "name": "python391jvsc74a57bd0aee8b7b246df8f9039afb4144a1f6fd8d2ca17a180786b69acc140d282b71a49",
   "display_name": "Python 3.9.1 64-bit"
  },
  "metadata": {
   "interpreter": {
    "hash": "aee8b7b246df8f9039afb4144a1f6fd8d2ca17a180786b69acc140d282b71a49"
   }
  }
 },
 "nbformat": 4,
 "nbformat_minor": 2,
 "cells": [
  {
   "cell_type": "code",
   "execution_count": 1,
   "metadata": {},
   "outputs": [],
   "source": [
    "import ast\n",
    "import bs4\n",
    "import time\n",
    "import json\n",
    "import requests\n",
    "import pandas as pd\n",
    "import scipy as scipy\n",
    "import numpy as np\n",
    "from bs4 import BeautifulSoup\n",
    "from datetime import datetime\n",
    "import matplotlib.pyplot as plt\n",
    "\n",
    "%matplotlib inline"
   ]
  },
  {
   "cell_type": "code",
   "execution_count": 37,
   "metadata": {},
   "outputs": [],
   "source": [
    "df = pd.read_csv('canna_df.csv')\n",
    "df['Feelings'] = df['Feelings'].map(ast.literal_eval) ## To get dicts instead of strings\n",
    "df['Cannabinoids'] = df['Cannabinoids'].map(ast.literal_eval)"
   ]
  },
  {
   "cell_type": "code",
   "execution_count": 38,
   "metadata": {},
   "outputs": [],
   "source": [
    "## Open dictionaries in columns ['Feelings','Cannabinoids'] to columns\n",
    "\n",
    "\n",
    "df = df.reset_index(drop=True) \n",
    "\n",
    "\n",
    "for i in range(5): \n",
    "    df[f'Feeling_{i+1}'] = df.apply(lambda x: x['Feelings']['Feelings'][i],axis=1) ## Turn feelings list to columns\n",
    "    df[f'Negative_{i+1}'] = df.apply(lambda x: x['Feelings']['Negatives'][i],axis=1)   \n",
    "    df[f'Helps with_{i+1}'] = df.apply(lambda x: x['Feelings']['Helps with'][i],axis=1) \n",
    "\n",
    "    df[f'Feeling_{i+1}'] = df[f'Feeling_{i+1}'].str.replace(r'\\b $','',regex=True) ## Remove space at the end of values\n",
    "    df[f'Negative_{i+1}'] = df[f'Negative_{i+1}'].str.replace(r'\\b $','',regex=True)\n",
    "    df[f'Helps with_{i+1}'] = df[f'Helps with_{i+1}'].str.replace(r'\\b $','',regex=True)\n",
    "\n",
    "\n",
    "df['THC'] = df.apply(lambda x: x['Cannabinoids']['THC'],axis=1) ## Turn Cannabinoid dict to columns\n",
    "df['CBD'] = df.apply(lambda x: x['Cannabinoids']['CBD'],axis=1) \n",
    "df['CBG'] = df.apply(lambda x: x['Cannabinoids']['CBG'],axis=1) \n",
    "\n",
    "\n",
    "df.drop(['Feelings','Cannabinoids'],inplace=True,axis=1) ## Remove old columns\n",
    "\n",
    "cols = ['Rating','Rating Users','THC','CBD','CBG']\n",
    "\n",
    "df['THC'] = df['THC'].str.replace(\"%\",'',regex=True) # Remove % from numbers\n",
    "df['CBD'] = df['CBD'].str.replace(\"%\",'',regex=True)\n",
    "df['CBG'] = df['CBG'].str.replace(\"%\",'',regex=True)\n",
    "\n",
    "\n",
    "df['CBD'].replace(\"—\",np.nan,regex=True,inplace=True) # Replace '-' values with NaN\n",
    "df['THC'].replace(\"—\",np.nan,regex=True,inplace=True)\n",
    "df['CBG'].replace(\"—\",np.nan,regex=True,inplace=True)\n",
    "\n",
    "df[cols] = df[cols].apply(pd.to_numeric) # Change columns type to numeric\n",
    "\n",
    "\n"
   ]
  },
  {
   "cell_type": "code",
   "execution_count": null,
   "metadata": {},
   "outputs": [],
   "source": [
    "\n",
    "\n"
   ]
  },
  {
   "cell_type": "code",
   "execution_count": 39,
   "metadata": {},
   "outputs": [],
   "source": [
    "def get_nan_replace_value(df,parent,mode,col):\n",
    "\n",
    "    func_df = df.loc[(df['Left Parent'] == parent) | (df['Right Parent'] == parent) | (df['Strain Name'] == parent)] ## All rows with same parent, including the parent\n",
    "\n",
    "    if mode == 'Feelings':\n",
    "        try:\n",
    "            feeling = func_df[col].value_counts().idxmax() ## Limits to look only at the same col\n",
    "\n",
    "        except Exception as e:\n",
    "            feeling = np.NaN\n",
    "\n",
    "        return feeling\n",
    "\n",
    "    elif mode == 'Cannabinoids':\n",
    "\n",
    "        mean = round(func_df[col].mean(),0)\n",
    "        \n",
    "        return mean\n",
    "\n",
    "\n",
    "\n",
    "def complete_nan(df,col_names):\n",
    "        \n",
    "    for i,col in enumerate(col_names,0):\n",
    "        if 'Feeling' in col: ## Create DF that contains 'Feeling' columns with NaN that has at least 1 parent that's not NaN\n",
    "            nanim = df[(df['Feeling_1'].isnull()) & (df['Feeling_2'].isnull()) & (df['Feeling_3'].isnull()) & (df['Feeling_4'].isnull()) & (df['Feeling_5'].isnull()) & ((df['Left Parent'].notna()) | (df['Right Parent'].notna()))].copy()\n",
    "            mode = 'Feelings'\n",
    "\n",
    "        elif 'Negative' in col:\n",
    "            nanim = df[(df['Negative_1'].isnull()) & (df['Negative_2'].isnull()) & (df['Negative_3'].isnull()) & (df['Negative_4'].isnull()) & (df['Negative_5'].isnull()) & ((df['Left Parent'].notna()) | (df['Right Parent'].notna()))].copy()\n",
    "            mode = 'Feelings'\n",
    "        \n",
    "        elif 'Helps with' in col:\n",
    "            nanim = df[(df['Helps with_1'].isnull()) & (df['Helps with_2'].isnull()) & (df['Helps with_3'].isnull()) & (df['Helps with_4'].isnull()) & (df['Helps with_5'].isnull()) & ((df['Left Parent'].notna()) | (df['Right Parent'].notna()))].copy()\n",
    "            mode = 'Feelings'\n",
    "        \n",
    "        else: ## Create DF that contains a 'Cannabinoid' column with NaN, with at least 1 parent that's not NaN\n",
    "            nanim = df[(df[col].isna()) & ((df['Left Parent'].notna()) | (df['Right Parent'].notna()))].copy() # To apply changes on real DF\n",
    "            mode = 'Cannabinoids'\n",
    "        \n",
    "        try:\n",
    "            nanim[col] = nanim.apply(lambda x: get_nan_replace_value(df,x['Left Parent'],mode,col),axis=1)\n",
    "            nanim[col] = nanim.apply(lambda x: get_nan_replace_value(df,x['Right Parent'],mode,col) if pd.isnull(x[col]) else x[col],axis=1)\n",
    "            \n",
    "            df[col].fillna(nanim[col],inplace=True)\n",
    "\n",
    "\n",
    "        except Exception as e:\n",
    "            print(e)\n",
    "            pass\n",
    "    \n",
    "\n",
    "    return df"
   ]
  },
  {
   "cell_type": "code",
   "execution_count": 40,
   "metadata": {},
   "outputs": [],
   "source": [
    "cols = ['Feeling_1','Feeling_2','Feeling_3','Feeling_4','Feeling_5','Negative_1','Negative_2','Negative_3','Negative_4','Negative_5','Helps with_1','Helps with_2','Helps with_3','Helps with_4','Helps with_5','THC','CBD','CBG']\n",
    "feelings_complete = complete_nan(df,cols) ## Fill NaN"
   ]
  },
  {
   "cell_type": "code",
   "execution_count": 10,
   "metadata": {},
   "outputs": [
    {
     "output_type": "execute_result",
     "data": {
      "text/plain": [
       "   Unnamed: 0         Strain Name    Type  Rating  Rating Users  \\\n",
       "0           0         Mind Flayer  Hybrid     NaN           NaN   \n",
       "1           1                 NaN     NaN     5.0          68.0   \n",
       "2           2         Lucid Dream  Hybrid     4.6         107.0   \n",
       "3           3  Fred Flipn’ Stoned  Indica     5.0           2.0   \n",
       "4           4         Black Magic  Indica     4.5          17.0   \n",
       "\n",
       "      Left Parent       Right Parent Left Child Right Child Feeling_1  ...  \\\n",
       "0             NaN                NaN        NaN         NaN       NaN  ...   \n",
       "1             NaN                NaN        NaN         NaN       NaN  ...   \n",
       "2      Blue Dream       Amnesia Haze        NaN         NaN  Uplifted  ...   \n",
       "3  Pink Champagne  Straight A's Haze        NaN         NaN   Relaxed  ...   \n",
       "4             NaN                NaN        NaN         NaN   Relaxed  ...   \n",
       "\n",
       "  Helps with_3 Feeling_4 Negative_4 Helps with_4 Feeling_5 Negative_5  \\\n",
       "0          NaN       NaN        NaN          NaN       NaN        NaN   \n",
       "1          NaN       NaN        NaN          NaN       NaN        NaN   \n",
       "2       Stress  Euphoric    Anxious         Pain  Creative   Headache   \n",
       "3          ADD    Tingly        NaN          PMS   Focused        NaN   \n",
       "4      Fatigue    Sleepy        NaN     Insomnia   Focused        NaN   \n",
       "\n",
       "       Helps with_5   THC   CBD  CBG  \n",
       "0               NaN  19.0   NaN  1.0  \n",
       "1               NaN   NaN   NaN  NaN  \n",
       "2           Fatigue  20.0  11.0  1.0  \n",
       "3               NaN  18.0   NaN  1.0  \n",
       "4  Lack of appetite  18.0   NaN  NaN  \n",
       "\n",
       "[5 rows x 27 columns]"
      ],
      "text/html": "<div>\n<style scoped>\n    .dataframe tbody tr th:only-of-type {\n        vertical-align: middle;\n    }\n\n    .dataframe tbody tr th {\n        vertical-align: top;\n    }\n\n    .dataframe thead th {\n        text-align: right;\n    }\n</style>\n<table border=\"1\" class=\"dataframe\">\n  <thead>\n    <tr style=\"text-align: right;\">\n      <th></th>\n      <th>Unnamed: 0</th>\n      <th>Strain Name</th>\n      <th>Type</th>\n      <th>Rating</th>\n      <th>Rating Users</th>\n      <th>Left Parent</th>\n      <th>Right Parent</th>\n      <th>Left Child</th>\n      <th>Right Child</th>\n      <th>Feeling_1</th>\n      <th>...</th>\n      <th>Helps with_3</th>\n      <th>Feeling_4</th>\n      <th>Negative_4</th>\n      <th>Helps with_4</th>\n      <th>Feeling_5</th>\n      <th>Negative_5</th>\n      <th>Helps with_5</th>\n      <th>THC</th>\n      <th>CBD</th>\n      <th>CBG</th>\n    </tr>\n  </thead>\n  <tbody>\n    <tr>\n      <th>0</th>\n      <td>0</td>\n      <td>Mind Flayer</td>\n      <td>Hybrid</td>\n      <td>NaN</td>\n      <td>NaN</td>\n      <td>NaN</td>\n      <td>NaN</td>\n      <td>NaN</td>\n      <td>NaN</td>\n      <td>NaN</td>\n      <td>...</td>\n      <td>NaN</td>\n      <td>NaN</td>\n      <td>NaN</td>\n      <td>NaN</td>\n      <td>NaN</td>\n      <td>NaN</td>\n      <td>NaN</td>\n      <td>19.0</td>\n      <td>NaN</td>\n      <td>1.0</td>\n    </tr>\n    <tr>\n      <th>1</th>\n      <td>1</td>\n      <td>NaN</td>\n      <td>NaN</td>\n      <td>5.0</td>\n      <td>68.0</td>\n      <td>NaN</td>\n      <td>NaN</td>\n      <td>NaN</td>\n      <td>NaN</td>\n      <td>NaN</td>\n      <td>...</td>\n      <td>NaN</td>\n      <td>NaN</td>\n      <td>NaN</td>\n      <td>NaN</td>\n      <td>NaN</td>\n      <td>NaN</td>\n      <td>NaN</td>\n      <td>NaN</td>\n      <td>NaN</td>\n      <td>NaN</td>\n    </tr>\n    <tr>\n      <th>2</th>\n      <td>2</td>\n      <td>Lucid Dream</td>\n      <td>Hybrid</td>\n      <td>4.6</td>\n      <td>107.0</td>\n      <td>Blue Dream</td>\n      <td>Amnesia Haze</td>\n      <td>NaN</td>\n      <td>NaN</td>\n      <td>Uplifted</td>\n      <td>...</td>\n      <td>Stress</td>\n      <td>Euphoric</td>\n      <td>Anxious</td>\n      <td>Pain</td>\n      <td>Creative</td>\n      <td>Headache</td>\n      <td>Fatigue</td>\n      <td>20.0</td>\n      <td>11.0</td>\n      <td>1.0</td>\n    </tr>\n    <tr>\n      <th>3</th>\n      <td>3</td>\n      <td>Fred Flipn’ Stoned</td>\n      <td>Indica</td>\n      <td>5.0</td>\n      <td>2.0</td>\n      <td>Pink Champagne</td>\n      <td>Straight A's Haze</td>\n      <td>NaN</td>\n      <td>NaN</td>\n      <td>Relaxed</td>\n      <td>...</td>\n      <td>ADD</td>\n      <td>Tingly</td>\n      <td>NaN</td>\n      <td>PMS</td>\n      <td>Focused</td>\n      <td>NaN</td>\n      <td>NaN</td>\n      <td>18.0</td>\n      <td>NaN</td>\n      <td>1.0</td>\n    </tr>\n    <tr>\n      <th>4</th>\n      <td>4</td>\n      <td>Black Magic</td>\n      <td>Indica</td>\n      <td>4.5</td>\n      <td>17.0</td>\n      <td>NaN</td>\n      <td>NaN</td>\n      <td>NaN</td>\n      <td>NaN</td>\n      <td>Relaxed</td>\n      <td>...</td>\n      <td>Fatigue</td>\n      <td>Sleepy</td>\n      <td>NaN</td>\n      <td>Insomnia</td>\n      <td>Focused</td>\n      <td>NaN</td>\n      <td>Lack of appetite</td>\n      <td>18.0</td>\n      <td>NaN</td>\n      <td>NaN</td>\n    </tr>\n  </tbody>\n</table>\n<p>5 rows × 27 columns</p>\n</div>"
     },
     "metadata": {},
     "execution_count": 10
    }
   ],
   "source": [
    "feelings_complete.head()"
   ]
  },
  {
   "cell_type": "code",
   "execution_count": 41,
   "metadata": {},
   "outputs": [],
   "source": [
    "df = df.copy()\n",
    "df.update(feelings_complete)\n",
    "df.columns.str.match(\"Unnamed\") ## A new column was created from some reason\n",
    "df = df.loc[:,~df.columns.str.match(\"Unnamed\")]"
   ]
  },
  {
   "cell_type": "code",
   "execution_count": 42,
   "metadata": {},
   "outputs": [],
   "source": [
    "\n",
    "\n",
    "without_rating_and_type = df[(df['Rating Users'].notna()) & (df['Type'].notna())].copy()\n",
    "# without_type = without_rating[without_rating['Type'].notna()].copy()\n"
   ]
  },
  {
   "cell_type": "code",
   "execution_count": 43,
   "metadata": {},
   "outputs": [
    {
     "output_type": "execute_result",
     "data": {
      "text/plain": [
       "           Strain Name    Type  Rating  Rating Users        Left Parent  \\\n",
       "2          Lucid Dream  Hybrid     4.6         107.0         Blue Dream   \n",
       "3   Fred Flipn’ Stoned  Indica     5.0           2.0     Pink Champagne   \n",
       "4          Black Magic  Indica     4.5          17.0                NaN   \n",
       "6           NYC Diesel  Hybrid     4.2         939.0            Afghani   \n",
       "7          Purple Goat  Hybrid     4.2           5.0         Trainwreck   \n",
       "8            Alphadawg  Hybrid     5.0           1.0           Chemdawg   \n",
       "9                Dorit  Indica     4.4           7.0                NaN   \n",
       "10        Magic Jordan  Hybrid     4.0           6.0                NaN   \n",
       "11         Sour Sunset  Hybrid     4.7          49.0        Sour Diesel   \n",
       "12     Purple Chemdawg  Indica     4.5         170.0  Granddaddy Purple   \n",
       "\n",
       "         Right Parent   Left Child        Right Child Feeling_1 Negative_1  \\\n",
       "2        Amnesia Haze          NaN                NaN  Uplifted  Dry mouth   \n",
       "3   Straight A's Haze          NaN                NaN   Relaxed  Dry mouth   \n",
       "4                 NaN          NaN                NaN   Relaxed  Dry mouth   \n",
       "6             Mexican  Blue Diesel  Strawberry Diesel     Happy  Dry mouth   \n",
       "7     Blueberry Skunk          NaN                NaN     Happy  Dry mouth   \n",
       "8                 NaN          NaN                NaN   Relaxed  Dry mouth   \n",
       "9                 NaN          NaN                NaN   Relaxed   Dry eyes   \n",
       "10                NaN          NaN                NaN   Relaxed   Dry eyes   \n",
       "11                NaN          NaN                NaN   Relaxed  Dry mouth   \n",
       "12           Chemdawg          NaN                NaN   Relaxed  Dry mouth   \n",
       "\n",
       "    ... Helps with_3  Feeling_4 Negative_4               Helps with_4  \\\n",
       "2   ...       Stress   Euphoric    Anxious                       Pain   \n",
       "3   ...          ADD     Tingly        NaN                        PMS   \n",
       "4   ...      Fatigue     Sleepy        NaN                   Insomnia   \n",
       "6   ...   Depression    Relaxed      Dizzy                       Pain   \n",
       "7   ...     Insomnia  Talkative        NaN                       Pain   \n",
       "8   ...          NaN        NaN        NaN                        NaN   \n",
       "9   ...       Stress     Tingly        NaN                    Anxiety   \n",
       "10  ...      Anxiety   Euphoric        NaN  Gastrointestinal disorder   \n",
       "11  ...      Anxiety   Uplifted      Dizzy                  Headaches   \n",
       "12  ...      Anxiety   Uplifted   Headache                 Depression   \n",
       "\n",
       "    Feeling_5 Negative_5      Helps with_5   THC   CBD  CBG  \n",
       "2    Creative   Headache           Fatigue  20.0  11.0  1.0  \n",
       "3     Focused        NaN               NaN  18.0   NaN  1.0  \n",
       "4     Focused        NaN  Lack of appetite  18.0   NaN  NaN  \n",
       "6   Energetic   Headache            Nausea  18.0   4.0  1.0  \n",
       "7    Creative        NaN           Fatigue  15.0   1.0  1.0  \n",
       "8         NaN        NaN               NaN  16.0   1.0  1.0  \n",
       "9      Sleepy        NaN         Arthritis   NaN   NaN  NaN  \n",
       "10   Uplifted        NaN              PTSD   NaN   NaN  NaN  \n",
       "11    Focused   Headache              Pain  18.0   6.0  1.0  \n",
       "12     Sleepy    Anxious          Insomnia  17.0   7.0  1.0  \n",
       "\n",
       "[10 rows x 26 columns]"
      ],
      "text/html": "<div>\n<style scoped>\n    .dataframe tbody tr th:only-of-type {\n        vertical-align: middle;\n    }\n\n    .dataframe tbody tr th {\n        vertical-align: top;\n    }\n\n    .dataframe thead th {\n        text-align: right;\n    }\n</style>\n<table border=\"1\" class=\"dataframe\">\n  <thead>\n    <tr style=\"text-align: right;\">\n      <th></th>\n      <th>Strain Name</th>\n      <th>Type</th>\n      <th>Rating</th>\n      <th>Rating Users</th>\n      <th>Left Parent</th>\n      <th>Right Parent</th>\n      <th>Left Child</th>\n      <th>Right Child</th>\n      <th>Feeling_1</th>\n      <th>Negative_1</th>\n      <th>...</th>\n      <th>Helps with_3</th>\n      <th>Feeling_4</th>\n      <th>Negative_4</th>\n      <th>Helps with_4</th>\n      <th>Feeling_5</th>\n      <th>Negative_5</th>\n      <th>Helps with_5</th>\n      <th>THC</th>\n      <th>CBD</th>\n      <th>CBG</th>\n    </tr>\n  </thead>\n  <tbody>\n    <tr>\n      <th>2</th>\n      <td>Lucid Dream</td>\n      <td>Hybrid</td>\n      <td>4.6</td>\n      <td>107.0</td>\n      <td>Blue Dream</td>\n      <td>Amnesia Haze</td>\n      <td>NaN</td>\n      <td>NaN</td>\n      <td>Uplifted</td>\n      <td>Dry mouth</td>\n      <td>...</td>\n      <td>Stress</td>\n      <td>Euphoric</td>\n      <td>Anxious</td>\n      <td>Pain</td>\n      <td>Creative</td>\n      <td>Headache</td>\n      <td>Fatigue</td>\n      <td>20.0</td>\n      <td>11.0</td>\n      <td>1.0</td>\n    </tr>\n    <tr>\n      <th>3</th>\n      <td>Fred Flipn’ Stoned</td>\n      <td>Indica</td>\n      <td>5.0</td>\n      <td>2.0</td>\n      <td>Pink Champagne</td>\n      <td>Straight A's Haze</td>\n      <td>NaN</td>\n      <td>NaN</td>\n      <td>Relaxed</td>\n      <td>Dry mouth</td>\n      <td>...</td>\n      <td>ADD</td>\n      <td>Tingly</td>\n      <td>NaN</td>\n      <td>PMS</td>\n      <td>Focused</td>\n      <td>NaN</td>\n      <td>NaN</td>\n      <td>18.0</td>\n      <td>NaN</td>\n      <td>1.0</td>\n    </tr>\n    <tr>\n      <th>4</th>\n      <td>Black Magic</td>\n      <td>Indica</td>\n      <td>4.5</td>\n      <td>17.0</td>\n      <td>NaN</td>\n      <td>NaN</td>\n      <td>NaN</td>\n      <td>NaN</td>\n      <td>Relaxed</td>\n      <td>Dry mouth</td>\n      <td>...</td>\n      <td>Fatigue</td>\n      <td>Sleepy</td>\n      <td>NaN</td>\n      <td>Insomnia</td>\n      <td>Focused</td>\n      <td>NaN</td>\n      <td>Lack of appetite</td>\n      <td>18.0</td>\n      <td>NaN</td>\n      <td>NaN</td>\n    </tr>\n    <tr>\n      <th>6</th>\n      <td>NYC Diesel</td>\n      <td>Hybrid</td>\n      <td>4.2</td>\n      <td>939.0</td>\n      <td>Afghani</td>\n      <td>Mexican</td>\n      <td>Blue Diesel</td>\n      <td>Strawberry Diesel</td>\n      <td>Happy</td>\n      <td>Dry mouth</td>\n      <td>...</td>\n      <td>Depression</td>\n      <td>Relaxed</td>\n      <td>Dizzy</td>\n      <td>Pain</td>\n      <td>Energetic</td>\n      <td>Headache</td>\n      <td>Nausea</td>\n      <td>18.0</td>\n      <td>4.0</td>\n      <td>1.0</td>\n    </tr>\n    <tr>\n      <th>7</th>\n      <td>Purple Goat</td>\n      <td>Hybrid</td>\n      <td>4.2</td>\n      <td>5.0</td>\n      <td>Trainwreck</td>\n      <td>Blueberry Skunk</td>\n      <td>NaN</td>\n      <td>NaN</td>\n      <td>Happy</td>\n      <td>Dry mouth</td>\n      <td>...</td>\n      <td>Insomnia</td>\n      <td>Talkative</td>\n      <td>NaN</td>\n      <td>Pain</td>\n      <td>Creative</td>\n      <td>NaN</td>\n      <td>Fatigue</td>\n      <td>15.0</td>\n      <td>1.0</td>\n      <td>1.0</td>\n    </tr>\n    <tr>\n      <th>8</th>\n      <td>Alphadawg</td>\n      <td>Hybrid</td>\n      <td>5.0</td>\n      <td>1.0</td>\n      <td>Chemdawg</td>\n      <td>NaN</td>\n      <td>NaN</td>\n      <td>NaN</td>\n      <td>Relaxed</td>\n      <td>Dry mouth</td>\n      <td>...</td>\n      <td>NaN</td>\n      <td>NaN</td>\n      <td>NaN</td>\n      <td>NaN</td>\n      <td>NaN</td>\n      <td>NaN</td>\n      <td>NaN</td>\n      <td>16.0</td>\n      <td>1.0</td>\n      <td>1.0</td>\n    </tr>\n    <tr>\n      <th>9</th>\n      <td>Dorit</td>\n      <td>Indica</td>\n      <td>4.4</td>\n      <td>7.0</td>\n      <td>NaN</td>\n      <td>NaN</td>\n      <td>NaN</td>\n      <td>NaN</td>\n      <td>Relaxed</td>\n      <td>Dry eyes</td>\n      <td>...</td>\n      <td>Stress</td>\n      <td>Tingly</td>\n      <td>NaN</td>\n      <td>Anxiety</td>\n      <td>Sleepy</td>\n      <td>NaN</td>\n      <td>Arthritis</td>\n      <td>NaN</td>\n      <td>NaN</td>\n      <td>NaN</td>\n    </tr>\n    <tr>\n      <th>10</th>\n      <td>Magic Jordan</td>\n      <td>Hybrid</td>\n      <td>4.0</td>\n      <td>6.0</td>\n      <td>NaN</td>\n      <td>NaN</td>\n      <td>NaN</td>\n      <td>NaN</td>\n      <td>Relaxed</td>\n      <td>Dry eyes</td>\n      <td>...</td>\n      <td>Anxiety</td>\n      <td>Euphoric</td>\n      <td>NaN</td>\n      <td>Gastrointestinal disorder</td>\n      <td>Uplifted</td>\n      <td>NaN</td>\n      <td>PTSD</td>\n      <td>NaN</td>\n      <td>NaN</td>\n      <td>NaN</td>\n    </tr>\n    <tr>\n      <th>11</th>\n      <td>Sour Sunset</td>\n      <td>Hybrid</td>\n      <td>4.7</td>\n      <td>49.0</td>\n      <td>Sour Diesel</td>\n      <td>NaN</td>\n      <td>NaN</td>\n      <td>NaN</td>\n      <td>Relaxed</td>\n      <td>Dry mouth</td>\n      <td>...</td>\n      <td>Anxiety</td>\n      <td>Uplifted</td>\n      <td>Dizzy</td>\n      <td>Headaches</td>\n      <td>Focused</td>\n      <td>Headache</td>\n      <td>Pain</td>\n      <td>18.0</td>\n      <td>6.0</td>\n      <td>1.0</td>\n    </tr>\n    <tr>\n      <th>12</th>\n      <td>Purple Chemdawg</td>\n      <td>Indica</td>\n      <td>4.5</td>\n      <td>170.0</td>\n      <td>Granddaddy Purple</td>\n      <td>Chemdawg</td>\n      <td>NaN</td>\n      <td>NaN</td>\n      <td>Relaxed</td>\n      <td>Dry mouth</td>\n      <td>...</td>\n      <td>Anxiety</td>\n      <td>Uplifted</td>\n      <td>Headache</td>\n      <td>Depression</td>\n      <td>Sleepy</td>\n      <td>Anxious</td>\n      <td>Insomnia</td>\n      <td>17.0</td>\n      <td>7.0</td>\n      <td>1.0</td>\n    </tr>\n  </tbody>\n</table>\n<p>10 rows × 26 columns</p>\n</div>"
     },
     "metadata": {},
     "execution_count": 43
    }
   ],
   "source": [
    "# without_rating.head(10)\n",
    "\n",
    "without_rating_and_type.head(10)\n",
    "\n",
    "# without_type[without_type['THC'].isna()]\n",
    "\n",
    "\n",
    "# curr = without_type[(without_type['Left Parent'].isna()) & (without_type['Right Parent'].isna()) & (without_type['THC'].isna())].copy()\n",
    "# curr[curr['Rating Users'] < 10]"
   ]
  },
  {
   "cell_type": "code",
   "execution_count": 22,
   "metadata": {},
   "outputs": [
    {
     "output_type": "execute_result",
     "data": {
      "text/plain": [
       "            Strain Name    Type  Rating  Rating Users Left Parent  \\\n",
       "2870  Straight A's Haze  Sativa     5.0           3.0    DelaHaze   \n",
       "\n",
       "     Right Parent Left Child Right Child Feeling_1 Negative_1  ...  \\\n",
       "2870          NaN        NaN         NaN     Happy  Dry mouth  ...   \n",
       "\n",
       "     Helps with_3  Feeling_4 Negative_4 Helps with_4 Feeling_5 Negative_5  \\\n",
       "2870   Depression  Talkative        NaN    Headaches   Relaxed        NaN   \n",
       "\n",
       "     Helps with_5   THC CBD  CBG  \n",
       "2870     Insomnia  18.0 NaN  1.0  \n",
       "\n",
       "[1 rows x 26 columns]"
      ],
      "text/html": "<div>\n<style scoped>\n    .dataframe tbody tr th:only-of-type {\n        vertical-align: middle;\n    }\n\n    .dataframe tbody tr th {\n        vertical-align: top;\n    }\n\n    .dataframe thead th {\n        text-align: right;\n    }\n</style>\n<table border=\"1\" class=\"dataframe\">\n  <thead>\n    <tr style=\"text-align: right;\">\n      <th></th>\n      <th>Strain Name</th>\n      <th>Type</th>\n      <th>Rating</th>\n      <th>Rating Users</th>\n      <th>Left Parent</th>\n      <th>Right Parent</th>\n      <th>Left Child</th>\n      <th>Right Child</th>\n      <th>Feeling_1</th>\n      <th>Negative_1</th>\n      <th>...</th>\n      <th>Helps with_3</th>\n      <th>Feeling_4</th>\n      <th>Negative_4</th>\n      <th>Helps with_4</th>\n      <th>Feeling_5</th>\n      <th>Negative_5</th>\n      <th>Helps with_5</th>\n      <th>THC</th>\n      <th>CBD</th>\n      <th>CBG</th>\n    </tr>\n  </thead>\n  <tbody>\n    <tr>\n      <th>2870</th>\n      <td>Straight A's Haze</td>\n      <td>Sativa</td>\n      <td>5.0</td>\n      <td>3.0</td>\n      <td>DelaHaze</td>\n      <td>NaN</td>\n      <td>NaN</td>\n      <td>NaN</td>\n      <td>Happy</td>\n      <td>Dry mouth</td>\n      <td>...</td>\n      <td>Depression</td>\n      <td>Talkative</td>\n      <td>NaN</td>\n      <td>Headaches</td>\n      <td>Relaxed</td>\n      <td>NaN</td>\n      <td>Insomnia</td>\n      <td>18.0</td>\n      <td>NaN</td>\n      <td>1.0</td>\n    </tr>\n  </tbody>\n</table>\n<p>1 rows × 26 columns</p>\n</div>"
     },
     "metadata": {},
     "execution_count": 22
    }
   ],
   "source": [
    "# df[df['Strain Name'] == \"Straight A's Haze\"]"
   ]
  },
  {
   "cell_type": "code",
   "execution_count": 15,
   "metadata": {},
   "outputs": [
    {
     "output_type": "execute_result",
     "data": {
      "text/plain": [
       "                 Strain Name    Type  Rating  Rating Users     Left Parent  \\\n",
       "0                Mind Flayer  Hybrid     NaN           NaN             NaN   \n",
       "1                        NaN     NaN     5.0          68.0             NaN   \n",
       "2                Lucid Dream  Hybrid     4.6         107.0      Blue Dream   \n",
       "3         Fred Flipn’ Stoned  Indica     5.0           2.0  Pink Champagne   \n",
       "4                Black Magic  Indica     4.5          17.0             NaN   \n",
       "5  Chocolate Frosted Sherbet     NaN     5.0           2.0             NaN   \n",
       "6                 NYC Diesel  Hybrid     4.2         939.0         Afghani   \n",
       "7                Purple Goat  Hybrid     4.2           5.0      Trainwreck   \n",
       "8                  Alphadawg  Hybrid     5.0           1.0        Chemdawg   \n",
       "9                      Dorit  Indica     4.4           7.0             NaN   \n",
       "\n",
       "        Right Parent   Left Child        Right Child Feeling_1 Negative_1  \\\n",
       "0                NaN          NaN                NaN       NaN        NaN   \n",
       "1                NaN          NaN                NaN       NaN        NaN   \n",
       "2       Amnesia Haze          NaN                NaN  Uplifted  Dry mouth   \n",
       "3  Straight A's Haze          NaN                NaN   Relaxed  Dry mouth   \n",
       "4                NaN          NaN                NaN   Relaxed  Dry mouth   \n",
       "5                NaN          NaN                NaN       NaN        NaN   \n",
       "6            Mexican  Blue Diesel  Strawberry Diesel     Happy  Dry mouth   \n",
       "7    Blueberry Skunk          NaN                NaN     Happy  Dry mouth   \n",
       "8                NaN          NaN                NaN   Relaxed  Dry mouth   \n",
       "9                NaN          NaN                NaN   Relaxed   Dry eyes   \n",
       "\n",
       "   ... Helps with_3  Feeling_4 Negative_4 Helps with_4  Feeling_5 Negative_5  \\\n",
       "0  ...          NaN        NaN        NaN          NaN        NaN        NaN   \n",
       "1  ...          NaN        NaN        NaN          NaN        NaN        NaN   \n",
       "2  ...       Stress   Euphoric    Anxious         Pain   Creative   Headache   \n",
       "3  ...          ADD     Tingly        NaN          PMS    Focused        NaN   \n",
       "4  ...      Fatigue     Sleepy        NaN     Insomnia    Focused        NaN   \n",
       "5  ...          NaN        NaN        NaN          NaN        NaN        NaN   \n",
       "6  ...   Depression    Relaxed      Dizzy         Pain  Energetic   Headache   \n",
       "7  ...     Insomnia  Talkative        NaN         Pain   Creative        NaN   \n",
       "8  ...          NaN        NaN        NaN          NaN        NaN        NaN   \n",
       "9  ...       Stress     Tingly        NaN      Anxiety     Sleepy        NaN   \n",
       "\n",
       "       Helps with_5   THC   CBD  CBG  \n",
       "0               NaN  19.0   NaN  1.0  \n",
       "1               NaN   NaN   NaN  NaN  \n",
       "2           Fatigue  20.0  11.0  1.0  \n",
       "3               NaN  18.0   NaN  1.0  \n",
       "4  Lack of appetite  18.0   NaN  NaN  \n",
       "5               NaN  25.0   NaN  1.0  \n",
       "6            Nausea  18.0   4.0  1.0  \n",
       "7           Fatigue  15.0   1.0  1.0  \n",
       "8               NaN  16.0   1.0  1.0  \n",
       "9         Arthritis   NaN   NaN  NaN  \n",
       "\n",
       "[10 rows x 26 columns]"
      ],
      "text/html": "<div>\n<style scoped>\n    .dataframe tbody tr th:only-of-type {\n        vertical-align: middle;\n    }\n\n    .dataframe tbody tr th {\n        vertical-align: top;\n    }\n\n    .dataframe thead th {\n        text-align: right;\n    }\n</style>\n<table border=\"1\" class=\"dataframe\">\n  <thead>\n    <tr style=\"text-align: right;\">\n      <th></th>\n      <th>Strain Name</th>\n      <th>Type</th>\n      <th>Rating</th>\n      <th>Rating Users</th>\n      <th>Left Parent</th>\n      <th>Right Parent</th>\n      <th>Left Child</th>\n      <th>Right Child</th>\n      <th>Feeling_1</th>\n      <th>Negative_1</th>\n      <th>...</th>\n      <th>Helps with_3</th>\n      <th>Feeling_4</th>\n      <th>Negative_4</th>\n      <th>Helps with_4</th>\n      <th>Feeling_5</th>\n      <th>Negative_5</th>\n      <th>Helps with_5</th>\n      <th>THC</th>\n      <th>CBD</th>\n      <th>CBG</th>\n    </tr>\n  </thead>\n  <tbody>\n    <tr>\n      <th>0</th>\n      <td>Mind Flayer</td>\n      <td>Hybrid</td>\n      <td>NaN</td>\n      <td>NaN</td>\n      <td>NaN</td>\n      <td>NaN</td>\n      <td>NaN</td>\n      <td>NaN</td>\n      <td>NaN</td>\n      <td>NaN</td>\n      <td>...</td>\n      <td>NaN</td>\n      <td>NaN</td>\n      <td>NaN</td>\n      <td>NaN</td>\n      <td>NaN</td>\n      <td>NaN</td>\n      <td>NaN</td>\n      <td>19.0</td>\n      <td>NaN</td>\n      <td>1.0</td>\n    </tr>\n    <tr>\n      <th>1</th>\n      <td>NaN</td>\n      <td>NaN</td>\n      <td>5.0</td>\n      <td>68.0</td>\n      <td>NaN</td>\n      <td>NaN</td>\n      <td>NaN</td>\n      <td>NaN</td>\n      <td>NaN</td>\n      <td>NaN</td>\n      <td>...</td>\n      <td>NaN</td>\n      <td>NaN</td>\n      <td>NaN</td>\n      <td>NaN</td>\n      <td>NaN</td>\n      <td>NaN</td>\n      <td>NaN</td>\n      <td>NaN</td>\n      <td>NaN</td>\n      <td>NaN</td>\n    </tr>\n    <tr>\n      <th>2</th>\n      <td>Lucid Dream</td>\n      <td>Hybrid</td>\n      <td>4.6</td>\n      <td>107.0</td>\n      <td>Blue Dream</td>\n      <td>Amnesia Haze</td>\n      <td>NaN</td>\n      <td>NaN</td>\n      <td>Uplifted</td>\n      <td>Dry mouth</td>\n      <td>...</td>\n      <td>Stress</td>\n      <td>Euphoric</td>\n      <td>Anxious</td>\n      <td>Pain</td>\n      <td>Creative</td>\n      <td>Headache</td>\n      <td>Fatigue</td>\n      <td>20.0</td>\n      <td>11.0</td>\n      <td>1.0</td>\n    </tr>\n    <tr>\n      <th>3</th>\n      <td>Fred Flipn’ Stoned</td>\n      <td>Indica</td>\n      <td>5.0</td>\n      <td>2.0</td>\n      <td>Pink Champagne</td>\n      <td>Straight A's Haze</td>\n      <td>NaN</td>\n      <td>NaN</td>\n      <td>Relaxed</td>\n      <td>Dry mouth</td>\n      <td>...</td>\n      <td>ADD</td>\n      <td>Tingly</td>\n      <td>NaN</td>\n      <td>PMS</td>\n      <td>Focused</td>\n      <td>NaN</td>\n      <td>NaN</td>\n      <td>18.0</td>\n      <td>NaN</td>\n      <td>1.0</td>\n    </tr>\n    <tr>\n      <th>4</th>\n      <td>Black Magic</td>\n      <td>Indica</td>\n      <td>4.5</td>\n      <td>17.0</td>\n      <td>NaN</td>\n      <td>NaN</td>\n      <td>NaN</td>\n      <td>NaN</td>\n      <td>Relaxed</td>\n      <td>Dry mouth</td>\n      <td>...</td>\n      <td>Fatigue</td>\n      <td>Sleepy</td>\n      <td>NaN</td>\n      <td>Insomnia</td>\n      <td>Focused</td>\n      <td>NaN</td>\n      <td>Lack of appetite</td>\n      <td>18.0</td>\n      <td>NaN</td>\n      <td>NaN</td>\n    </tr>\n    <tr>\n      <th>5</th>\n      <td>Chocolate Frosted Sherbet</td>\n      <td>NaN</td>\n      <td>5.0</td>\n      <td>2.0</td>\n      <td>NaN</td>\n      <td>NaN</td>\n      <td>NaN</td>\n      <td>NaN</td>\n      <td>NaN</td>\n      <td>NaN</td>\n      <td>...</td>\n      <td>NaN</td>\n      <td>NaN</td>\n      <td>NaN</td>\n      <td>NaN</td>\n      <td>NaN</td>\n      <td>NaN</td>\n      <td>NaN</td>\n      <td>25.0</td>\n      <td>NaN</td>\n      <td>1.0</td>\n    </tr>\n    <tr>\n      <th>6</th>\n      <td>NYC Diesel</td>\n      <td>Hybrid</td>\n      <td>4.2</td>\n      <td>939.0</td>\n      <td>Afghani</td>\n      <td>Mexican</td>\n      <td>Blue Diesel</td>\n      <td>Strawberry Diesel</td>\n      <td>Happy</td>\n      <td>Dry mouth</td>\n      <td>...</td>\n      <td>Depression</td>\n      <td>Relaxed</td>\n      <td>Dizzy</td>\n      <td>Pain</td>\n      <td>Energetic</td>\n      <td>Headache</td>\n      <td>Nausea</td>\n      <td>18.0</td>\n      <td>4.0</td>\n      <td>1.0</td>\n    </tr>\n    <tr>\n      <th>7</th>\n      <td>Purple Goat</td>\n      <td>Hybrid</td>\n      <td>4.2</td>\n      <td>5.0</td>\n      <td>Trainwreck</td>\n      <td>Blueberry Skunk</td>\n      <td>NaN</td>\n      <td>NaN</td>\n      <td>Happy</td>\n      <td>Dry mouth</td>\n      <td>...</td>\n      <td>Insomnia</td>\n      <td>Talkative</td>\n      <td>NaN</td>\n      <td>Pain</td>\n      <td>Creative</td>\n      <td>NaN</td>\n      <td>Fatigue</td>\n      <td>15.0</td>\n      <td>1.0</td>\n      <td>1.0</td>\n    </tr>\n    <tr>\n      <th>8</th>\n      <td>Alphadawg</td>\n      <td>Hybrid</td>\n      <td>5.0</td>\n      <td>1.0</td>\n      <td>Chemdawg</td>\n      <td>NaN</td>\n      <td>NaN</td>\n      <td>NaN</td>\n      <td>Relaxed</td>\n      <td>Dry mouth</td>\n      <td>...</td>\n      <td>NaN</td>\n      <td>NaN</td>\n      <td>NaN</td>\n      <td>NaN</td>\n      <td>NaN</td>\n      <td>NaN</td>\n      <td>NaN</td>\n      <td>16.0</td>\n      <td>1.0</td>\n      <td>1.0</td>\n    </tr>\n    <tr>\n      <th>9</th>\n      <td>Dorit</td>\n      <td>Indica</td>\n      <td>4.4</td>\n      <td>7.0</td>\n      <td>NaN</td>\n      <td>NaN</td>\n      <td>NaN</td>\n      <td>NaN</td>\n      <td>Relaxed</td>\n      <td>Dry eyes</td>\n      <td>...</td>\n      <td>Stress</td>\n      <td>Tingly</td>\n      <td>NaN</td>\n      <td>Anxiety</td>\n      <td>Sleepy</td>\n      <td>NaN</td>\n      <td>Arthritis</td>\n      <td>NaN</td>\n      <td>NaN</td>\n      <td>NaN</td>\n    </tr>\n  </tbody>\n</table>\n<p>10 rows × 26 columns</p>\n</div>"
     },
     "metadata": {},
     "execution_count": 15
    }
   ],
   "source": [
    "df.head(10)"
   ]
  },
  {
   "cell_type": "code",
   "execution_count": 44,
   "metadata": {},
   "outputs": [],
   "source": [
    "\n",
    "without_rating_and_type.to_csv('clean_df.csv')"
   ]
  },
  {
   "cell_type": "code",
   "execution_count": null,
   "metadata": {},
   "outputs": [],
   "source": []
  }
 ]
}