{
 "metadata": {
  "language_info": {
   "codemirror_mode": {
    "name": "ipython",
    "version": 3
   },
   "file_extension": ".py",
   "mimetype": "text/x-python",
   "name": "python",
   "nbconvert_exporter": "python",
   "pygments_lexer": "ipython3",
   "version": "3.9.1"
  },
  "orig_nbformat": 2,
  "kernelspec": {
   "name": "python391jvsc74a57bd0aee8b7b246df8f9039afb4144a1f6fd8d2ca17a180786b69acc140d282b71a49",
   "display_name": "Python 3.9.1 64-bit"
  },
  "metadata": {
   "interpreter": {
    "hash": "aee8b7b246df8f9039afb4144a1f6fd8d2ca17a180786b69acc140d282b71a49"
   }
  }
 },
 "nbformat": 4,
 "nbformat_minor": 2,
 "cells": [
  {
   "cell_type": "code",
   "execution_count": null,
   "metadata": {},
   "outputs": [],
   "source": [
    "import ast\n",
    "import bs4\n",
    "import time\n",
    "import json\n",
    "import requests\n",
    "import pandas as pd\n",
    "import scipy as scipy\n",
    "import numpy as np\n",
    "from bs4 import BeautifulSoup\n",
    "from datetime import datetime\n",
    "import matplotlib.pyplot as plt\n",
    "\n",
    "%matplotlib inline"
   ]
  },
  {
   "cell_type": "code",
   "execution_count": 2,
   "metadata": {},
   "outputs": [],
   "source": [
    "df = pd.read_csv('canna_df.csv')\n",
    "df['Feelings'] = df['Feelings'].map(ast.literal_eval) ## To get dicts instead of strings\n",
    "df['Cannabinoids'] = df['Cannabinoids'].map(ast.literal_eval)"
   ]
  },
  {
   "cell_type": "code",
   "execution_count": 3,
   "metadata": {},
   "outputs": [],
   "source": [
    "## Open dictionaries in columns ['Feelings','Cannabinoids'] to columns\n",
    "\n",
    "df = df.reset_index(drop=True)\n",
    "\n",
    "\n",
    "for i in range(5): \n",
    "    df[f'Feeling_{i}'] = df.apply(lambda x: x['Feelings']['Feelings'][i],axis=1) ## Turn feelings list to columns\n",
    "    df[f'Negative_{i}'] = df.apply(lambda x: x['Feelings']['Negatives'][i],axis=1) ## Turn negative feelings list to columns\n",
    "    df[f'Helps with_{i}'] = df.apply(lambda x: x['Feelings']['Helps with'][i],axis=1) ## Turn helps with list to columns\n",
    "\n",
    "    df[f'Feeling_{i}'] = df[f'Feeling_{i}'].str.replace(r'\\b $','',regex=True) ## Remove space at the end of values\n",
    "    df[f'Negative_{i}'] = df[f'Negative_{i}'].str.replace(r'\\b $','',regex=True)\n",
    "    df[f'Helps with_{i}'] = df[f'Helps with_{i}'].str.replace(r'\\b $','',regex=True)\n",
    "\n",
    "\n",
    "df['THC'] = df.apply(lambda x: x['Cannabinoids']['THC'],axis=1) ## Turn Cannabinoid dict to columns\n",
    "df['CBD'] = df.apply(lambda x: x['Cannabinoids']['CBD'],axis=1) \n",
    "df['CBG'] = df.apply(lambda x: x['Cannabinoids']['CBG'],axis=1) \n",
    "\n",
    "\n",
    "df.drop(['Feelings','Cannabinoids'],inplace=True,axis=1) ## Remove old columns\n",
    "\n",
    "cols = ['Rating','Rating Users','THC','CBD','CBG']\n",
    "\n",
    "df['THC'] = df['THC'].str.replace(\"%\",'',regex=True) # Remove % from numbers\n",
    "df['CBD'] = df['CBD'].str.replace(\"%\",'',regex=True)\n",
    "df['CBG'] = df['CBG'].str.replace(\"%\",'',regex=True)\n",
    "\n",
    "\n",
    "df['CBD'].replace(\"—\",np.nan,regex=True,inplace=True) # Replace '-' values with NaN\n",
    "df['THC'].replace(\"—\",np.nan,regex=True,inplace=True)\n",
    "df['CBG'].replace(\"—\",np.nan,regex=True,inplace=True)\n",
    "\n",
    "df[cols] = df[cols].apply(pd.to_numeric) # Change columns type to numeric\n",
    "\n",
    "\n",
    "\n"
   ]
  },
  {
   "cell_type": "code",
   "execution_count": 10,
   "metadata": {},
   "outputs": [
    {
     "output_type": "execute_result",
     "data": {
      "text/plain": [
       "                  Strain Name    Type  Rating  Rating Users  \\\n",
       "6              Seattle Summer  Hybrid     5.0           4.0   \n",
       "8                Stashsquatch  Hybrid     NaN           NaN   \n",
       "9                 Lashkar Gah  Indica     4.7          15.0   \n",
       "13             Rise ‘n’ Shine  Hybrid     4.7           7.0   \n",
       "37          Sugartown Express  Hybrid     NaN           NaN   \n",
       "...                       ...     ...     ...           ...   \n",
       "5121               Flo Limone  Sativa     4.7          13.0   \n",
       "5124                Americano  Indica     4.6           5.0   \n",
       "5135  Concord Grape Blockhead  Hybrid     4.3           4.0   \n",
       "5138           American Dream  Hybrid     4.6          19.0   \n",
       "5154           Margaret Cho-G  Hybrid     4.8           4.0   \n",
       "\n",
       "            Left Parent Right parent       Left Child     Right Child  \\\n",
       "6       Gorilla Cookies          NaN              NaN             NaN   \n",
       "8                   GSC      True OG  Lemon Stash CBD  Lazy Susan CBD   \n",
       "9               Afghani          NaN              NaN             NaN   \n",
       "13          Green Crack  Sour Bubble              NaN             NaN   \n",
       "37    Purple Trainwreck          NaN              NaN             NaN   \n",
       "...                 ...          ...              ...             ...   \n",
       "5121                Flo          NaN              NaN             NaN   \n",
       "5124    Northern Lights      Skunk 1              NaN             NaN   \n",
       "5135        Sweet Tooth          NaN              NaN             NaN   \n",
       "5138           Hawaiian     Jamaican              NaN             NaN   \n",
       "5154            OG Kush          NaN              NaN             NaN   \n",
       "\n",
       "      Feeling_0 Negative_0  ... Helps with_2 Feeling_3 Negative_3  \\\n",
       "6      Uplifted       None  ...         None      None       None   \n",
       "8          None       None  ...         None      None       None   \n",
       "9       Relaxed  Dry mouth  ...         PTSD     Happy       None   \n",
       "13    Talkative   Dry eyes  ...       Cramps  Uplifted       None   \n",
       "37         None       None  ...         None      None       None   \n",
       "...         ...        ...  ...          ...       ...        ...   \n",
       "5121   Uplifted   Dry eyes  ...       Stress   Relaxed       None   \n",
       "5124    Relaxed   Dry eyes  ...         Pain  Creative       None   \n",
       "5135   Creative  Dry mouth  ...         None    Hungry       None   \n",
       "5138   Euphoric  Dry mouth  ...   Depression    Tingly       None   \n",
       "5154    Relaxed  Dry mouth  ...       Stress  Uplifted       None   \n",
       "\n",
       "          Helps with_3  Feeling_4 Negative_4      Helps with_4 THC CBD CBG  \n",
       "6                 None       None       None              None NaN NaN NaN  \n",
       "8                 None       None       None              None NaN NaN NaN  \n",
       "9             Insomnia     Hungry       None  Lack of appetite NaN NaN NaN  \n",
       "13        Eye pressure     Tingly       None         Headaches NaN NaN NaN  \n",
       "37                None       None       None              None NaN NaN NaN  \n",
       "...                ...        ...        ...               ...  ..  ..  ..  \n",
       "5121        Depression  Talkative       None           Fatigue NaN NaN NaN  \n",
       "5124              None  Energetic       None              None NaN NaN NaN  \n",
       "5135              None      Happy       None              None NaN NaN NaN  \n",
       "5138  Lack of appetite    Focused       None           Anxiety NaN NaN NaN  \n",
       "5154         Arthritis  Talkative       None            Cramps NaN NaN NaN  \n",
       "\n",
       "[692 rows x 26 columns]"
      ],
      "text/html": "<div>\n<style scoped>\n    .dataframe tbody tr th:only-of-type {\n        vertical-align: middle;\n    }\n\n    .dataframe tbody tr th {\n        vertical-align: top;\n    }\n\n    .dataframe thead th {\n        text-align: right;\n    }\n</style>\n<table border=\"1\" class=\"dataframe\">\n  <thead>\n    <tr style=\"text-align: right;\">\n      <th></th>\n      <th>Strain Name</th>\n      <th>Type</th>\n      <th>Rating</th>\n      <th>Rating Users</th>\n      <th>Left Parent</th>\n      <th>Right parent</th>\n      <th>Left Child</th>\n      <th>Right Child</th>\n      <th>Feeling_0</th>\n      <th>Negative_0</th>\n      <th>...</th>\n      <th>Helps with_2</th>\n      <th>Feeling_3</th>\n      <th>Negative_3</th>\n      <th>Helps with_3</th>\n      <th>Feeling_4</th>\n      <th>Negative_4</th>\n      <th>Helps with_4</th>\n      <th>THC</th>\n      <th>CBD</th>\n      <th>CBG</th>\n    </tr>\n  </thead>\n  <tbody>\n    <tr>\n      <th>6</th>\n      <td>Seattle Summer</td>\n      <td>Hybrid</td>\n      <td>5.0</td>\n      <td>4.0</td>\n      <td>Gorilla Cookies</td>\n      <td>NaN</td>\n      <td>NaN</td>\n      <td>NaN</td>\n      <td>Uplifted</td>\n      <td>None</td>\n      <td>...</td>\n      <td>None</td>\n      <td>None</td>\n      <td>None</td>\n      <td>None</td>\n      <td>None</td>\n      <td>None</td>\n      <td>None</td>\n      <td>NaN</td>\n      <td>NaN</td>\n      <td>NaN</td>\n    </tr>\n    <tr>\n      <th>8</th>\n      <td>Stashsquatch</td>\n      <td>Hybrid</td>\n      <td>NaN</td>\n      <td>NaN</td>\n      <td>GSC</td>\n      <td>True OG</td>\n      <td>Lemon Stash CBD</td>\n      <td>Lazy Susan CBD</td>\n      <td>None</td>\n      <td>None</td>\n      <td>...</td>\n      <td>None</td>\n      <td>None</td>\n      <td>None</td>\n      <td>None</td>\n      <td>None</td>\n      <td>None</td>\n      <td>None</td>\n      <td>NaN</td>\n      <td>NaN</td>\n      <td>NaN</td>\n    </tr>\n    <tr>\n      <th>9</th>\n      <td>Lashkar Gah</td>\n      <td>Indica</td>\n      <td>4.7</td>\n      <td>15.0</td>\n      <td>Afghani</td>\n      <td>NaN</td>\n      <td>NaN</td>\n      <td>NaN</td>\n      <td>Relaxed</td>\n      <td>Dry mouth</td>\n      <td>...</td>\n      <td>PTSD</td>\n      <td>Happy</td>\n      <td>None</td>\n      <td>Insomnia</td>\n      <td>Hungry</td>\n      <td>None</td>\n      <td>Lack of appetite</td>\n      <td>NaN</td>\n      <td>NaN</td>\n      <td>NaN</td>\n    </tr>\n    <tr>\n      <th>13</th>\n      <td>Rise ‘n’ Shine</td>\n      <td>Hybrid</td>\n      <td>4.7</td>\n      <td>7.0</td>\n      <td>Green Crack</td>\n      <td>Sour Bubble</td>\n      <td>NaN</td>\n      <td>NaN</td>\n      <td>Talkative</td>\n      <td>Dry eyes</td>\n      <td>...</td>\n      <td>Cramps</td>\n      <td>Uplifted</td>\n      <td>None</td>\n      <td>Eye pressure</td>\n      <td>Tingly</td>\n      <td>None</td>\n      <td>Headaches</td>\n      <td>NaN</td>\n      <td>NaN</td>\n      <td>NaN</td>\n    </tr>\n    <tr>\n      <th>37</th>\n      <td>Sugartown Express</td>\n      <td>Hybrid</td>\n      <td>NaN</td>\n      <td>NaN</td>\n      <td>Purple Trainwreck</td>\n      <td>NaN</td>\n      <td>NaN</td>\n      <td>NaN</td>\n      <td>None</td>\n      <td>None</td>\n      <td>...</td>\n      <td>None</td>\n      <td>None</td>\n      <td>None</td>\n      <td>None</td>\n      <td>None</td>\n      <td>None</td>\n      <td>None</td>\n      <td>NaN</td>\n      <td>NaN</td>\n      <td>NaN</td>\n    </tr>\n    <tr>\n      <th>...</th>\n      <td>...</td>\n      <td>...</td>\n      <td>...</td>\n      <td>...</td>\n      <td>...</td>\n      <td>...</td>\n      <td>...</td>\n      <td>...</td>\n      <td>...</td>\n      <td>...</td>\n      <td>...</td>\n      <td>...</td>\n      <td>...</td>\n      <td>...</td>\n      <td>...</td>\n      <td>...</td>\n      <td>...</td>\n      <td>...</td>\n      <td>...</td>\n      <td>...</td>\n      <td>...</td>\n    </tr>\n    <tr>\n      <th>5121</th>\n      <td>Flo Limone</td>\n      <td>Sativa</td>\n      <td>4.7</td>\n      <td>13.0</td>\n      <td>Flo</td>\n      <td>NaN</td>\n      <td>NaN</td>\n      <td>NaN</td>\n      <td>Uplifted</td>\n      <td>Dry eyes</td>\n      <td>...</td>\n      <td>Stress</td>\n      <td>Relaxed</td>\n      <td>None</td>\n      <td>Depression</td>\n      <td>Talkative</td>\n      <td>None</td>\n      <td>Fatigue</td>\n      <td>NaN</td>\n      <td>NaN</td>\n      <td>NaN</td>\n    </tr>\n    <tr>\n      <th>5124</th>\n      <td>Americano</td>\n      <td>Indica</td>\n      <td>4.6</td>\n      <td>5.0</td>\n      <td>Northern Lights</td>\n      <td>Skunk 1</td>\n      <td>NaN</td>\n      <td>NaN</td>\n      <td>Relaxed</td>\n      <td>Dry eyes</td>\n      <td>...</td>\n      <td>Pain</td>\n      <td>Creative</td>\n      <td>None</td>\n      <td>None</td>\n      <td>Energetic</td>\n      <td>None</td>\n      <td>None</td>\n      <td>NaN</td>\n      <td>NaN</td>\n      <td>NaN</td>\n    </tr>\n    <tr>\n      <th>5135</th>\n      <td>Concord Grape Blockhead</td>\n      <td>Hybrid</td>\n      <td>4.3</td>\n      <td>4.0</td>\n      <td>Sweet Tooth</td>\n      <td>NaN</td>\n      <td>NaN</td>\n      <td>NaN</td>\n      <td>Creative</td>\n      <td>Dry mouth</td>\n      <td>...</td>\n      <td>None</td>\n      <td>Hungry</td>\n      <td>None</td>\n      <td>None</td>\n      <td>Happy</td>\n      <td>None</td>\n      <td>None</td>\n      <td>NaN</td>\n      <td>NaN</td>\n      <td>NaN</td>\n    </tr>\n    <tr>\n      <th>5138</th>\n      <td>American Dream</td>\n      <td>Hybrid</td>\n      <td>4.6</td>\n      <td>19.0</td>\n      <td>Hawaiian</td>\n      <td>Jamaican</td>\n      <td>NaN</td>\n      <td>NaN</td>\n      <td>Euphoric</td>\n      <td>Dry mouth</td>\n      <td>...</td>\n      <td>Depression</td>\n      <td>Tingly</td>\n      <td>None</td>\n      <td>Lack of appetite</td>\n      <td>Focused</td>\n      <td>None</td>\n      <td>Anxiety</td>\n      <td>NaN</td>\n      <td>NaN</td>\n      <td>NaN</td>\n    </tr>\n    <tr>\n      <th>5154</th>\n      <td>Margaret Cho-G</td>\n      <td>Hybrid</td>\n      <td>4.8</td>\n      <td>4.0</td>\n      <td>OG Kush</td>\n      <td>NaN</td>\n      <td>NaN</td>\n      <td>NaN</td>\n      <td>Relaxed</td>\n      <td>Dry mouth</td>\n      <td>...</td>\n      <td>Stress</td>\n      <td>Uplifted</td>\n      <td>None</td>\n      <td>Arthritis</td>\n      <td>Talkative</td>\n      <td>None</td>\n      <td>Cramps</td>\n      <td>NaN</td>\n      <td>NaN</td>\n      <td>NaN</td>\n    </tr>\n  </tbody>\n</table>\n<p>692 rows × 26 columns</p>\n</div>"
     },
     "metadata": {},
     "execution_count": 10
    }
   ],
   "source": [
    "nanim = df[(df['THC'].isna()) & ((df['Left Parent'].notna()) | (df['Right parent'].notna()))] ## THC NaN, at least one parent\n",
    "\n",
    "nanim.columns.str.match(\"Unnamed\") ## A new column was created from some reason\n",
    "nanim.loc[:,~nanim.columns.str.match(\"Unnamed\")]"
   ]
  },
  {
   "cell_type": "code",
   "execution_count": 11,
   "metadata": {},
   "outputs": [],
   "source": [
    "## Fill missing THC values\n",
    "\n",
    "def my_func(df,parent):\n",
    "\n",
    "    func_df = df.loc[(df['Left Parent'] == parent) | (df['Right parent'] == parent) | (df['Strain Name'] == parent)] ## All rows with same parent, including the parent\n",
    "    mean = round(func_df['THC'].mean(),0)\n",
    "\n",
    "    return mean\n",
    "\n",
    "def complete_cannabinoids_nan(df):\n",
    "    \n",
    "    nanim = df[(df['THC'].isna()) & ((df['Left Parent'].notna()) | (df['Right parent'].notna()))].copy() # To apply changes on real DF\n",
    "\n",
    "    nanim['THC'] = nanim.apply(lambda x: my_func(df,x['Left Parent']),axis=1)\n",
    "    nanim['THC'] = nanim.apply(lambda x: my_func(df,x['Right parent']) if pd.isnull(x['THC']) else x['THC'],axis=1)\n",
    "\n",
    "    return nanim\n",
    "\n",
    "# nanim.head()\n",
    "\n",
    "# nanim = nanim.copy() # To apply changes on real DF\n",
    "\n",
    "# nanim['THC'] = nanim.apply(lambda x: my_func(df,x['Left Parent']),axis=1)\n",
    "# nanim['THC'] = nanim.apply(lambda x: my_func(df,x['Right parent']) if pd.isnull(x['THC']) else x['THC'],axis=1)\n",
    "\n",
    "\n",
    "\n"
   ]
  },
  {
   "cell_type": "code",
   "execution_count": 12,
   "metadata": {},
   "outputs": [],
   "source": [
    "nanim_df = complete_cannabinoids_nan(df)"
   ]
  },
  {
   "cell_type": "code",
   "execution_count": 13,
   "metadata": {},
   "outputs": [
    {
     "output_type": "execute_result",
     "data": {
      "text/plain": [
       "      Unnamed: 0           Strain Name    Type  Rating  Rating Users  \\\n",
       "186          186         Frosted Freak  Hybrid     4.9          75.0   \n",
       "291          291            Journeymen  Hybrid     NaN           NaN   \n",
       "910          910              Krakatoa  Hybrid     4.0           2.0   \n",
       "1356        1356         Hayley's Haze  Sativa     5.0           5.0   \n",
       "1703        1703                Hobbit  Hybrid     NaN           NaN   \n",
       "2018        2018    Siddhartha’s Dream  Hybrid     NaN           NaN   \n",
       "2497        2497        Lazy Susan CBD  Hybrid     NaN           NaN   \n",
       "2990        2990            Pebble Pie  Hybrid     NaN           NaN   \n",
       "3031        3031  Blueberry Space Cake  Indica     4.7          76.0   \n",
       "3177        3177     Maui Citrus Punch  Sativa     4.6           8.0   \n",
       "3563        3563       Lemon Stash CBD  Hybrid     5.0           2.0   \n",
       "5040        5040            Acid Dough  Sativa     4.8          24.0   \n",
       "\n",
       "         Left Parent    Right parent Left Child Right Child Feeling_0  ...  \\\n",
       "186          Brand X             NaN        NaN         NaN     Happy  ...   \n",
       "291          Odyssey             NaN        NaN         NaN      None  ...   \n",
       "910          Mau-Mau             NaN        NaN         NaN  Euphoric  ...   \n",
       "1356     Outer Space  Alien Dutchess        NaN         NaN      None  ...   \n",
       "1703      Ginger Ale             NaN        NaN         NaN      None  ...   \n",
       "2018  Buddha’s Tooth             NaN        NaN         NaN      None  ...   \n",
       "2497    Stashsquatch             NaN        NaN         NaN      None  ...   \n",
       "2990          Pie 95             NaN        NaN         NaN      None  ...   \n",
       "3031     Outer Space  Alien Dutchess        NaN         NaN   Relaxed  ...   \n",
       "3177    Tangelo Kush             NaN        NaN         NaN  Uplifted  ...   \n",
       "3563    Stashsquatch             NaN        NaN         NaN    Tingly  ...   \n",
       "5040           Congo             NaN        NaN         NaN  Uplifted  ...   \n",
       "\n",
       "      Helps with_2 Feeling_3 Negative_3   Helps with_3  Feeling_4 Negative_4  \\\n",
       "186     Depression  Uplifted       None        Anxiety     Tingly       None   \n",
       "291           None      None       None           None       None       None   \n",
       "910           Pain    Sleepy       None         Stress     Hungry       None   \n",
       "1356          None      None       None           None       None       None   \n",
       "1703          None      None       None           None       None       None   \n",
       "2018          None      None       None           None       None       None   \n",
       "2497          None      None       None           None       None       None   \n",
       "2990          None      None       None           None       None       None   \n",
       "3031     Migraines     Happy       None      Headaches   Euphoric       None   \n",
       "3177  Inflammation     Happy       None  Muscle spasms  Talkative       None   \n",
       "3563          None     Happy       None           None       None       None   \n",
       "5040       Fatigue  Creative       None           PTSD   Euphoric       None   \n",
       "\n",
       "          Helps with_4 THC CBD CBG  \n",
       "186               Pain NaN NaN NaN  \n",
       "291               None NaN NaN NaN  \n",
       "910            Anxiety NaN NaN NaN  \n",
       "1356              None NaN NaN NaN  \n",
       "1703              None NaN NaN NaN  \n",
       "2018              None NaN NaN NaN  \n",
       "2497              None NaN NaN NaN  \n",
       "2990              None NaN NaN NaN  \n",
       "3031          Insomnia NaN NaN NaN  \n",
       "3177              Pain NaN NaN NaN  \n",
       "3563              None NaN NaN NaN  \n",
       "5040  Lack of appetite NaN NaN NaN  \n",
       "\n",
       "[12 rows x 27 columns]"
      ],
      "text/html": "<div>\n<style scoped>\n    .dataframe tbody tr th:only-of-type {\n        vertical-align: middle;\n    }\n\n    .dataframe tbody tr th {\n        vertical-align: top;\n    }\n\n    .dataframe thead th {\n        text-align: right;\n    }\n</style>\n<table border=\"1\" class=\"dataframe\">\n  <thead>\n    <tr style=\"text-align: right;\">\n      <th></th>\n      <th>Unnamed: 0</th>\n      <th>Strain Name</th>\n      <th>Type</th>\n      <th>Rating</th>\n      <th>Rating Users</th>\n      <th>Left Parent</th>\n      <th>Right parent</th>\n      <th>Left Child</th>\n      <th>Right Child</th>\n      <th>Feeling_0</th>\n      <th>...</th>\n      <th>Helps with_2</th>\n      <th>Feeling_3</th>\n      <th>Negative_3</th>\n      <th>Helps with_3</th>\n      <th>Feeling_4</th>\n      <th>Negative_4</th>\n      <th>Helps with_4</th>\n      <th>THC</th>\n      <th>CBD</th>\n      <th>CBG</th>\n    </tr>\n  </thead>\n  <tbody>\n    <tr>\n      <th>186</th>\n      <td>186</td>\n      <td>Frosted Freak</td>\n      <td>Hybrid</td>\n      <td>4.9</td>\n      <td>75.0</td>\n      <td>Brand X</td>\n      <td>NaN</td>\n      <td>NaN</td>\n      <td>NaN</td>\n      <td>Happy</td>\n      <td>...</td>\n      <td>Depression</td>\n      <td>Uplifted</td>\n      <td>None</td>\n      <td>Anxiety</td>\n      <td>Tingly</td>\n      <td>None</td>\n      <td>Pain</td>\n      <td>NaN</td>\n      <td>NaN</td>\n      <td>NaN</td>\n    </tr>\n    <tr>\n      <th>291</th>\n      <td>291</td>\n      <td>Journeymen</td>\n      <td>Hybrid</td>\n      <td>NaN</td>\n      <td>NaN</td>\n      <td>Odyssey</td>\n      <td>NaN</td>\n      <td>NaN</td>\n      <td>NaN</td>\n      <td>None</td>\n      <td>...</td>\n      <td>None</td>\n      <td>None</td>\n      <td>None</td>\n      <td>None</td>\n      <td>None</td>\n      <td>None</td>\n      <td>None</td>\n      <td>NaN</td>\n      <td>NaN</td>\n      <td>NaN</td>\n    </tr>\n    <tr>\n      <th>910</th>\n      <td>910</td>\n      <td>Krakatoa</td>\n      <td>Hybrid</td>\n      <td>4.0</td>\n      <td>2.0</td>\n      <td>Mau-Mau</td>\n      <td>NaN</td>\n      <td>NaN</td>\n      <td>NaN</td>\n      <td>Euphoric</td>\n      <td>...</td>\n      <td>Pain</td>\n      <td>Sleepy</td>\n      <td>None</td>\n      <td>Stress</td>\n      <td>Hungry</td>\n      <td>None</td>\n      <td>Anxiety</td>\n      <td>NaN</td>\n      <td>NaN</td>\n      <td>NaN</td>\n    </tr>\n    <tr>\n      <th>1356</th>\n      <td>1356</td>\n      <td>Hayley's Haze</td>\n      <td>Sativa</td>\n      <td>5.0</td>\n      <td>5.0</td>\n      <td>Outer Space</td>\n      <td>Alien Dutchess</td>\n      <td>NaN</td>\n      <td>NaN</td>\n      <td>None</td>\n      <td>...</td>\n      <td>None</td>\n      <td>None</td>\n      <td>None</td>\n      <td>None</td>\n      <td>None</td>\n      <td>None</td>\n      <td>None</td>\n      <td>NaN</td>\n      <td>NaN</td>\n      <td>NaN</td>\n    </tr>\n    <tr>\n      <th>1703</th>\n      <td>1703</td>\n      <td>Hobbit</td>\n      <td>Hybrid</td>\n      <td>NaN</td>\n      <td>NaN</td>\n      <td>Ginger Ale</td>\n      <td>NaN</td>\n      <td>NaN</td>\n      <td>NaN</td>\n      <td>None</td>\n      <td>...</td>\n      <td>None</td>\n      <td>None</td>\n      <td>None</td>\n      <td>None</td>\n      <td>None</td>\n      <td>None</td>\n      <td>None</td>\n      <td>NaN</td>\n      <td>NaN</td>\n      <td>NaN</td>\n    </tr>\n    <tr>\n      <th>2018</th>\n      <td>2018</td>\n      <td>Siddhartha’s Dream</td>\n      <td>Hybrid</td>\n      <td>NaN</td>\n      <td>NaN</td>\n      <td>Buddha’s Tooth</td>\n      <td>NaN</td>\n      <td>NaN</td>\n      <td>NaN</td>\n      <td>None</td>\n      <td>...</td>\n      <td>None</td>\n      <td>None</td>\n      <td>None</td>\n      <td>None</td>\n      <td>None</td>\n      <td>None</td>\n      <td>None</td>\n      <td>NaN</td>\n      <td>NaN</td>\n      <td>NaN</td>\n    </tr>\n    <tr>\n      <th>2497</th>\n      <td>2497</td>\n      <td>Lazy Susan CBD</td>\n      <td>Hybrid</td>\n      <td>NaN</td>\n      <td>NaN</td>\n      <td>Stashsquatch</td>\n      <td>NaN</td>\n      <td>NaN</td>\n      <td>NaN</td>\n      <td>None</td>\n      <td>...</td>\n      <td>None</td>\n      <td>None</td>\n      <td>None</td>\n      <td>None</td>\n      <td>None</td>\n      <td>None</td>\n      <td>None</td>\n      <td>NaN</td>\n      <td>NaN</td>\n      <td>NaN</td>\n    </tr>\n    <tr>\n      <th>2990</th>\n      <td>2990</td>\n      <td>Pebble Pie</td>\n      <td>Hybrid</td>\n      <td>NaN</td>\n      <td>NaN</td>\n      <td>Pie 95</td>\n      <td>NaN</td>\n      <td>NaN</td>\n      <td>NaN</td>\n      <td>None</td>\n      <td>...</td>\n      <td>None</td>\n      <td>None</td>\n      <td>None</td>\n      <td>None</td>\n      <td>None</td>\n      <td>None</td>\n      <td>None</td>\n      <td>NaN</td>\n      <td>NaN</td>\n      <td>NaN</td>\n    </tr>\n    <tr>\n      <th>3031</th>\n      <td>3031</td>\n      <td>Blueberry Space Cake</td>\n      <td>Indica</td>\n      <td>4.7</td>\n      <td>76.0</td>\n      <td>Outer Space</td>\n      <td>Alien Dutchess</td>\n      <td>NaN</td>\n      <td>NaN</td>\n      <td>Relaxed</td>\n      <td>...</td>\n      <td>Migraines</td>\n      <td>Happy</td>\n      <td>None</td>\n      <td>Headaches</td>\n      <td>Euphoric</td>\n      <td>None</td>\n      <td>Insomnia</td>\n      <td>NaN</td>\n      <td>NaN</td>\n      <td>NaN</td>\n    </tr>\n    <tr>\n      <th>3177</th>\n      <td>3177</td>\n      <td>Maui Citrus Punch</td>\n      <td>Sativa</td>\n      <td>4.6</td>\n      <td>8.0</td>\n      <td>Tangelo Kush</td>\n      <td>NaN</td>\n      <td>NaN</td>\n      <td>NaN</td>\n      <td>Uplifted</td>\n      <td>...</td>\n      <td>Inflammation</td>\n      <td>Happy</td>\n      <td>None</td>\n      <td>Muscle spasms</td>\n      <td>Talkative</td>\n      <td>None</td>\n      <td>Pain</td>\n      <td>NaN</td>\n      <td>NaN</td>\n      <td>NaN</td>\n    </tr>\n    <tr>\n      <th>3563</th>\n      <td>3563</td>\n      <td>Lemon Stash CBD</td>\n      <td>Hybrid</td>\n      <td>5.0</td>\n      <td>2.0</td>\n      <td>Stashsquatch</td>\n      <td>NaN</td>\n      <td>NaN</td>\n      <td>NaN</td>\n      <td>Tingly</td>\n      <td>...</td>\n      <td>None</td>\n      <td>Happy</td>\n      <td>None</td>\n      <td>None</td>\n      <td>None</td>\n      <td>None</td>\n      <td>None</td>\n      <td>NaN</td>\n      <td>NaN</td>\n      <td>NaN</td>\n    </tr>\n    <tr>\n      <th>5040</th>\n      <td>5040</td>\n      <td>Acid Dough</td>\n      <td>Sativa</td>\n      <td>4.8</td>\n      <td>24.0</td>\n      <td>Congo</td>\n      <td>NaN</td>\n      <td>NaN</td>\n      <td>NaN</td>\n      <td>Uplifted</td>\n      <td>...</td>\n      <td>Fatigue</td>\n      <td>Creative</td>\n      <td>None</td>\n      <td>PTSD</td>\n      <td>Euphoric</td>\n      <td>None</td>\n      <td>Lack of appetite</td>\n      <td>NaN</td>\n      <td>NaN</td>\n      <td>NaN</td>\n    </tr>\n  </tbody>\n</table>\n<p>12 rows × 27 columns</p>\n</div>"
     },
     "metadata": {},
     "execution_count": 13
    }
   ],
   "source": [
    "nanim_df[nanim_df['THC'].isna()]"
   ]
  },
  {
   "cell_type": "code",
   "execution_count": 14,
   "metadata": {},
   "outputs": [],
   "source": [
    "df2 = df.copy()\n",
    "df2.update(nanim_df)"
   ]
  },
  {
   "cell_type": "code",
   "execution_count": 16,
   "metadata": {},
   "outputs": [
    {
     "output_type": "execute_result",
     "data": {
      "text/plain": [
       "      Unnamed: 0        Strain Name    Type  Rating  Rating Users Left Parent  \\\n",
       "2            2.0             Y Life  Hybrid     4.0           2.0         NaN   \n",
       "3            3.0       Purple Reign  Hybrid     4.2          17.0         NaN   \n",
       "5            5.0  Peach Cheesewreck     NaN     NaN           NaN         NaN   \n",
       "15          15.0    Weekend Warrior     NaN     NaN           NaN         NaN   \n",
       "16          16.0        Mixed Berry     NaN     4.3           6.0         NaN   \n",
       "...          ...                ...     ...     ...           ...         ...   \n",
       "5146      5146.0        KickFlip #6     NaN     NaN           NaN         NaN   \n",
       "5148      5148.0        Humpty XIII     NaN     NaN           NaN         NaN   \n",
       "5155      5155.0        Cherry Icee     NaN     4.3           6.0         NaN   \n",
       "5157      5157.0            G Purps     NaN     3.6          11.0         NaN   \n",
       "5161      5161.0           Heist OG     NaN     NaN           NaN         NaN   \n",
       "\n",
       "     Right parent Left Child Right Child Feeling_0  ... Helps with_2  \\\n",
       "2             NaN        NaN         NaN  Uplifted  ...         None   \n",
       "3             NaN        NaN         NaN   Relaxed  ...      Anxiety   \n",
       "5             NaN        NaN         NaN      None  ...         None   \n",
       "15            NaN        NaN         NaN      None  ...         None   \n",
       "16            NaN        NaN         NaN    Tingly  ...         None   \n",
       "...           ...        ...         ...       ...  ...          ...   \n",
       "5146          NaN        NaN         NaN      None  ...         None   \n",
       "5148          NaN        NaN         NaN      None  ...         None   \n",
       "5155          NaN        NaN         NaN      None  ...         None   \n",
       "5157          NaN        NaN         NaN      None  ...         None   \n",
       "5161          NaN        NaN         NaN      None  ...         None   \n",
       "\n",
       "     Feeling_3 Negative_3 Helps with_3 Feeling_4 Negative_4 Helps with_4 THC  \\\n",
       "2         None       None         None      None       None         None NaN   \n",
       "3       Tingly       None         None   Focused       None         None NaN   \n",
       "5         None       None         None      None       None         None NaN   \n",
       "15        None       None         None      None       None         None NaN   \n",
       "16     Relaxed       None         None     Happy       None         None NaN   \n",
       "...        ...        ...          ...       ...        ...          ...  ..   \n",
       "5146      None       None         None      None       None         None NaN   \n",
       "5148      None       None         None      None       None         None NaN   \n",
       "5155      None       None         None      None       None         None NaN   \n",
       "5157      None       None         None      None       None         None NaN   \n",
       "5161      None       None         None      None       None         None NaN   \n",
       "\n",
       "     CBD CBG  \n",
       "2    NaN NaN  \n",
       "3    NaN NaN  \n",
       "5    NaN NaN  \n",
       "15   NaN NaN  \n",
       "16   NaN NaN  \n",
       "...   ..  ..  \n",
       "5146 NaN NaN  \n",
       "5148 NaN NaN  \n",
       "5155 NaN NaN  \n",
       "5157 NaN NaN  \n",
       "5161 NaN NaN  \n",
       "\n",
       "[1066 rows x 27 columns]"
      ],
      "text/html": "<div>\n<style scoped>\n    .dataframe tbody tr th:only-of-type {\n        vertical-align: middle;\n    }\n\n    .dataframe tbody tr th {\n        vertical-align: top;\n    }\n\n    .dataframe thead th {\n        text-align: right;\n    }\n</style>\n<table border=\"1\" class=\"dataframe\">\n  <thead>\n    <tr style=\"text-align: right;\">\n      <th></th>\n      <th>Unnamed: 0</th>\n      <th>Strain Name</th>\n      <th>Type</th>\n      <th>Rating</th>\n      <th>Rating Users</th>\n      <th>Left Parent</th>\n      <th>Right parent</th>\n      <th>Left Child</th>\n      <th>Right Child</th>\n      <th>Feeling_0</th>\n      <th>...</th>\n      <th>Helps with_2</th>\n      <th>Feeling_3</th>\n      <th>Negative_3</th>\n      <th>Helps with_3</th>\n      <th>Feeling_4</th>\n      <th>Negative_4</th>\n      <th>Helps with_4</th>\n      <th>THC</th>\n      <th>CBD</th>\n      <th>CBG</th>\n    </tr>\n  </thead>\n  <tbody>\n    <tr>\n      <th>2</th>\n      <td>2.0</td>\n      <td>Y Life</td>\n      <td>Hybrid</td>\n      <td>4.0</td>\n      <td>2.0</td>\n      <td>NaN</td>\n      <td>NaN</td>\n      <td>NaN</td>\n      <td>NaN</td>\n      <td>Uplifted</td>\n      <td>...</td>\n      <td>None</td>\n      <td>None</td>\n      <td>None</td>\n      <td>None</td>\n      <td>None</td>\n      <td>None</td>\n      <td>None</td>\n      <td>NaN</td>\n      <td>NaN</td>\n      <td>NaN</td>\n    </tr>\n    <tr>\n      <th>3</th>\n      <td>3.0</td>\n      <td>Purple Reign</td>\n      <td>Hybrid</td>\n      <td>4.2</td>\n      <td>17.0</td>\n      <td>NaN</td>\n      <td>NaN</td>\n      <td>NaN</td>\n      <td>NaN</td>\n      <td>Relaxed</td>\n      <td>...</td>\n      <td>Anxiety</td>\n      <td>Tingly</td>\n      <td>None</td>\n      <td>None</td>\n      <td>Focused</td>\n      <td>None</td>\n      <td>None</td>\n      <td>NaN</td>\n      <td>NaN</td>\n      <td>NaN</td>\n    </tr>\n    <tr>\n      <th>5</th>\n      <td>5.0</td>\n      <td>Peach Cheesewreck</td>\n      <td>NaN</td>\n      <td>NaN</td>\n      <td>NaN</td>\n      <td>NaN</td>\n      <td>NaN</td>\n      <td>NaN</td>\n      <td>NaN</td>\n      <td>None</td>\n      <td>...</td>\n      <td>None</td>\n      <td>None</td>\n      <td>None</td>\n      <td>None</td>\n      <td>None</td>\n      <td>None</td>\n      <td>None</td>\n      <td>NaN</td>\n      <td>NaN</td>\n      <td>NaN</td>\n    </tr>\n    <tr>\n      <th>15</th>\n      <td>15.0</td>\n      <td>Weekend Warrior</td>\n      <td>NaN</td>\n      <td>NaN</td>\n      <td>NaN</td>\n      <td>NaN</td>\n      <td>NaN</td>\n      <td>NaN</td>\n      <td>NaN</td>\n      <td>None</td>\n      <td>...</td>\n      <td>None</td>\n      <td>None</td>\n      <td>None</td>\n      <td>None</td>\n      <td>None</td>\n      <td>None</td>\n      <td>None</td>\n      <td>NaN</td>\n      <td>NaN</td>\n      <td>NaN</td>\n    </tr>\n    <tr>\n      <th>16</th>\n      <td>16.0</td>\n      <td>Mixed Berry</td>\n      <td>NaN</td>\n      <td>4.3</td>\n      <td>6.0</td>\n      <td>NaN</td>\n      <td>NaN</td>\n      <td>NaN</td>\n      <td>NaN</td>\n      <td>Tingly</td>\n      <td>...</td>\n      <td>None</td>\n      <td>Relaxed</td>\n      <td>None</td>\n      <td>None</td>\n      <td>Happy</td>\n      <td>None</td>\n      <td>None</td>\n      <td>NaN</td>\n      <td>NaN</td>\n      <td>NaN</td>\n    </tr>\n    <tr>\n      <th>...</th>\n      <td>...</td>\n      <td>...</td>\n      <td>...</td>\n      <td>...</td>\n      <td>...</td>\n      <td>...</td>\n      <td>...</td>\n      <td>...</td>\n      <td>...</td>\n      <td>...</td>\n      <td>...</td>\n      <td>...</td>\n      <td>...</td>\n      <td>...</td>\n      <td>...</td>\n      <td>...</td>\n      <td>...</td>\n      <td>...</td>\n      <td>...</td>\n      <td>...</td>\n      <td>...</td>\n    </tr>\n    <tr>\n      <th>5146</th>\n      <td>5146.0</td>\n      <td>KickFlip #6</td>\n      <td>NaN</td>\n      <td>NaN</td>\n      <td>NaN</td>\n      <td>NaN</td>\n      <td>NaN</td>\n      <td>NaN</td>\n      <td>NaN</td>\n      <td>None</td>\n      <td>...</td>\n      <td>None</td>\n      <td>None</td>\n      <td>None</td>\n      <td>None</td>\n      <td>None</td>\n      <td>None</td>\n      <td>None</td>\n      <td>NaN</td>\n      <td>NaN</td>\n      <td>NaN</td>\n    </tr>\n    <tr>\n      <th>5148</th>\n      <td>5148.0</td>\n      <td>Humpty XIII</td>\n      <td>NaN</td>\n      <td>NaN</td>\n      <td>NaN</td>\n      <td>NaN</td>\n      <td>NaN</td>\n      <td>NaN</td>\n      <td>NaN</td>\n      <td>None</td>\n      <td>...</td>\n      <td>None</td>\n      <td>None</td>\n      <td>None</td>\n      <td>None</td>\n      <td>None</td>\n      <td>None</td>\n      <td>None</td>\n      <td>NaN</td>\n      <td>NaN</td>\n      <td>NaN</td>\n    </tr>\n    <tr>\n      <th>5155</th>\n      <td>5155.0</td>\n      <td>Cherry Icee</td>\n      <td>NaN</td>\n      <td>4.3</td>\n      <td>6.0</td>\n      <td>NaN</td>\n      <td>NaN</td>\n      <td>NaN</td>\n      <td>NaN</td>\n      <td>None</td>\n      <td>...</td>\n      <td>None</td>\n      <td>None</td>\n      <td>None</td>\n      <td>None</td>\n      <td>None</td>\n      <td>None</td>\n      <td>None</td>\n      <td>NaN</td>\n      <td>NaN</td>\n      <td>NaN</td>\n    </tr>\n    <tr>\n      <th>5157</th>\n      <td>5157.0</td>\n      <td>G Purps</td>\n      <td>NaN</td>\n      <td>3.6</td>\n      <td>11.0</td>\n      <td>NaN</td>\n      <td>NaN</td>\n      <td>NaN</td>\n      <td>NaN</td>\n      <td>None</td>\n      <td>...</td>\n      <td>None</td>\n      <td>None</td>\n      <td>None</td>\n      <td>None</td>\n      <td>None</td>\n      <td>None</td>\n      <td>None</td>\n      <td>NaN</td>\n      <td>NaN</td>\n      <td>NaN</td>\n    </tr>\n    <tr>\n      <th>5161</th>\n      <td>5161.0</td>\n      <td>Heist OG</td>\n      <td>NaN</td>\n      <td>NaN</td>\n      <td>NaN</td>\n      <td>NaN</td>\n      <td>NaN</td>\n      <td>NaN</td>\n      <td>NaN</td>\n      <td>None</td>\n      <td>...</td>\n      <td>None</td>\n      <td>None</td>\n      <td>None</td>\n      <td>None</td>\n      <td>None</td>\n      <td>None</td>\n      <td>None</td>\n      <td>NaN</td>\n      <td>NaN</td>\n      <td>NaN</td>\n    </tr>\n  </tbody>\n</table>\n<p>1066 rows × 27 columns</p>\n</div>"
     },
     "metadata": {},
     "execution_count": 16
    }
   ],
   "source": [
    "\n",
    "df2[df2['THC'].isna()]\n",
    "\n",
    "\n",
    "# nanim['THC'].isna()\n",
    "\n",
    "# df[df['Strain Name'] == 'Alien Dutchess']\n",
    "# df.loc[(df['Left Parent'] == 'Alien Dutchess') | (df['Right parent'] == 'Alien Dutchess') | (df['Strain Name'] == 'Alien Dutchess')]\n",
    "# nanim.head(10)"
   ]
  },
  {
   "cell_type": "code",
   "execution_count": null,
   "metadata": {},
   "outputs": [],
   "source": []
  },
  {
   "cell_type": "code",
   "execution_count": null,
   "metadata": {},
   "outputs": [],
   "source": [
    "df['THC'].hist(bins=30,rwidth=0.8,grid=False)\n",
    "plt.xlabel('THC%')\n",
    "plt.ylabel('Amount')\n",
    "plt.title('THC% Distribution')\n",
    "plt.show()"
   ]
  },
  {
   "cell_type": "code",
   "execution_count": null,
   "metadata": {},
   "outputs": [],
   "source": [
    "\n",
    "most_freq1 = df['Feeling_1'].value_counts()[:5].sort_index(ascending=True)\n",
    "most_freq2 = df['Feeling_2'].value_counts()[:5].sort_index(ascending=True)\n",
    "most_freq3 = df['Feeling_3'].value_counts()[:5].sort_index(ascending=True)\n",
    "\n",
    "\n",
    "freq = most_freq1 + most_freq2 + most_freq3\n",
    "\n",
    "\n",
    "freq.plot(kind='pie')\n",
    "plt.title('Top 5 Feelings')\n",
    "plt.show()"
   ]
  },
  {
   "cell_type": "code",
   "execution_count": null,
   "metadata": {},
   "outputs": [],
   "source": [
    "## Top health conditions\n",
    "\n",
    "most_freq1 = df['Helps with_1'].value_counts()[:5].sort_index(ascending=True)\n",
    "most_freq2 = df['Helps with_2'].value_counts()[:5].sort_index(ascending=True)\n",
    "most_freq3 = df['Helps with_3'].value_counts()[:5].sort_index(ascending=True)\n",
    "\n",
    "\n",
    "freq = most_freq1 + most_freq2 + most_freq3\n",
    "\n",
    "\n",
    "freq.plot(kind='bar')\n",
    "plt.show()"
   ]
  },
  {
   "cell_type": "code",
   "execution_count": null,
   "metadata": {},
   "outputs": [],
   "source": []
  }
 ]
}