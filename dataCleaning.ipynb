{
 "metadata": {
  "language_info": {
   "codemirror_mode": {
    "name": "ipython",
    "version": 3
   },
   "file_extension": ".py",
   "mimetype": "text/x-python",
   "name": "python",
   "nbconvert_exporter": "python",
   "pygments_lexer": "ipython3",
   "version": "3.9.1"
  },
  "orig_nbformat": 2,
  "kernelspec": {
   "name": "python391jvsc74a57bd0aee8b7b246df8f9039afb4144a1f6fd8d2ca17a180786b69acc140d282b71a49",
   "display_name": "Python 3.9.1 64-bit"
  },
  "metadata": {
   "interpreter": {
    "hash": "aee8b7b246df8f9039afb4144a1f6fd8d2ca17a180786b69acc140d282b71a49"
   }
  }
 },
 "nbformat": 4,
 "nbformat_minor": 2,
 "cells": [
  {
   "cell_type": "code",
   "execution_count": 1,
   "metadata": {},
   "outputs": [],
   "source": [
    "import ast\n",
    "import bs4\n",
    "import time\n",
    "import json\n",
    "import requests\n",
    "import pandas as pd\n",
    "import scipy as scipy\n",
    "import numpy as np\n",
    "from bs4 import BeautifulSoup\n",
    "from datetime import datetime\n",
    "import matplotlib.pyplot as plt\n",
    "\n",
    "%matplotlib inline"
   ]
  },
  {
   "cell_type": "code",
   "execution_count": 13,
   "metadata": {},
   "outputs": [],
   "source": [
    "df = pd.read_csv('canna_df.csv')\n",
    "df['Feelings'] = df['Feelings'].map(ast.literal_eval) ## To get dicts instead of strings\n",
    "df['Cannabinoids'] = df['Cannabinoids'].map(ast.literal_eval)"
   ]
  },
  {
   "cell_type": "code",
   "execution_count": 14,
   "metadata": {},
   "outputs": [],
   "source": [
    "## Open dictionaries in columns ['Feelings','Cannabinoids'] to columns\n",
    "\n",
    "\n",
    "df = df.reset_index(drop=True) \n",
    "\n",
    "\n",
    "for i in range(5): \n",
    "    df[f'Feeling_{i+1}'] = df.apply(lambda x: x['Feelings']['Feelings'][i],axis=1) ## Turn feelings list to columns\n",
    "    df[f'Negative_{i+1}'] = df.apply(lambda x: x['Feelings']['Negatives'][i],axis=1)   \n",
    "    df[f'Helps with_{i+1}'] = df.apply(lambda x: x['Feelings']['Helps with'][i],axis=1) \n",
    "\n",
    "    df[f'Feeling_{i+1}'] = df[f'Feeling_{i+1}'].str.replace(r'\\b $','',regex=True) ## Remove space at the end of values\n",
    "    df[f'Negative_{i+1}'] = df[f'Negative_{i+1}'].str.replace(r'\\b $','',regex=True)\n",
    "    df[f'Helps with_{i+1}'] = df[f'Helps with_{i+1}'].str.replace(r'\\b $','',regex=True)\n",
    "\n",
    "\n",
    "df['THC'] = df.apply(lambda x: x['Cannabinoids']['THC'],axis=1) ## Turn Cannabinoid dict to columns\n",
    "df['CBD'] = df.apply(lambda x: x['Cannabinoids']['CBD'],axis=1) \n",
    "df['CBG'] = df.apply(lambda x: x['Cannabinoids']['CBG'],axis=1) \n",
    "\n",
    "\n",
    "df.drop(['Feelings','Cannabinoids'],inplace=True,axis=1) ## Remove old columns\n",
    "\n",
    "cols = ['Rating','Rating Users','THC','CBD','CBG']\n",
    "\n",
    "df['THC'] = df['THC'].str.replace(\"%\",'',regex=True) # Remove % from numbers\n",
    "df['CBD'] = df['CBD'].str.replace(\"%\",'',regex=True)\n",
    "df['CBG'] = df['CBG'].str.replace(\"%\",'',regex=True)\n",
    "\n",
    "\n",
    "df['CBD'].replace(\"—\",np.nan,regex=True,inplace=True) # Replace '-' values with NaN\n",
    "df['THC'].replace(\"—\",np.nan,regex=True,inplace=True)\n",
    "df['CBG'].replace(\"—\",np.nan,regex=True,inplace=True)\n",
    "\n",
    "df[cols] = df[cols].apply(pd.to_numeric) # Change columns type to numeric\n",
    "\n",
    "\n"
   ]
  },
  {
   "cell_type": "code",
   "execution_count": null,
   "metadata": {},
   "outputs": [],
   "source": [
    "\n",
    "\n"
   ]
  },
  {
   "cell_type": "code",
   "execution_count": 15,
   "metadata": {},
   "outputs": [],
   "source": [
    "def get_nan_replace_value(df,parent,mode,col):\n",
    "\n",
    "    func_df = df.loc[(df['Left Parent'] == parent) | (df['Right Parent'] == parent) | (df['Strain Name'] == parent)] ## All rows with same parent, including the parent\n",
    "\n",
    "    if mode == 'Feelings' or mode == 'Terpenes':\n",
    "        try:\n",
    "            feeling = func_df[col].value_counts().idxmax() ## Limits to look only at the same col\n",
    "\n",
    "        except Exception as e:\n",
    "            feeling = np.NaN\n",
    "\n",
    "        return feeling\n",
    "\n",
    "    elif mode == 'Cannabinoids':\n",
    "\n",
    "        mean = round(func_df[col].mean(),0)\n",
    "        \n",
    "        return mean\n",
    "\n",
    "\n",
    "\n",
    "def complete_nan(df,col_names):\n",
    "        \n",
    "    for i,col in enumerate(col_names,0):\n",
    "        print(f'Working on {col}')\n",
    "        if 'Feeling' in col: ## Create DF that contains 'Feeling' columns with NaN that has at least 1 parent that's not NaN\n",
    "            nanim = df[(df['Feeling_1'].isnull()) & (df['Feeling_2'].isnull()) & (df['Feeling_3'].isnull()) & (df['Feeling_4'].isnull()) & (df['Feeling_5'].isnull()) & ((df['Left Parent'].notna()) | (df['Right Parent'].notna()))].copy()\n",
    "            mode = 'Feelings'\n",
    "\n",
    "        elif 'Negative' in col:\n",
    "            nanim = df[(df['Negative_1'].isnull()) & (df['Negative_2'].isnull()) & (df['Negative_3'].isnull()) & (df['Negative_4'].isnull()) & (df['Negative_5'].isnull()) & ((df['Left Parent'].notna()) | (df['Right Parent'].notna()))].copy()\n",
    "            mode = 'Feelings'\n",
    "        \n",
    "        elif 'Helps with' in col: ## Might be better to put in for loop\n",
    "            nanim = df[(df['Helps with_1'].isnull()) & (df['Helps with_2'].isnull()) & (df['Helps with_3'].isnull()) & (df['Helps with_4'].isnull()) & (df['Helps with_5'].isnull()) & ((df['Left Parent'].notna()) | (df['Right Parent'].notna()))].copy()\n",
    "            mode = 'Feelings'\n",
    "        \n",
    "        else: ## Create DF that contains a 'Cannabinoid' column with NaN, with at least 1 parent that's not NaN\n",
    "            nanim = df[(df[col].isna()) & ((df['Left Parent'].notna()) | (df['Right Parent'].notna()))].copy() # To apply changes on real DF\n",
    "            if col == 'Top Terpene':\n",
    "                mode = 'Terpenes'\n",
    "            else:\n",
    "                mode = 'Cannabinoids'\n",
    "        \n",
    "        try:\n",
    "            nanim[col] = nanim.apply(lambda x: get_nan_replace_value(df,x['Left Parent'],mode,col),axis=1)\n",
    "            nanim[col] = nanim.apply(lambda x: get_nan_replace_value(df,x['Right Parent'],mode,col) if pd.isnull(x[col]) else x[col],axis=1)\n",
    "            \n",
    "            df[col].fillna(nanim[col],inplace=True)\n",
    "\n",
    "\n",
    "        except Exception as e:\n",
    "            print(e)\n",
    "            pass\n",
    "    \n",
    "\n",
    "    return df"
   ]
  },
  {
   "cell_type": "code",
   "execution_count": null,
   "metadata": {},
   "outputs": [],
   "source": [
    "df['Top Terpene'].isna().sum()"
   ]
  },
  {
   "cell_type": "code",
   "execution_count": 16,
   "metadata": {},
   "outputs": [
    {
     "output_type": "stream",
     "name": "stdout",
     "text": [
      "Working on Feeling_1\n",
      "Working on Feeling_2\n",
      "Working on Feeling_3\n",
      "Working on Feeling_4\n",
      "Working on Feeling_5\n",
      "Working on Negative_1\n",
      "Working on Negative_2\n",
      "Working on Negative_3\n",
      "Working on Negative_4\n",
      "Working on Negative_5\n",
      "Working on Helps with_1\n",
      "Working on Helps with_2\n",
      "Working on Helps with_3\n",
      "Working on Helps with_4\n",
      "Working on Helps with_5\n",
      "Working on THC\n",
      "Working on CBD\n",
      "Working on CBG\n",
      "Working on Top Terpene\n"
     ]
    }
   ],
   "source": [
    "cols = ['Feeling_1','Feeling_2','Feeling_3','Feeling_4','Feeling_5','Negative_1','Negative_2','Negative_3','Negative_4','Negative_5','Helps with_1','Helps with_2','Helps with_3','Helps with_4','Helps with_5','THC','CBD','CBG','Top Terpene']\n",
    "feelings_complete = complete_nan(df,cols) ## Fill NaN"
   ]
  },
  {
   "cell_type": "code",
   "execution_count": null,
   "metadata": {},
   "outputs": [],
   "source": [
    "# feelings_complete.head()\n",
    "df['Top Terpene'].isna().sum()"
   ]
  },
  {
   "cell_type": "code",
   "execution_count": 17,
   "metadata": {},
   "outputs": [],
   "source": [
    "df = df.copy()\n",
    "df.update(feelings_complete)\n",
    "df.columns.str.match(\"Unnamed\") ## A new column was created from some reason\n",
    "df = df.loc[:,~df.columns.str.match(\"Unnamed\")]"
   ]
  },
  {
   "cell_type": "code",
   "execution_count": null,
   "metadata": {},
   "outputs": [],
   "source": [
    "# df['Top Terpene'].isna().sum()\n",
    "df.head(10)"
   ]
  },
  {
   "cell_type": "code",
   "execution_count": 18,
   "metadata": {},
   "outputs": [],
   "source": [
    "\n",
    "\n",
    "without_rating_and_type = df[(df['Rating Users'].notna()) & (df['Type'].notna()) & (df['Strain Name'].notna())].copy()\n",
    "# without_type = without_rating[without_rating['Type'].notna()].copy()\n"
   ]
  },
  {
   "cell_type": "code",
   "execution_count": 19,
   "metadata": {},
   "outputs": [
    {
     "output_type": "execute_result",
     "data": {
      "text/plain": [
       "2339"
      ]
     },
     "metadata": {},
     "execution_count": 19
    }
   ],
   "source": [
    "without_rating_and_type['CBD'].isna().sum()"
   ]
  },
  {
   "cell_type": "code",
   "execution_count": 20,
   "metadata": {},
   "outputs": [
    {
     "output_type": "execute_result",
     "data": {
      "text/plain": [
       "           Strain Name    Type  Rating  Rating Users        Left Parent  \\\n",
       "2          Lucid Dream  Hybrid     4.6         108.0         Blue Dream   \n",
       "3   Fred Flipn’ Stoned  Indica     5.0           2.0     Pink Champagne   \n",
       "4          Black Magic  Indica     4.5          17.0                NaN   \n",
       "6           NYC Diesel  Hybrid     4.2         939.0            Afghani   \n",
       "7          Purple Goat  Hybrid     4.2           5.0         Trainwreck   \n",
       "8            Alphadawg  Hybrid     5.0           1.0           Chemdawg   \n",
       "11         Sour Sunset  Hybrid     4.7          49.0        Sour Diesel   \n",
       "12     Purple Chemdawg  Indica     4.5         170.0  Granddaddy Purple   \n",
       "13              Vortex  Sativa     4.3         272.0        Space Queen   \n",
       "15           Gutbuster  Indica     4.7          17.0  Cookies and Cream   \n",
       "\n",
       "         Right Parent   Left Child        Right Child    Top Terpene  \\\n",
       "2        Amnesia Haze          NaN                NaN        Myrcene   \n",
       "3   Straight A's Haze          NaN                NaN        Myrcene   \n",
       "4                 NaN          NaN                NaN        Myrcene   \n",
       "6             Mexican  Blue Diesel  Strawberry Diesel        Myrcene   \n",
       "7     Blueberry Skunk          NaN                NaN        Myrcene   \n",
       "8                 NaN          NaN                NaN        Myrcene   \n",
       "11                NaN          NaN                NaN        Myrcene   \n",
       "12           Chemdawg          NaN                NaN  Caryophyllene   \n",
       "13          Apollo 13        Cinex          Timewreck        Myrcene   \n",
       "15         Kimbo Kush          NaN                NaN       Limonene   \n",
       "\n",
       "   Feeling_1  ... Helps with_3  Feeling_4 Negative_4 Helps with_4  Feeling_5  \\\n",
       "2   Uplifted  ...       Stress   Euphoric    Anxious         Pain   Creative   \n",
       "3    Relaxed  ...          ADD     Tingly        NaN          PMS    Focused   \n",
       "4    Relaxed  ...      Fatigue     Sleepy        NaN     Insomnia    Focused   \n",
       "6      Happy  ...   Depression    Relaxed      Dizzy         Pain  Energetic   \n",
       "7      Happy  ...     Insomnia  Talkative        NaN         Pain   Creative   \n",
       "8    Relaxed  ...          NaN        NaN        NaN          NaN        NaN   \n",
       "11   Relaxed  ...      Anxiety   Uplifted      Dizzy    Headaches    Focused   \n",
       "12   Relaxed  ...      Anxiety   Uplifted   Headache   Depression     Sleepy   \n",
       "13  Euphoric  ...   Depression  Energetic   Headache         Pain   Creative   \n",
       "15   Relaxed  ...     Insomnia     Giggly   Paranoid         Pain   Creative   \n",
       "\n",
       "   Negative_5      Helps with_5   THC   CBD  CBG  \n",
       "2    Headache           Fatigue  20.0  11.0  1.0  \n",
       "3         NaN               NaN  18.0   NaN  1.0  \n",
       "4         NaN  Lack of appetite  18.0   NaN  NaN  \n",
       "6    Headache            Nausea  18.0   4.0  1.0  \n",
       "7         NaN           Fatigue  15.0   1.0  1.0  \n",
       "8         NaN               NaN  16.0   1.0  1.0  \n",
       "11   Headache              Pain  18.0   6.0  1.0  \n",
       "12    Anxious          Insomnia  17.0   7.0  1.0  \n",
       "13   Paranoid           Fatigue  16.0   NaN  1.0  \n",
       "15        NaN           Anxiety  18.0  14.0  1.0  \n",
       "\n",
       "[10 rows x 27 columns]"
      ],
      "text/html": "<div>\n<style scoped>\n    .dataframe tbody tr th:only-of-type {\n        vertical-align: middle;\n    }\n\n    .dataframe tbody tr th {\n        vertical-align: top;\n    }\n\n    .dataframe thead th {\n        text-align: right;\n    }\n</style>\n<table border=\"1\" class=\"dataframe\">\n  <thead>\n    <tr style=\"text-align: right;\">\n      <th></th>\n      <th>Strain Name</th>\n      <th>Type</th>\n      <th>Rating</th>\n      <th>Rating Users</th>\n      <th>Left Parent</th>\n      <th>Right Parent</th>\n      <th>Left Child</th>\n      <th>Right Child</th>\n      <th>Top Terpene</th>\n      <th>Feeling_1</th>\n      <th>...</th>\n      <th>Helps with_3</th>\n      <th>Feeling_4</th>\n      <th>Negative_4</th>\n      <th>Helps with_4</th>\n      <th>Feeling_5</th>\n      <th>Negative_5</th>\n      <th>Helps with_5</th>\n      <th>THC</th>\n      <th>CBD</th>\n      <th>CBG</th>\n    </tr>\n  </thead>\n  <tbody>\n    <tr>\n      <th>2</th>\n      <td>Lucid Dream</td>\n      <td>Hybrid</td>\n      <td>4.6</td>\n      <td>108.0</td>\n      <td>Blue Dream</td>\n      <td>Amnesia Haze</td>\n      <td>NaN</td>\n      <td>NaN</td>\n      <td>Myrcene</td>\n      <td>Uplifted</td>\n      <td>...</td>\n      <td>Stress</td>\n      <td>Euphoric</td>\n      <td>Anxious</td>\n      <td>Pain</td>\n      <td>Creative</td>\n      <td>Headache</td>\n      <td>Fatigue</td>\n      <td>20.0</td>\n      <td>11.0</td>\n      <td>1.0</td>\n    </tr>\n    <tr>\n      <th>3</th>\n      <td>Fred Flipn’ Stoned</td>\n      <td>Indica</td>\n      <td>5.0</td>\n      <td>2.0</td>\n      <td>Pink Champagne</td>\n      <td>Straight A's Haze</td>\n      <td>NaN</td>\n      <td>NaN</td>\n      <td>Myrcene</td>\n      <td>Relaxed</td>\n      <td>...</td>\n      <td>ADD</td>\n      <td>Tingly</td>\n      <td>NaN</td>\n      <td>PMS</td>\n      <td>Focused</td>\n      <td>NaN</td>\n      <td>NaN</td>\n      <td>18.0</td>\n      <td>NaN</td>\n      <td>1.0</td>\n    </tr>\n    <tr>\n      <th>4</th>\n      <td>Black Magic</td>\n      <td>Indica</td>\n      <td>4.5</td>\n      <td>17.0</td>\n      <td>NaN</td>\n      <td>NaN</td>\n      <td>NaN</td>\n      <td>NaN</td>\n      <td>Myrcene</td>\n      <td>Relaxed</td>\n      <td>...</td>\n      <td>Fatigue</td>\n      <td>Sleepy</td>\n      <td>NaN</td>\n      <td>Insomnia</td>\n      <td>Focused</td>\n      <td>NaN</td>\n      <td>Lack of appetite</td>\n      <td>18.0</td>\n      <td>NaN</td>\n      <td>NaN</td>\n    </tr>\n    <tr>\n      <th>6</th>\n      <td>NYC Diesel</td>\n      <td>Hybrid</td>\n      <td>4.2</td>\n      <td>939.0</td>\n      <td>Afghani</td>\n      <td>Mexican</td>\n      <td>Blue Diesel</td>\n      <td>Strawberry Diesel</td>\n      <td>Myrcene</td>\n      <td>Happy</td>\n      <td>...</td>\n      <td>Depression</td>\n      <td>Relaxed</td>\n      <td>Dizzy</td>\n      <td>Pain</td>\n      <td>Energetic</td>\n      <td>Headache</td>\n      <td>Nausea</td>\n      <td>18.0</td>\n      <td>4.0</td>\n      <td>1.0</td>\n    </tr>\n    <tr>\n      <th>7</th>\n      <td>Purple Goat</td>\n      <td>Hybrid</td>\n      <td>4.2</td>\n      <td>5.0</td>\n      <td>Trainwreck</td>\n      <td>Blueberry Skunk</td>\n      <td>NaN</td>\n      <td>NaN</td>\n      <td>Myrcene</td>\n      <td>Happy</td>\n      <td>...</td>\n      <td>Insomnia</td>\n      <td>Talkative</td>\n      <td>NaN</td>\n      <td>Pain</td>\n      <td>Creative</td>\n      <td>NaN</td>\n      <td>Fatigue</td>\n      <td>15.0</td>\n      <td>1.0</td>\n      <td>1.0</td>\n    </tr>\n    <tr>\n      <th>8</th>\n      <td>Alphadawg</td>\n      <td>Hybrid</td>\n      <td>5.0</td>\n      <td>1.0</td>\n      <td>Chemdawg</td>\n      <td>NaN</td>\n      <td>NaN</td>\n      <td>NaN</td>\n      <td>Myrcene</td>\n      <td>Relaxed</td>\n      <td>...</td>\n      <td>NaN</td>\n      <td>NaN</td>\n      <td>NaN</td>\n      <td>NaN</td>\n      <td>NaN</td>\n      <td>NaN</td>\n      <td>NaN</td>\n      <td>16.0</td>\n      <td>1.0</td>\n      <td>1.0</td>\n    </tr>\n    <tr>\n      <th>11</th>\n      <td>Sour Sunset</td>\n      <td>Hybrid</td>\n      <td>4.7</td>\n      <td>49.0</td>\n      <td>Sour Diesel</td>\n      <td>NaN</td>\n      <td>NaN</td>\n      <td>NaN</td>\n      <td>Myrcene</td>\n      <td>Relaxed</td>\n      <td>...</td>\n      <td>Anxiety</td>\n      <td>Uplifted</td>\n      <td>Dizzy</td>\n      <td>Headaches</td>\n      <td>Focused</td>\n      <td>Headache</td>\n      <td>Pain</td>\n      <td>18.0</td>\n      <td>6.0</td>\n      <td>1.0</td>\n    </tr>\n    <tr>\n      <th>12</th>\n      <td>Purple Chemdawg</td>\n      <td>Indica</td>\n      <td>4.5</td>\n      <td>170.0</td>\n      <td>Granddaddy Purple</td>\n      <td>Chemdawg</td>\n      <td>NaN</td>\n      <td>NaN</td>\n      <td>Caryophyllene</td>\n      <td>Relaxed</td>\n      <td>...</td>\n      <td>Anxiety</td>\n      <td>Uplifted</td>\n      <td>Headache</td>\n      <td>Depression</td>\n      <td>Sleepy</td>\n      <td>Anxious</td>\n      <td>Insomnia</td>\n      <td>17.0</td>\n      <td>7.0</td>\n      <td>1.0</td>\n    </tr>\n    <tr>\n      <th>13</th>\n      <td>Vortex</td>\n      <td>Sativa</td>\n      <td>4.3</td>\n      <td>272.0</td>\n      <td>Space Queen</td>\n      <td>Apollo 13</td>\n      <td>Cinex</td>\n      <td>Timewreck</td>\n      <td>Myrcene</td>\n      <td>Euphoric</td>\n      <td>...</td>\n      <td>Depression</td>\n      <td>Energetic</td>\n      <td>Headache</td>\n      <td>Pain</td>\n      <td>Creative</td>\n      <td>Paranoid</td>\n      <td>Fatigue</td>\n      <td>16.0</td>\n      <td>NaN</td>\n      <td>1.0</td>\n    </tr>\n    <tr>\n      <th>15</th>\n      <td>Gutbuster</td>\n      <td>Indica</td>\n      <td>4.7</td>\n      <td>17.0</td>\n      <td>Cookies and Cream</td>\n      <td>Kimbo Kush</td>\n      <td>NaN</td>\n      <td>NaN</td>\n      <td>Limonene</td>\n      <td>Relaxed</td>\n      <td>...</td>\n      <td>Insomnia</td>\n      <td>Giggly</td>\n      <td>Paranoid</td>\n      <td>Pain</td>\n      <td>Creative</td>\n      <td>NaN</td>\n      <td>Anxiety</td>\n      <td>18.0</td>\n      <td>14.0</td>\n      <td>1.0</td>\n    </tr>\n  </tbody>\n</table>\n<p>10 rows × 27 columns</p>\n</div>"
     },
     "metadata": {},
     "execution_count": 20
    }
   ],
   "source": [
    "# without_rating.head(10)\n",
    "\n",
    "# without_rating_and_type.shape\n",
    "\n",
    "# without_rating_and_type[without_rating_and_type['THC'].isna()]\n",
    "\n",
    "without_rating_and_type.dropna(subset=['THC'],inplace=True)\n",
    "\n",
    "without_rating_and_type.head(10)\n",
    "\n",
    "\n",
    "# curr = without_type[(without_type['Left Parent'].isna()) & (without_type['Right Parent'].isna()) & (without_type['THC'].isna())].copy()\n",
    "# curr[curr['Rating Users'] < 10]"
   ]
  },
  {
   "cell_type": "code",
   "execution_count": 21,
   "metadata": {},
   "outputs": [],
   "source": [
    "without_rating_and_type = without_rating_and_type.drop(columns=['Left Parent','Right Parent','Left Child','Right Child','CBG'])"
   ]
  },
  {
   "cell_type": "code",
   "execution_count": 24,
   "metadata": {},
   "outputs": [
    {
     "output_type": "execute_result",
     "data": {
      "text/plain": [
       "(3302, 22)"
      ]
     },
     "metadata": {},
     "execution_count": 24
    }
   ],
   "source": [
    "# without_rating_and_type.head(10)\n",
    "\n",
    "# without_rating_and_type['Top Terpene'].isna().sum()\n",
    "# without_rating_and_type.head(10)\n",
    "\n",
    "# df = without_rating_and_type.copy()\n",
    "df.shape"
   ]
  },
  {
   "cell_type": "code",
   "execution_count": 28,
   "metadata": {},
   "outputs": [],
   "source": [
    "df = df[(df['Feeling_1'].notna()) & (df['Feeling_2'].notna()) & (df['Negative_2'].notna()) & (df['Negative_1'].notna()) & (df['Helps with_2'].notna()) & (df['Helps with_1'].notna())].copy()"
   ]
  },
  {
   "cell_type": "code",
   "execution_count": 29,
   "metadata": {},
   "outputs": [],
   "source": [
    "## Fill rest of NaNs with 'N/A' or 0.0\n",
    "\n",
    "for i in range(1,6):\n",
    "    df[f'Feeling_{i}'].fillna('N/A',inplace=True)\n",
    "    df[f'Negative_{i}'].fillna('N/A',inplace=True)\n",
    "    df[f'Helps with_{i}'].fillna('N/A',inplace=True)\n",
    "\n",
    "df.dropna(subset=['THC'],inplace=True)\n",
    "df['CBD'].fillna(0.0,inplace=True)\n",
    "df['Top Terpene'].fillna('N/A',inplace=True)\n"
   ]
  },
  {
   "cell_type": "code",
   "execution_count": 11,
   "metadata": {},
   "outputs": [
    {
     "output_type": "execute_result",
     "data": {
      "text/plain": [
       "           Strain Name    Type  Rating  Rating Users    Top Terpene Feeling_1  \\\n",
       "2          Lucid Dream  Hybrid     4.6         108.0        Myrcene  Uplifted   \n",
       "3   Fred Flipn’ Stoned  Indica     5.0           2.0        Myrcene   Relaxed   \n",
       "4          Black Magic  Indica     4.5          17.0        Myrcene   Relaxed   \n",
       "6           NYC Diesel  Hybrid     4.2         939.0        Myrcene     Happy   \n",
       "7          Purple Goat  Hybrid     4.2           5.0        Myrcene     Happy   \n",
       "8            Alphadawg  Hybrid     5.0           1.0        Myrcene   Relaxed   \n",
       "11         Sour Sunset  Hybrid     4.7          49.0        Myrcene   Relaxed   \n",
       "12     Purple Chemdawg  Indica     4.5         170.0  Caryophyllene   Relaxed   \n",
       "13              Vortex  Sativa     4.3         272.0        Myrcene  Euphoric   \n",
       "15           Gutbuster  Indica     4.7          17.0       Limonene   Relaxed   \n",
       "\n",
       "   Negative_1 Helps with_1 Feeling_2 Negative_2  ... Negative_3 Helps with_3  \\\n",
       "2   Dry mouth   Depression     Happy   Dry eyes  ...   Paranoid       Stress   \n",
       "3   Dry mouth       Stress     Happy        N/A  ...        N/A          ADD   \n",
       "4   Dry mouth      Anxiety     Happy   Dry eyes  ...        N/A      Fatigue   \n",
       "6   Dry mouth       Stress  Uplifted   Dry eyes  ...   Paranoid   Depression   \n",
       "7   Dry mouth       Stress  Uplifted        N/A  ...        N/A     Insomnia   \n",
       "8   Dry mouth       Stress     Happy        N/A  ...        N/A          N/A   \n",
       "11  Dry mouth       Stress     Happy   Dry eyes  ...    Anxious      Anxiety   \n",
       "12  Dry mouth         Pain  Euphoric   Dry eyes  ...      Dizzy      Anxiety   \n",
       "13  Dry mouth       Stress     Happy   Dry eyes  ...      Dizzy   Depression   \n",
       "15    Anxious       Stress  Euphoric   Dry eyes  ...  Dry mouth     Insomnia   \n",
       "\n",
       "    Feeling_4 Negative_4 Helps with_4  Feeling_5 Negative_5      Helps with_5  \\\n",
       "2    Euphoric    Anxious         Pain   Creative   Headache           Fatigue   \n",
       "3      Tingly        N/A          PMS    Focused        N/A               N/A   \n",
       "4      Sleepy        N/A     Insomnia    Focused        N/A  Lack of appetite   \n",
       "6     Relaxed      Dizzy         Pain  Energetic   Headache            Nausea   \n",
       "7   Talkative        N/A         Pain   Creative        N/A           Fatigue   \n",
       "8         N/A        N/A          N/A        N/A        N/A               N/A   \n",
       "11   Uplifted      Dizzy    Headaches    Focused   Headache              Pain   \n",
       "12   Uplifted   Headache   Depression     Sleepy    Anxious          Insomnia   \n",
       "13  Energetic   Headache         Pain   Creative   Paranoid           Fatigue   \n",
       "15     Giggly   Paranoid         Pain   Creative        N/A           Anxiety   \n",
       "\n",
       "     THC   CBD  \n",
       "2   20.0  11.0  \n",
       "3   18.0   0.0  \n",
       "4   18.0   0.0  \n",
       "6   18.0   4.0  \n",
       "7   15.0   1.0  \n",
       "8   16.0   1.0  \n",
       "11  18.0   6.0  \n",
       "12  17.0   7.0  \n",
       "13  16.0   0.0  \n",
       "15  18.0  14.0  \n",
       "\n",
       "[10 rows x 22 columns]"
      ],
      "text/html": "<div>\n<style scoped>\n    .dataframe tbody tr th:only-of-type {\n        vertical-align: middle;\n    }\n\n    .dataframe tbody tr th {\n        vertical-align: top;\n    }\n\n    .dataframe thead th {\n        text-align: right;\n    }\n</style>\n<table border=\"1\" class=\"dataframe\">\n  <thead>\n    <tr style=\"text-align: right;\">\n      <th></th>\n      <th>Strain Name</th>\n      <th>Type</th>\n      <th>Rating</th>\n      <th>Rating Users</th>\n      <th>Top Terpene</th>\n      <th>Feeling_1</th>\n      <th>Negative_1</th>\n      <th>Helps with_1</th>\n      <th>Feeling_2</th>\n      <th>Negative_2</th>\n      <th>...</th>\n      <th>Negative_3</th>\n      <th>Helps with_3</th>\n      <th>Feeling_4</th>\n      <th>Negative_4</th>\n      <th>Helps with_4</th>\n      <th>Feeling_5</th>\n      <th>Negative_5</th>\n      <th>Helps with_5</th>\n      <th>THC</th>\n      <th>CBD</th>\n    </tr>\n  </thead>\n  <tbody>\n    <tr>\n      <th>2</th>\n      <td>Lucid Dream</td>\n      <td>Hybrid</td>\n      <td>4.6</td>\n      <td>108.0</td>\n      <td>Myrcene</td>\n      <td>Uplifted</td>\n      <td>Dry mouth</td>\n      <td>Depression</td>\n      <td>Happy</td>\n      <td>Dry eyes</td>\n      <td>...</td>\n      <td>Paranoid</td>\n      <td>Stress</td>\n      <td>Euphoric</td>\n      <td>Anxious</td>\n      <td>Pain</td>\n      <td>Creative</td>\n      <td>Headache</td>\n      <td>Fatigue</td>\n      <td>20.0</td>\n      <td>11.0</td>\n    </tr>\n    <tr>\n      <th>3</th>\n      <td>Fred Flipn’ Stoned</td>\n      <td>Indica</td>\n      <td>5.0</td>\n      <td>2.0</td>\n      <td>Myrcene</td>\n      <td>Relaxed</td>\n      <td>Dry mouth</td>\n      <td>Stress</td>\n      <td>Happy</td>\n      <td>N/A</td>\n      <td>...</td>\n      <td>N/A</td>\n      <td>ADD</td>\n      <td>Tingly</td>\n      <td>N/A</td>\n      <td>PMS</td>\n      <td>Focused</td>\n      <td>N/A</td>\n      <td>N/A</td>\n      <td>18.0</td>\n      <td>0.0</td>\n    </tr>\n    <tr>\n      <th>4</th>\n      <td>Black Magic</td>\n      <td>Indica</td>\n      <td>4.5</td>\n      <td>17.0</td>\n      <td>Myrcene</td>\n      <td>Relaxed</td>\n      <td>Dry mouth</td>\n      <td>Anxiety</td>\n      <td>Happy</td>\n      <td>Dry eyes</td>\n      <td>...</td>\n      <td>N/A</td>\n      <td>Fatigue</td>\n      <td>Sleepy</td>\n      <td>N/A</td>\n      <td>Insomnia</td>\n      <td>Focused</td>\n      <td>N/A</td>\n      <td>Lack of appetite</td>\n      <td>18.0</td>\n      <td>0.0</td>\n    </tr>\n    <tr>\n      <th>6</th>\n      <td>NYC Diesel</td>\n      <td>Hybrid</td>\n      <td>4.2</td>\n      <td>939.0</td>\n      <td>Myrcene</td>\n      <td>Happy</td>\n      <td>Dry mouth</td>\n      <td>Stress</td>\n      <td>Uplifted</td>\n      <td>Dry eyes</td>\n      <td>...</td>\n      <td>Paranoid</td>\n      <td>Depression</td>\n      <td>Relaxed</td>\n      <td>Dizzy</td>\n      <td>Pain</td>\n      <td>Energetic</td>\n      <td>Headache</td>\n      <td>Nausea</td>\n      <td>18.0</td>\n      <td>4.0</td>\n    </tr>\n    <tr>\n      <th>7</th>\n      <td>Purple Goat</td>\n      <td>Hybrid</td>\n      <td>4.2</td>\n      <td>5.0</td>\n      <td>Myrcene</td>\n      <td>Happy</td>\n      <td>Dry mouth</td>\n      <td>Stress</td>\n      <td>Uplifted</td>\n      <td>N/A</td>\n      <td>...</td>\n      <td>N/A</td>\n      <td>Insomnia</td>\n      <td>Talkative</td>\n      <td>N/A</td>\n      <td>Pain</td>\n      <td>Creative</td>\n      <td>N/A</td>\n      <td>Fatigue</td>\n      <td>15.0</td>\n      <td>1.0</td>\n    </tr>\n    <tr>\n      <th>8</th>\n      <td>Alphadawg</td>\n      <td>Hybrid</td>\n      <td>5.0</td>\n      <td>1.0</td>\n      <td>Myrcene</td>\n      <td>Relaxed</td>\n      <td>Dry mouth</td>\n      <td>Stress</td>\n      <td>Happy</td>\n      <td>N/A</td>\n      <td>...</td>\n      <td>N/A</td>\n      <td>N/A</td>\n      <td>N/A</td>\n      <td>N/A</td>\n      <td>N/A</td>\n      <td>N/A</td>\n      <td>N/A</td>\n      <td>N/A</td>\n      <td>16.0</td>\n      <td>1.0</td>\n    </tr>\n    <tr>\n      <th>11</th>\n      <td>Sour Sunset</td>\n      <td>Hybrid</td>\n      <td>4.7</td>\n      <td>49.0</td>\n      <td>Myrcene</td>\n      <td>Relaxed</td>\n      <td>Dry mouth</td>\n      <td>Stress</td>\n      <td>Happy</td>\n      <td>Dry eyes</td>\n      <td>...</td>\n      <td>Anxious</td>\n      <td>Anxiety</td>\n      <td>Uplifted</td>\n      <td>Dizzy</td>\n      <td>Headaches</td>\n      <td>Focused</td>\n      <td>Headache</td>\n      <td>Pain</td>\n      <td>18.0</td>\n      <td>6.0</td>\n    </tr>\n    <tr>\n      <th>12</th>\n      <td>Purple Chemdawg</td>\n      <td>Indica</td>\n      <td>4.5</td>\n      <td>170.0</td>\n      <td>Caryophyllene</td>\n      <td>Relaxed</td>\n      <td>Dry mouth</td>\n      <td>Pain</td>\n      <td>Euphoric</td>\n      <td>Dry eyes</td>\n      <td>...</td>\n      <td>Dizzy</td>\n      <td>Anxiety</td>\n      <td>Uplifted</td>\n      <td>Headache</td>\n      <td>Depression</td>\n      <td>Sleepy</td>\n      <td>Anxious</td>\n      <td>Insomnia</td>\n      <td>17.0</td>\n      <td>7.0</td>\n    </tr>\n    <tr>\n      <th>13</th>\n      <td>Vortex</td>\n      <td>Sativa</td>\n      <td>4.3</td>\n      <td>272.0</td>\n      <td>Myrcene</td>\n      <td>Euphoric</td>\n      <td>Dry mouth</td>\n      <td>Stress</td>\n      <td>Happy</td>\n      <td>Dry eyes</td>\n      <td>...</td>\n      <td>Dizzy</td>\n      <td>Depression</td>\n      <td>Energetic</td>\n      <td>Headache</td>\n      <td>Pain</td>\n      <td>Creative</td>\n      <td>Paranoid</td>\n      <td>Fatigue</td>\n      <td>16.0</td>\n      <td>0.0</td>\n    </tr>\n    <tr>\n      <th>15</th>\n      <td>Gutbuster</td>\n      <td>Indica</td>\n      <td>4.7</td>\n      <td>17.0</td>\n      <td>Limonene</td>\n      <td>Relaxed</td>\n      <td>Anxious</td>\n      <td>Stress</td>\n      <td>Euphoric</td>\n      <td>Dry eyes</td>\n      <td>...</td>\n      <td>Dry mouth</td>\n      <td>Insomnia</td>\n      <td>Giggly</td>\n      <td>Paranoid</td>\n      <td>Pain</td>\n      <td>Creative</td>\n      <td>N/A</td>\n      <td>Anxiety</td>\n      <td>18.0</td>\n      <td>14.0</td>\n    </tr>\n  </tbody>\n</table>\n<p>10 rows × 22 columns</p>\n</div>"
     },
     "metadata": {},
     "execution_count": 11
    }
   ],
   "source": [
    "without_rating_and_type.head(10)"
   ]
  },
  {
   "cell_type": "code",
   "execution_count": 30,
   "metadata": {},
   "outputs": [],
   "source": [
    "\n",
    "df.to_csv('clean_df3.csv')"
   ]
  },
  {
   "cell_type": "code",
   "execution_count": null,
   "metadata": {},
   "outputs": [],
   "source": []
  }
 ]
}