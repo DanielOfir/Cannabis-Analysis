{
 "metadata": {
  "language_info": {
   "codemirror_mode": {
    "name": "ipython",
    "version": 3
   },
   "file_extension": ".py",
   "mimetype": "text/x-python",
   "name": "python",
   "nbconvert_exporter": "python",
   "pygments_lexer": "ipython3",
   "version": "3.9.1"
  },
  "orig_nbformat": 2,
  "kernelspec": {
   "name": "python391jvsc74a57bd0aee8b7b246df8f9039afb4144a1f6fd8d2ca17a180786b69acc140d282b71a49",
   "display_name": "Python 3.9.1 64-bit"
  },
  "metadata": {
   "interpreter": {
    "hash": "aee8b7b246df8f9039afb4144a1f6fd8d2ca17a180786b69acc140d282b71a49"
   }
  }
 },
 "nbformat": 4,
 "nbformat_minor": 2,
 "cells": [
  {
   "cell_type": "code",
   "execution_count": 1,
   "metadata": {},
   "outputs": [],
   "source": [
    "import ast\n",
    "import bs4\n",
    "import time\n",
    "import json\n",
    "import requests\n",
    "import pandas as pd\n",
    "import scipy as scipy\n",
    "import numpy as np\n",
    "from bs4 import BeautifulSoup\n",
    "from datetime import datetime\n",
    "import matplotlib.pyplot as plt\n",
    "\n",
    "%matplotlib inline"
   ]
  },
  {
   "cell_type": "code",
   "execution_count": 27,
   "metadata": {},
   "outputs": [],
   "source": [
    "df = pd.read_csv('canna_df.csv')\n",
    "df['Feelings'] = df['Feelings'].map(ast.literal_eval) ## To get dicts instead of strings\n",
    "df['Cannabinoids'] = df['Cannabinoids'].map(ast.literal_eval)"
   ]
  },
  {
   "cell_type": "code",
   "execution_count": 28,
   "metadata": {},
   "outputs": [],
   "source": [
    "## Open dictionaries in columns ['Feelings','Cannabinoids'] to columns\n",
    "\n",
    "df = df.reset_index(drop=True)\n",
    "\n",
    "\n",
    "for i in range(5): \n",
    "    df[f'Feeling_{i+1}'] = df.apply(lambda x: x['Feelings']['Feelings'][i],axis=1) ## Turn feelings list to columns\n",
    "    df[f'Negative_{i+1}'] = df.apply(lambda x: x['Feelings']['Negatives'][i],axis=1) \n",
    "    \n",
    "    df[f'Helps with_{i+1}'] = df.apply(lambda x: x['Feelings']['Helps with'][i],axis=1) \n",
    "\n",
    "    df[f'Feeling_{i+1}'] = df[f'Feeling_{i+1}'].str.replace(r'\\b $','',regex=True) ## Remove space at the end of values\n",
    "    df[f'Negative_{i+1}'] = df[f'Negative_{i+1}'].str.replace(r'\\b $','',regex=True)\n",
    "    df[f'Helps with_{i+1}'] = df[f'Helps with_{i+1}'].str.replace(r'\\b $','',regex=True)\n",
    "\n",
    "\n",
    "df['THC'] = df.apply(lambda x: x['Cannabinoids']['THC'],axis=1) ## Turn Cannabinoid dict to columns\n",
    "df['CBD'] = df.apply(lambda x: x['Cannabinoids']['CBD'],axis=1) \n",
    "df['CBG'] = df.apply(lambda x: x['Cannabinoids']['CBG'],axis=1) \n",
    "\n",
    "\n",
    "df.drop(['Feelings','Cannabinoids'],inplace=True,axis=1) ## Remove old columns\n",
    "\n",
    "cols = ['Rating','Rating Users','THC','CBD','CBG']\n",
    "\n",
    "df['THC'] = df['THC'].str.replace(\"%\",'',regex=True) # Remove % from numbers\n",
    "df['CBD'] = df['CBD'].str.replace(\"%\",'',regex=True)\n",
    "df['CBG'] = df['CBG'].str.replace(\"%\",'',regex=True)\n",
    "\n",
    "\n",
    "df['CBD'].replace(\"—\",np.nan,regex=True,inplace=True) # Replace '-' values with NaN\n",
    "df['THC'].replace(\"—\",np.nan,regex=True,inplace=True)\n",
    "df['CBG'].replace(\"—\",np.nan,regex=True,inplace=True)\n",
    "\n",
    "df[cols] = df[cols].apply(pd.to_numeric) # Change columns type to numeric\n",
    "\n",
    "# df['Rating Users'] = df['Rating Users'].astype(np.int64)\n",
    "\n"
   ]
  },
  {
   "cell_type": "code",
   "execution_count": null,
   "metadata": {},
   "outputs": [],
   "source": [
    "\n",
    "\n"
   ]
  },
  {
   "cell_type": "code",
   "execution_count": 29,
   "metadata": {},
   "outputs": [],
   "source": [
    "def get_nan_replace_value(df,parent,mode,col):\n",
    "\n",
    "    func_df = df.loc[(df['Left Parent'] == parent) | (df['Right parent'] == parent) | (df['Strain Name'] == parent)] ## All rows with same parent, including the parent\n",
    "\n",
    "    if mode == 'Feelings':\n",
    "        try:\n",
    "            feeling = func_df[col].value_counts().idxmax() ## Limits to look only at the same col\n",
    "\n",
    "        except Exception as e:\n",
    "            feeling = np.NaN\n",
    "\n",
    "        return feeling\n",
    "\n",
    "    elif mode == 'Cannabinoids':\n",
    "\n",
    "        mean = round(func_df[col].mean(),0)\n",
    "        \n",
    "        return mean\n",
    "\n",
    "\n",
    "\n",
    "def complete_nan(df,col_names):\n",
    "        \n",
    "    for i,col in enumerate(col_names,0):\n",
    "        if 'Feeling' in col: ## Create DF that contains 'Feeling' columns with NaN that has at least 1 parent that's not NaN\n",
    "            nanim = df[(df['Feeling_1'].isnull()) & (df['Feeling_2'].isnull()) & (df['Feeling_3'].isnull()) & ((df['Left Parent'].notna()) | (df['Right parent'].notna()))].copy()\n",
    "            mode = 'Feelings'\n",
    "\n",
    "        elif 'Negative' in col:\n",
    "            nanim = df[(df['Negative_1'].isnull()) & (df['Negative_2'].isnull()) & (df['Negative_3'].isnull()) & ((df['Left Parent'].notna()) | (df['Right parent'].notna()))].copy()\n",
    "            mode = 'Feelings'\n",
    "        \n",
    "        elif 'Helps with' in col:\n",
    "            nanim = df[(df['Helps with_1'].isnull()) & (df['Helps with_2'].isnull()) & (df['Helps with_3'].isnull()) & ((df['Left Parent'].notna()) | (df['Right parent'].notna()))].copy()\n",
    "            mode = 'Feelings'\n",
    "        \n",
    "        else: ## Create DF that contains a 'Cannabinoid' column with NaN, with at least 1 parent that's not NaN\n",
    "            nanim = df[(df[col].isna()) & ((df['Left Parent'].notna()) | (df['Right parent'].notna()))].copy() # To apply changes on real DF\n",
    "            mode = 'Cannabinoids'\n",
    "        \n",
    "        try:\n",
    "            nanim[col] = nanim.apply(lambda x: get_nan_replace_value(df,x['Left Parent'],mode,col),axis=1)\n",
    "            nanim[col] = nanim.apply(lambda x: get_nan_replace_value(df,x['Right parent'],mode,col) if pd.isnull(x[col]) else x[col],axis=1)\n",
    "            \n",
    "            df[col].fillna(nanim[col],inplace=True)\n",
    "\n",
    "\n",
    "        except Exception as e:\n",
    "            print(e)\n",
    "            pass\n",
    "    \n",
    "\n",
    "    return df"
   ]
  },
  {
   "cell_type": "code",
   "execution_count": 37,
   "metadata": {},
   "outputs": [
    {
     "output_type": "execute_result",
     "data": {
      "text/plain": [
       "Strain Name         Mega Jackpot\n",
       "Type                      Hybrid\n",
       "Rating                       4.1\n",
       "Rating Users                19.0\n",
       "Left Parent           Jack Herer\n",
       "Right parent     Northern Lights\n",
       "Left Child                   NaN\n",
       "Right Child                  NaN\n",
       "Feeling_1                Relaxed\n",
       "Negative_1             Dry mouth\n",
       "Helps with_1          Depression\n",
       "Feeling_2                  Happy\n",
       "Negative_2                   NaN\n",
       "Helps with_2    Lack of appetite\n",
       "Feeling_3               Euphoric\n",
       "Negative_3                   NaN\n",
       "Helps with_3             Anxiety\n",
       "Feeling_4               Creative\n",
       "Negative_4                  None\n",
       "Helps with_4              Nausea\n",
       "Feeling_5              Talkative\n",
       "Negative_5                  None\n",
       "Helps with_5              Stress\n",
       "THC                         18.0\n",
       "CBD                          6.0\n",
       "CBG                          1.0\n",
       "Name: 0, dtype: object"
      ]
     },
     "metadata": {},
     "execution_count": 37
    }
   ],
   "source": [
    "\n",
    "df.loc[0]"
   ]
  },
  {
   "cell_type": "code",
   "execution_count": 30,
   "metadata": {},
   "outputs": [],
   "source": [
    "cols = ['Feeling_1','Feeling_2','Feeling_3','Negative_1','Negative_2','Negative_3','Helps with_1','Helps with_2','Helps with_3','THC','CBD','CBG']\n",
    "feelings_complete = complete_nan(df,cols) ## Fill NaN"
   ]
  },
  {
   "cell_type": "code",
   "execution_count": 31,
   "metadata": {},
   "outputs": [],
   "source": [
    "df = df.copy()\n",
    "df.update(feelings_complete)\n",
    "df.columns.str.match(\"Unnamed\") ## A new column was created from some reason\n",
    "df = df.loc[:,~df.columns.str.match(\"Unnamed\")]"
   ]
  },
  {
   "cell_type": "code",
   "execution_count": 35,
   "metadata": {},
   "outputs": [],
   "source": [
    "\n",
    "df.to_csv('clean_df.csv')"
   ]
  },
  {
   "cell_type": "code",
   "execution_count": null,
   "metadata": {},
   "outputs": [],
   "source": []
  }
 ]
}