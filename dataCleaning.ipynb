{
 "metadata": {
  "language_info": {
   "codemirror_mode": {
    "name": "ipython",
    "version": 3
   },
   "file_extension": ".py",
   "mimetype": "text/x-python",
   "name": "python",
   "nbconvert_exporter": "python",
   "pygments_lexer": "ipython3",
   "version": "3.9.1"
  },
  "orig_nbformat": 2,
  "kernelspec": {
   "name": "python391jvsc74a57bd0aee8b7b246df8f9039afb4144a1f6fd8d2ca17a180786b69acc140d282b71a49",
   "display_name": "Python 3.9.1 64-bit"
  },
  "metadata": {
   "interpreter": {
    "hash": "aee8b7b246df8f9039afb4144a1f6fd8d2ca17a180786b69acc140d282b71a49"
   }
  }
 },
 "nbformat": 4,
 "nbformat_minor": 2,
 "cells": [
  {
   "cell_type": "code",
   "execution_count": 94,
   "metadata": {},
   "outputs": [],
   "source": [
    "import ast\n",
    "import bs4\n",
    "import time\n",
    "import json\n",
    "import requests\n",
    "import pandas as pd\n",
    "import scipy as scipy\n",
    "import numpy as np\n",
    "from bs4 import BeautifulSoup\n",
    "from datetime import datetime\n",
    "import matplotlib.pyplot as plt\n",
    "\n",
    "%matplotlib inline"
   ]
  },
  {
   "source": [
    "## Leafly Dataframe"
   ],
   "cell_type": "markdown",
   "metadata": {}
  },
  {
   "cell_type": "code",
   "execution_count": 96,
   "metadata": {},
   "outputs": [],
   "source": [
    "# leafly_df = pd.read_csv('canna_leafly_df.csv')\n",
    "leafly_df = pd.read_csv('canna_df.csv')\n",
    "leafly_df['Feelings'] = leafly_df['Feelings'].map(ast.literal_eval) ## To get dicts instead of strings\n",
    "leafly_df['Cannabinoids'] = leafly_df['Cannabinoids'].map(ast.literal_eval)"
   ]
  },
  {
   "cell_type": "code",
   "execution_count": 97,
   "metadata": {},
   "outputs": [],
   "source": [
    "## Open dictionaries in columns ['Feelings','Cannabinoids'] to columns\n",
    "\n",
    "leafly_df = leafly_df.reset_index(drop=True) \n",
    "\n",
    "\n",
    "for i in range(5): \n",
    "    leafly_df[f'Feeling_{i+1}'] = leafly_df.apply(lambda x: x['Feelings']['Feelings'][i],axis=1) ## Turn feelings list to columns\n",
    "    leafly_df[f'Negative_{i+1}'] = leafly_df.apply(lambda x: x['Feelings']['Negatives'][i],axis=1)   \n",
    "    leafly_df[f'Helps with_{i+1}'] = leafly_df.apply(lambda x: x['Feelings']['Helps with'][i],axis=1) \n",
    "\n",
    "    leafly_df[f'Feeling_{i+1}'] = leafly_df[f'Feeling_{i+1}'].str.replace(r'\\b $','',regex=True) ## Remove space at the end of values\n",
    "    leafly_df[f'Negative_{i+1}'] = leafly_df[f'Negative_{i+1}'].str.replace(r'\\b $','',regex=True)\n",
    "    leafly_df[f'Helps with_{i+1}'] = leafly_df[f'Helps with_{i+1}'].str.replace(r'\\b $','',regex=True)\n",
    "\n",
    "\n",
    "leafly_df['THC'] = leafly_df.apply(lambda x: x['Cannabinoids']['THC'],axis=1) ## Turn Cannabinoid dict to columns\n",
    "leafly_df['CBD'] = leafly_df.apply(lambda x: x['Cannabinoids']['CBD'],axis=1) \n",
    "leafly_df['CBG'] = leafly_df.apply(lambda x: x['Cannabinoids']['CBG'],axis=1) \n",
    "\n",
    "\n",
    "leafly_df.drop(['Feelings','Cannabinoids'],inplace=True,axis=1) ## Remove old columns\n",
    "\n",
    "cols = ['Rating','Rating Users','THC','CBD','CBG']\n",
    "\n",
    "leafly_df['THC'] = leafly_df['THC'].str.replace(\"%\",'',regex=True) # Remove % from numbers\n",
    "leafly_df['CBD'] = leafly_df['CBD'].str.replace(\"%\",'',regex=True)\n",
    "leafly_df['CBG'] = leafly_df['CBG'].str.replace(\"%\",'',regex=True)\n",
    "\n",
    "\n",
    "leafly_df['CBD'].replace(\"—\",np.nan,regex=True,inplace=True) # Replace '-' values with NaN\n",
    "leafly_df['THC'].replace(\"—\",np.nan,regex=True,inplace=True)\n",
    "leafly_df['CBG'].replace(\"—\",np.nan,regex=True,inplace=True)\n",
    "\n",
    "leafly_df[cols] = leafly_df[cols].apply(pd.to_numeric) # Change columns type to numeric\n",
    "\n",
    "\n"
   ]
  },
  {
   "source": [
    "## StrainsOfWeed Dataframe"
   ],
   "cell_type": "markdown",
   "metadata": {}
  },
  {
   "cell_type": "code",
   "execution_count": 98,
   "metadata": {},
   "outputs": [],
   "source": [
    "flavors_df = pd.read_csv('strainofweed_canna_df.csv')\n",
    "flavors_df['Flavors'] = flavors_df['Flavors'].map(ast.literal_eval) ## To get lists instead of strings\n",
    "\n",
    "flavors_df[['Flavor_1','Flavor_2','Flavor_3']] = pd.DataFrame(flavors_df.Flavors.tolist(),index=flavors_df.index) ## Open lists to columns\n",
    "flavors_df.drop(columns=['Flavors'],inplace=True) ## Remove original 'Flavors' column\n",
    "\n",
    "flavors_df['Flavor_1'].replace(\"\",np.nan,regex=True,inplace=True) ## Replace empty values with NaN\n",
    "flavors_df['Flavor_2'].replace(\"\",np.nan,regex=True,inplace=True)\n",
    "flavors_df['Flavor_3'].replace(\"\",np.nan,regex=True,inplace=True)\n",
    "\n",
    "flavors_df = flavors_df.loc[:,~flavors_df.columns.str.match(\"Unnamed\")] ## Remove 'Unnamed' column that was added\n"
   ]
  },
  {
   "source": [
    "## Combining both Dataframes"
   ],
   "cell_type": "markdown",
   "metadata": {}
  },
  {
   "cell_type": "code",
   "execution_count": 100,
   "metadata": {},
   "outputs": [],
   "source": [
    "for i in range(1,4):\n",
    "    \n",
    "    leafly_df[f'Flavor_{i}'] = leafly_df['Strain Name'].map(flavors_df.set_index('Strain Name')[f'Flavor_{i}'])   \n"
   ]
  },
  {
   "cell_type": "code",
   "execution_count": 106,
   "metadata": {},
   "outputs": [],
   "source": [
    "df = leafly_df.copy()\n",
    "# leafly_df.shape"
   ]
  },
  {
   "source": [
    "## Data adjustment"
   ],
   "cell_type": "markdown",
   "metadata": {}
  },
  {
   "cell_type": "code",
   "execution_count": 107,
   "metadata": {},
   "outputs": [],
   "source": [
    "def get_nan_replace_value(df,parent,mode,col):\n",
    "    ## Get value to complete in NaN\n",
    "    func_df = df.loc[(df['Left Parent'] == parent) | (df['Right Parent'] == parent) | (df['Strain Name'] == parent)] ## All rows with same parent, including the parent\n",
    "\n",
    "    if mode == 'Feelings' or mode == 'Terpenes' or mode == 'Flavors':\n",
    "        try:\n",
    "            feeling = func_df[col].value_counts().idxmax() ## Limits to look only at the same col\n",
    "\n",
    "        except Exception as e:\n",
    "            feeling = np.NaN\n",
    "\n",
    "        return feeling\n",
    "\n",
    "    elif mode == 'Cannabinoids':\n",
    "\n",
    "        mean = round(func_df[col].mean(),0)\n",
    "        \n",
    "        return mean\n",
    "\n",
    "def complete_nan(df,col_names):\n",
    "        ## Create Dataframe that contains rows where all Feeling/Negative/Helps With/Flavor columns are NaN and has at least 1 parent\n",
    "    for i,col in enumerate(col_names,0):\n",
    "        print(f'Working on {col}')\n",
    "        if 'Feeling' in col: ## Create DF that contains 'Feeling' columns with NaN that has at least 1 parent that's not NaN\n",
    "            nanim = df[(df['Feeling_1'].isnull()) & (df['Feeling_2'].isnull()) & (df['Feeling_3'].isnull()) & (df['Feeling_4'].isnull()) & (df['Feeling_5'].isnull()) & ((df['Left Parent'].notna()) | (df['Right Parent'].notna()))].copy()\n",
    "            mode = 'Feelings'\n",
    "\n",
    "        elif 'Negative' in col:\n",
    "            nanim = df[(df['Negative_1'].isnull()) & (df['Negative_2'].isnull()) & (df['Negative_3'].isnull()) & (df['Negative_4'].isnull()) & (df['Negative_5'].isnull()) & ((df['Left Parent'].notna()) | (df['Right Parent'].notna()))].copy()\n",
    "            mode = 'Feelings'\n",
    "        \n",
    "        elif 'Helps with' in col: \n",
    "            nanim = df[(df['Helps with_1'].isnull()) & (df['Helps with_2'].isnull()) & (df['Helps with_3'].isnull()) & (df['Helps with_4'].isnull()) & (df['Helps with_5'].isnull()) & ((df['Left Parent'].notna()) | (df['Right Parent'].notna()))].copy()\n",
    "            mode = 'Feelings'\n",
    "\n",
    "        elif 'Flavor' in col:\n",
    "            nanim = df[(df['Flavor_1'].isnull()) & (df['Flavor_2'].isnull()) & (df['Flavor_3'].isnull()) & ((df['Left Parent'].notna()) | (df['Right Parent'].notna()))].copy()\n",
    "            mode = 'Flavors'\n",
    "        \n",
    "        else: ## Create DF that contains a 'Cannabinoid' column with NaN, with at least 1 parent that's not NaN\n",
    "            nanim = df[(df[col].isna()) & ((df['Left Parent'].notna()) | (df['Right Parent'].notna()))].copy() # To apply changes on real DF\n",
    "            if col == 'Top Terpene':\n",
    "                mode = 'Terpenes'\n",
    "            else:\n",
    "                mode = 'Cannabinoids'\n",
    "        \n",
    "        try:\n",
    "            nanim[col] = nanim.apply(lambda x: get_nan_replace_value(df,x['Left Parent'],mode,col),axis=1)\n",
    "            nanim[col] = nanim.apply(lambda x: get_nan_replace_value(df,x['Right Parent'],mode,col) if pd.isnull(x[col]) else x[col],axis=1)\n",
    "            \n",
    "            df[col].fillna(nanim[col],inplace=True)\n",
    "\n",
    "\n",
    "        except Exception as e:\n",
    "            print(e)\n",
    "            pass\n",
    "    \n",
    "\n",
    "    return df"
   ]
  },
  {
   "cell_type": "code",
   "execution_count": 108,
   "metadata": {},
   "outputs": [
    {
     "output_type": "execute_result",
     "data": {
      "text/plain": [
       "2925"
      ]
     },
     "metadata": {},
     "execution_count": 108
    }
   ],
   "source": [
    "df['Flavor_1'].isna().sum()"
   ]
  },
  {
   "cell_type": "code",
   "execution_count": 109,
   "metadata": {},
   "outputs": [
    {
     "output_type": "stream",
     "name": "stdout",
     "text": [
      "Working on Feeling_1\n",
      "Working on Feeling_2\n",
      "Working on Feeling_3\n",
      "Working on Feeling_4\n",
      "Working on Feeling_5\n",
      "Working on Negative_1\n",
      "Working on Negative_2\n",
      "Working on Negative_3\n",
      "Working on Negative_4\n",
      "Working on Negative_5\n",
      "Working on Helps with_1\n",
      "Working on Helps with_2\n",
      "Working on Helps with_3\n",
      "Working on Helps with_4\n",
      "Working on Helps with_5\n",
      "Working on THC\n",
      "Working on CBD\n",
      "Working on CBG\n",
      "Working on Top Terpene\n",
      "Working on Flavor_1\n",
      "Working on Flavor_2\n",
      "Working on Flavor_3\n"
     ]
    }
   ],
   "source": [
    "cols = ['Feeling_1','Feeling_2','Feeling_3','Feeling_4','Feeling_5','Negative_1','Negative_2','Negative_3','Negative_4','Negative_5','Helps with_1','Helps with_2','Helps with_3','Helps with_4','Helps with_5','THC','CBD','CBG','Top Terpene','Flavor_1','Flavor_2','Flavor_3']\n",
    "feelings_complete = complete_nan(df,cols) ## Fill NaN"
   ]
  },
  {
   "cell_type": "code",
   "execution_count": 111,
   "metadata": {},
   "outputs": [
    {
     "output_type": "execute_result",
     "data": {
      "text/plain": [
       "   Unnamed: 0         Strain Name    Type  Rating  Rating Users  \\\n",
       "0           0         Mind Flayer  Hybrid     NaN           NaN   \n",
       "1           1                 NaN     NaN     5.0          68.0   \n",
       "2           2         Lucid Dream  Hybrid     4.6         108.0   \n",
       "3           3  Fred Flipn’ Stoned  Indica     5.0           2.0   \n",
       "4           4         Black Magic  Indica     4.5          17.0   \n",
       "\n",
       "      Left Parent       Right Parent Left Child Right Child    Top Terpene  \\\n",
       "0             NaN                NaN        NaN         NaN  Caryophyllene   \n",
       "1             NaN                NaN        NaN         NaN            NaN   \n",
       "2      Blue Dream       Amnesia Haze        NaN         NaN        Myrcene   \n",
       "3  Pink Champagne  Straight A's Haze        NaN         NaN        Myrcene   \n",
       "4             NaN                NaN        NaN         NaN        Myrcene   \n",
       "\n",
       "   ... Helps with_4 Feeling_5 Negative_5      Helps with_5   THC   CBD  CBG  \\\n",
       "0  ...          NaN       NaN        NaN               NaN  19.0   NaN  1.0   \n",
       "1  ...          NaN       NaN        NaN               NaN   NaN   NaN  NaN   \n",
       "2  ...         Pain  Creative   Headache           Fatigue  20.0  11.0  1.0   \n",
       "3  ...          PMS   Focused        NaN               NaN  18.0   NaN  1.0   \n",
       "4  ...     Insomnia   Focused        NaN  Lack of appetite  18.0   NaN  NaN   \n",
       "\n",
       "  Flavor_1   Flavor_2 Flavor_3  \n",
       "0      NaN        NaN      NaN  \n",
       "1      NaN        NaN      NaN  \n",
       "2    Berry  Blueberry     Sage  \n",
       "3    Berry        NaN      NaN  \n",
       "4   Earthy        NaN      NaN  \n",
       "\n",
       "[5 rows x 31 columns]"
      ],
      "text/html": "<div>\n<style scoped>\n    .dataframe tbody tr th:only-of-type {\n        vertical-align: middle;\n    }\n\n    .dataframe tbody tr th {\n        vertical-align: top;\n    }\n\n    .dataframe thead th {\n        text-align: right;\n    }\n</style>\n<table border=\"1\" class=\"dataframe\">\n  <thead>\n    <tr style=\"text-align: right;\">\n      <th></th>\n      <th>Unnamed: 0</th>\n      <th>Strain Name</th>\n      <th>Type</th>\n      <th>Rating</th>\n      <th>Rating Users</th>\n      <th>Left Parent</th>\n      <th>Right Parent</th>\n      <th>Left Child</th>\n      <th>Right Child</th>\n      <th>Top Terpene</th>\n      <th>...</th>\n      <th>Helps with_4</th>\n      <th>Feeling_5</th>\n      <th>Negative_5</th>\n      <th>Helps with_5</th>\n      <th>THC</th>\n      <th>CBD</th>\n      <th>CBG</th>\n      <th>Flavor_1</th>\n      <th>Flavor_2</th>\n      <th>Flavor_3</th>\n    </tr>\n  </thead>\n  <tbody>\n    <tr>\n      <th>0</th>\n      <td>0</td>\n      <td>Mind Flayer</td>\n      <td>Hybrid</td>\n      <td>NaN</td>\n      <td>NaN</td>\n      <td>NaN</td>\n      <td>NaN</td>\n      <td>NaN</td>\n      <td>NaN</td>\n      <td>Caryophyllene</td>\n      <td>...</td>\n      <td>NaN</td>\n      <td>NaN</td>\n      <td>NaN</td>\n      <td>NaN</td>\n      <td>19.0</td>\n      <td>NaN</td>\n      <td>1.0</td>\n      <td>NaN</td>\n      <td>NaN</td>\n      <td>NaN</td>\n    </tr>\n    <tr>\n      <th>1</th>\n      <td>1</td>\n      <td>NaN</td>\n      <td>NaN</td>\n      <td>5.0</td>\n      <td>68.0</td>\n      <td>NaN</td>\n      <td>NaN</td>\n      <td>NaN</td>\n      <td>NaN</td>\n      <td>NaN</td>\n      <td>...</td>\n      <td>NaN</td>\n      <td>NaN</td>\n      <td>NaN</td>\n      <td>NaN</td>\n      <td>NaN</td>\n      <td>NaN</td>\n      <td>NaN</td>\n      <td>NaN</td>\n      <td>NaN</td>\n      <td>NaN</td>\n    </tr>\n    <tr>\n      <th>2</th>\n      <td>2</td>\n      <td>Lucid Dream</td>\n      <td>Hybrid</td>\n      <td>4.6</td>\n      <td>108.0</td>\n      <td>Blue Dream</td>\n      <td>Amnesia Haze</td>\n      <td>NaN</td>\n      <td>NaN</td>\n      <td>Myrcene</td>\n      <td>...</td>\n      <td>Pain</td>\n      <td>Creative</td>\n      <td>Headache</td>\n      <td>Fatigue</td>\n      <td>20.0</td>\n      <td>11.0</td>\n      <td>1.0</td>\n      <td>Berry</td>\n      <td>Blueberry</td>\n      <td>Sage</td>\n    </tr>\n    <tr>\n      <th>3</th>\n      <td>3</td>\n      <td>Fred Flipn’ Stoned</td>\n      <td>Indica</td>\n      <td>5.0</td>\n      <td>2.0</td>\n      <td>Pink Champagne</td>\n      <td>Straight A's Haze</td>\n      <td>NaN</td>\n      <td>NaN</td>\n      <td>Myrcene</td>\n      <td>...</td>\n      <td>PMS</td>\n      <td>Focused</td>\n      <td>NaN</td>\n      <td>NaN</td>\n      <td>18.0</td>\n      <td>NaN</td>\n      <td>1.0</td>\n      <td>Berry</td>\n      <td>NaN</td>\n      <td>NaN</td>\n    </tr>\n    <tr>\n      <th>4</th>\n      <td>4</td>\n      <td>Black Magic</td>\n      <td>Indica</td>\n      <td>4.5</td>\n      <td>17.0</td>\n      <td>NaN</td>\n      <td>NaN</td>\n      <td>NaN</td>\n      <td>NaN</td>\n      <td>Myrcene</td>\n      <td>...</td>\n      <td>Insomnia</td>\n      <td>Focused</td>\n      <td>NaN</td>\n      <td>Lack of appetite</td>\n      <td>18.0</td>\n      <td>NaN</td>\n      <td>NaN</td>\n      <td>Earthy</td>\n      <td>NaN</td>\n      <td>NaN</td>\n    </tr>\n  </tbody>\n</table>\n<p>5 rows × 31 columns</p>\n</div>"
     },
     "metadata": {},
     "execution_count": 111
    }
   ],
   "source": [
    "# feelings_complete.head()\n",
    "# df['Flavor_1'].isna().sum()\n",
    "\n",
    "\n",
    "df.head()"
   ]
  },
  {
   "cell_type": "code",
   "execution_count": 112,
   "metadata": {},
   "outputs": [],
   "source": [
    "df = df.copy()\n",
    "df.update(feelings_complete)\n",
    "df = df.loc[:,~df.columns.str.match(\"Unnamed\")]## A new column was created from some reason"
   ]
  },
  {
   "cell_type": "code",
   "execution_count": 113,
   "metadata": {},
   "outputs": [],
   "source": [
    "\n",
    "\n",
    "df = df[(df['Rating Users'].notna()) & (df['Type'].notna()) & (df['Strain Name'].notna())].copy() ## Dataframe without NaN values in Rating users / Type / Name columns\n",
    "\n",
    "df.dropna(subset=['THC'],inplace=True) ## Drop rows with NaN in THC column\n",
    "\n",
    "df.drop(columns=['Left Parent','Right Parent','Left Child','Right Child','CBG'],inplace=True)\n"
   ]
  },
  {
   "cell_type": "code",
   "execution_count": 19,
   "metadata": {},
   "outputs": [
    {
     "output_type": "execute_result",
     "data": {
      "text/plain": [
       "2339"
      ]
     },
     "metadata": {},
     "execution_count": 19
    }
   ],
   "source": [
    "df['CBD'].isna().sum()"
   ]
  },
  {
   "cell_type": "code",
   "execution_count": 114,
   "metadata": {},
   "outputs": [
    {
     "output_type": "execute_result",
     "data": {
      "text/plain": [
       "           Strain Name    Type  Rating  Rating Users        Left Parent  \\\n",
       "2          Lucid Dream  Hybrid     4.6         108.0         Blue Dream   \n",
       "3   Fred Flipn’ Stoned  Indica     5.0           2.0     Pink Champagne   \n",
       "4          Black Magic  Indica     4.5          17.0                NaN   \n",
       "6           NYC Diesel  Hybrid     4.2         939.0            Afghani   \n",
       "7          Purple Goat  Hybrid     4.2           5.0         Trainwreck   \n",
       "8            Alphadawg  Hybrid     5.0           1.0           Chemdawg   \n",
       "11         Sour Sunset  Hybrid     4.7          49.0        Sour Diesel   \n",
       "12     Purple Chemdawg  Indica     4.5         170.0  Granddaddy Purple   \n",
       "13              Vortex  Sativa     4.3         272.0        Space Queen   \n",
       "15           Gutbuster  Indica     4.7          17.0  Cookies and Cream   \n",
       "\n",
       "         Right Parent   Left Child        Right Child    Top Terpene  \\\n",
       "2        Amnesia Haze          NaN                NaN        Myrcene   \n",
       "3   Straight A's Haze          NaN                NaN        Myrcene   \n",
       "4                 NaN          NaN                NaN        Myrcene   \n",
       "6             Mexican  Blue Diesel  Strawberry Diesel        Myrcene   \n",
       "7     Blueberry Skunk          NaN                NaN        Myrcene   \n",
       "8                 NaN          NaN                NaN        Myrcene   \n",
       "11                NaN          NaN                NaN        Myrcene   \n",
       "12           Chemdawg          NaN                NaN  Caryophyllene   \n",
       "13          Apollo 13        Cinex          Timewreck        Myrcene   \n",
       "15         Kimbo Kush          NaN                NaN       Limonene   \n",
       "\n",
       "   Feeling_1  ... Helps with_4  Feeling_5 Negative_5      Helps with_5   THC  \\\n",
       "2   Uplifted  ...         Pain   Creative   Headache           Fatigue  20.0   \n",
       "3    Relaxed  ...          PMS    Focused        NaN               NaN  18.0   \n",
       "4    Relaxed  ...     Insomnia    Focused        NaN  Lack of appetite  18.0   \n",
       "6      Happy  ...         Pain  Energetic   Headache            Nausea  18.0   \n",
       "7      Happy  ...         Pain   Creative        NaN           Fatigue  15.0   \n",
       "8    Relaxed  ...          NaN        NaN        NaN               NaN  16.0   \n",
       "11   Relaxed  ...    Headaches    Focused   Headache              Pain  18.0   \n",
       "12   Relaxed  ...   Depression     Sleepy    Anxious          Insomnia  17.0   \n",
       "13  Euphoric  ...         Pain   Creative   Paranoid           Fatigue  16.0   \n",
       "15   Relaxed  ...         Pain   Creative        NaN           Anxiety  18.0   \n",
       "\n",
       "     CBD  CBG  Flavor_1   Flavor_2    Flavor_3  \n",
       "2   11.0  1.0     Berry  Blueberry        Sage  \n",
       "3    NaN  1.0     Berry        NaN         NaN  \n",
       "4    NaN  NaN    Earthy        NaN         NaN  \n",
       "6    4.0  1.0    Diesel     Earthy  Grapefruit  \n",
       "7    1.0  1.0     Sweet     Orange       Lemon  \n",
       "8    1.0  1.0    Earthy        NaN         NaN  \n",
       "11   6.0  1.0   Pungent      Lemon   TreeFruit  \n",
       "12   7.0  1.0  Chemical      Grape      Diesel  \n",
       "13   NaN  1.0    Citrus      Lemon    Tropical  \n",
       "15  14.0  1.0     Berry    Vanilla       Woody  \n",
       "\n",
       "[10 rows x 30 columns]"
      ],
      "text/html": "<div>\n<style scoped>\n    .dataframe tbody tr th:only-of-type {\n        vertical-align: middle;\n    }\n\n    .dataframe tbody tr th {\n        vertical-align: top;\n    }\n\n    .dataframe thead th {\n        text-align: right;\n    }\n</style>\n<table border=\"1\" class=\"dataframe\">\n  <thead>\n    <tr style=\"text-align: right;\">\n      <th></th>\n      <th>Strain Name</th>\n      <th>Type</th>\n      <th>Rating</th>\n      <th>Rating Users</th>\n      <th>Left Parent</th>\n      <th>Right Parent</th>\n      <th>Left Child</th>\n      <th>Right Child</th>\n      <th>Top Terpene</th>\n      <th>Feeling_1</th>\n      <th>...</th>\n      <th>Helps with_4</th>\n      <th>Feeling_5</th>\n      <th>Negative_5</th>\n      <th>Helps with_5</th>\n      <th>THC</th>\n      <th>CBD</th>\n      <th>CBG</th>\n      <th>Flavor_1</th>\n      <th>Flavor_2</th>\n      <th>Flavor_3</th>\n    </tr>\n  </thead>\n  <tbody>\n    <tr>\n      <th>2</th>\n      <td>Lucid Dream</td>\n      <td>Hybrid</td>\n      <td>4.6</td>\n      <td>108.0</td>\n      <td>Blue Dream</td>\n      <td>Amnesia Haze</td>\n      <td>NaN</td>\n      <td>NaN</td>\n      <td>Myrcene</td>\n      <td>Uplifted</td>\n      <td>...</td>\n      <td>Pain</td>\n      <td>Creative</td>\n      <td>Headache</td>\n      <td>Fatigue</td>\n      <td>20.0</td>\n      <td>11.0</td>\n      <td>1.0</td>\n      <td>Berry</td>\n      <td>Blueberry</td>\n      <td>Sage</td>\n    </tr>\n    <tr>\n      <th>3</th>\n      <td>Fred Flipn’ Stoned</td>\n      <td>Indica</td>\n      <td>5.0</td>\n      <td>2.0</td>\n      <td>Pink Champagne</td>\n      <td>Straight A's Haze</td>\n      <td>NaN</td>\n      <td>NaN</td>\n      <td>Myrcene</td>\n      <td>Relaxed</td>\n      <td>...</td>\n      <td>PMS</td>\n      <td>Focused</td>\n      <td>NaN</td>\n      <td>NaN</td>\n      <td>18.0</td>\n      <td>NaN</td>\n      <td>1.0</td>\n      <td>Berry</td>\n      <td>NaN</td>\n      <td>NaN</td>\n    </tr>\n    <tr>\n      <th>4</th>\n      <td>Black Magic</td>\n      <td>Indica</td>\n      <td>4.5</td>\n      <td>17.0</td>\n      <td>NaN</td>\n      <td>NaN</td>\n      <td>NaN</td>\n      <td>NaN</td>\n      <td>Myrcene</td>\n      <td>Relaxed</td>\n      <td>...</td>\n      <td>Insomnia</td>\n      <td>Focused</td>\n      <td>NaN</td>\n      <td>Lack of appetite</td>\n      <td>18.0</td>\n      <td>NaN</td>\n      <td>NaN</td>\n      <td>Earthy</td>\n      <td>NaN</td>\n      <td>NaN</td>\n    </tr>\n    <tr>\n      <th>6</th>\n      <td>NYC Diesel</td>\n      <td>Hybrid</td>\n      <td>4.2</td>\n      <td>939.0</td>\n      <td>Afghani</td>\n      <td>Mexican</td>\n      <td>Blue Diesel</td>\n      <td>Strawberry Diesel</td>\n      <td>Myrcene</td>\n      <td>Happy</td>\n      <td>...</td>\n      <td>Pain</td>\n      <td>Energetic</td>\n      <td>Headache</td>\n      <td>Nausea</td>\n      <td>18.0</td>\n      <td>4.0</td>\n      <td>1.0</td>\n      <td>Diesel</td>\n      <td>Earthy</td>\n      <td>Grapefruit</td>\n    </tr>\n    <tr>\n      <th>7</th>\n      <td>Purple Goat</td>\n      <td>Hybrid</td>\n      <td>4.2</td>\n      <td>5.0</td>\n      <td>Trainwreck</td>\n      <td>Blueberry Skunk</td>\n      <td>NaN</td>\n      <td>NaN</td>\n      <td>Myrcene</td>\n      <td>Happy</td>\n      <td>...</td>\n      <td>Pain</td>\n      <td>Creative</td>\n      <td>NaN</td>\n      <td>Fatigue</td>\n      <td>15.0</td>\n      <td>1.0</td>\n      <td>1.0</td>\n      <td>Sweet</td>\n      <td>Orange</td>\n      <td>Lemon</td>\n    </tr>\n    <tr>\n      <th>8</th>\n      <td>Alphadawg</td>\n      <td>Hybrid</td>\n      <td>5.0</td>\n      <td>1.0</td>\n      <td>Chemdawg</td>\n      <td>NaN</td>\n      <td>NaN</td>\n      <td>NaN</td>\n      <td>Myrcene</td>\n      <td>Relaxed</td>\n      <td>...</td>\n      <td>NaN</td>\n      <td>NaN</td>\n      <td>NaN</td>\n      <td>NaN</td>\n      <td>16.0</td>\n      <td>1.0</td>\n      <td>1.0</td>\n      <td>Earthy</td>\n      <td>NaN</td>\n      <td>NaN</td>\n    </tr>\n    <tr>\n      <th>11</th>\n      <td>Sour Sunset</td>\n      <td>Hybrid</td>\n      <td>4.7</td>\n      <td>49.0</td>\n      <td>Sour Diesel</td>\n      <td>NaN</td>\n      <td>NaN</td>\n      <td>NaN</td>\n      <td>Myrcene</td>\n      <td>Relaxed</td>\n      <td>...</td>\n      <td>Headaches</td>\n      <td>Focused</td>\n      <td>Headache</td>\n      <td>Pain</td>\n      <td>18.0</td>\n      <td>6.0</td>\n      <td>1.0</td>\n      <td>Pungent</td>\n      <td>Lemon</td>\n      <td>TreeFruit</td>\n    </tr>\n    <tr>\n      <th>12</th>\n      <td>Purple Chemdawg</td>\n      <td>Indica</td>\n      <td>4.5</td>\n      <td>170.0</td>\n      <td>Granddaddy Purple</td>\n      <td>Chemdawg</td>\n      <td>NaN</td>\n      <td>NaN</td>\n      <td>Caryophyllene</td>\n      <td>Relaxed</td>\n      <td>...</td>\n      <td>Depression</td>\n      <td>Sleepy</td>\n      <td>Anxious</td>\n      <td>Insomnia</td>\n      <td>17.0</td>\n      <td>7.0</td>\n      <td>1.0</td>\n      <td>Chemical</td>\n      <td>Grape</td>\n      <td>Diesel</td>\n    </tr>\n    <tr>\n      <th>13</th>\n      <td>Vortex</td>\n      <td>Sativa</td>\n      <td>4.3</td>\n      <td>272.0</td>\n      <td>Space Queen</td>\n      <td>Apollo 13</td>\n      <td>Cinex</td>\n      <td>Timewreck</td>\n      <td>Myrcene</td>\n      <td>Euphoric</td>\n      <td>...</td>\n      <td>Pain</td>\n      <td>Creative</td>\n      <td>Paranoid</td>\n      <td>Fatigue</td>\n      <td>16.0</td>\n      <td>NaN</td>\n      <td>1.0</td>\n      <td>Citrus</td>\n      <td>Lemon</td>\n      <td>Tropical</td>\n    </tr>\n    <tr>\n      <th>15</th>\n      <td>Gutbuster</td>\n      <td>Indica</td>\n      <td>4.7</td>\n      <td>17.0</td>\n      <td>Cookies and Cream</td>\n      <td>Kimbo Kush</td>\n      <td>NaN</td>\n      <td>NaN</td>\n      <td>Limonene</td>\n      <td>Relaxed</td>\n      <td>...</td>\n      <td>Pain</td>\n      <td>Creative</td>\n      <td>NaN</td>\n      <td>Anxiety</td>\n      <td>18.0</td>\n      <td>14.0</td>\n      <td>1.0</td>\n      <td>Berry</td>\n      <td>Vanilla</td>\n      <td>Woody</td>\n    </tr>\n  </tbody>\n</table>\n<p>10 rows × 30 columns</p>\n</div>"
     },
     "metadata": {},
     "execution_count": 114
    }
   ],
   "source": [
    "\n",
    "\n",
    "df.head(10)\n",
    "\n"
   ]
  },
  {
   "cell_type": "code",
   "execution_count": 127,
   "metadata": {},
   "outputs": [],
   "source": [
    "curr_df = df.copy()\n",
    "curr_df = curr_df[(curr_df['Feeling_1'].notna()) & (curr_df['Feeling_2'].notna()) & (curr_df['Negative_2'].notna()) & (curr_df['Negative_1'].notna()) & (curr_df['Helps with_2'].notna()) & (curr_df['Helps with_1'].notna()) & (curr_df['Flavor_1'].notna())].copy()"
   ]
  },
  {
   "cell_type": "code",
   "execution_count": 128,
   "metadata": {},
   "outputs": [],
   "source": [
    "## Fill rest of NaNs with 'N/A' or 0.0\n",
    "\n",
    "for i in range(1,6):\n",
    "    curr_df[f'Feeling_{i}'].fillna('N/A',inplace=True)\n",
    "    curr_df[f'Negative_{i}'].fillna('N/A',inplace=True)\n",
    "    curr_df[f'Helps with_{i}'].fillna('N/A',inplace=True)\n",
    "\n",
    "curr_df.dropna(subset=['THC'],inplace=True)\n",
    "curr_df['CBD'].fillna(0.0,inplace=True)\n",
    "curr_df['Top Terpene'].fillna('N/A',inplace=True)\n",
    "curr_df['Flavor_2'].fillna('N/A',inplace=True)\n",
    "curr_df['Flavor_3'].fillna('N/A',inplace=True)\n"
   ]
  },
  {
   "cell_type": "code",
   "execution_count": 130,
   "metadata": {},
   "outputs": [],
   "source": [
    "curr_df.to_csv('clean_df.csv')"
   ]
  },
  {
   "cell_type": "code",
   "execution_count": 129,
   "metadata": {},
   "outputs": [
    {
     "output_type": "execute_result",
     "data": {
      "text/plain": [
       "(2064, 25)"
      ]
     },
     "metadata": {},
     "execution_count": 129
    }
   ],
   "source": [
    "curr_df.shape"
   ]
  },
  {
   "cell_type": "code",
   "execution_count": null,
   "metadata": {},
   "outputs": [],
   "source": []
  }
 ]
}