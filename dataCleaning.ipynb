{
 "metadata": {
  "language_info": {
   "codemirror_mode": {
    "name": "ipython",
    "version": 3
   },
   "file_extension": ".py",
   "mimetype": "text/x-python",
   "name": "python",
   "nbconvert_exporter": "python",
   "pygments_lexer": "ipython3",
   "version": "3.9.1"
  },
  "orig_nbformat": 2,
  "kernelspec": {
   "name": "python391jvsc74a57bd0aee8b7b246df8f9039afb4144a1f6fd8d2ca17a180786b69acc140d282b71a49",
   "display_name": "Python 3.9.1 64-bit"
  },
  "metadata": {
   "interpreter": {
    "hash": "aee8b7b246df8f9039afb4144a1f6fd8d2ca17a180786b69acc140d282b71a49"
   }
  }
 },
 "nbformat": 4,
 "nbformat_minor": 2,
 "cells": [
  {
   "cell_type": "code",
   "execution_count": 1,
   "metadata": {},
   "outputs": [],
   "source": [
    "import ast\n",
    "import bs4\n",
    "import time\n",
    "import json\n",
    "import requests\n",
    "import pandas as pd\n",
    "import scipy as scipy\n",
    "import numpy as np\n",
    "from bs4 import BeautifulSoup\n",
    "from datetime import datetime\n",
    "import matplotlib.pyplot as plt\n",
    "\n",
    "%matplotlib inline"
   ]
  },
  {
   "cell_type": "code",
   "execution_count": 100,
   "metadata": {},
   "outputs": [],
   "source": [
    "df = pd.read_csv('canna_df.csv')\n",
    "df['Feelings'] = df['Feelings'].map(ast.literal_eval) ## To get dicts instead of strings\n",
    "df['Cannabinoids'] = df['Cannabinoids'].map(ast.literal_eval)"
   ]
  },
  {
   "cell_type": "code",
   "execution_count": 101,
   "metadata": {},
   "outputs": [],
   "source": [
    "## Open dictionaries in columns ['Feelings','Cannabinoids'] to columns\n",
    "\n",
    "df = df.reset_index(drop=True)\n",
    "\n",
    "\n",
    "for i in range(5): \n",
    "    df[f'Feeling_{i+1}'] = df.apply(lambda x: x['Feelings']['Feelings'][i],axis=1) ## Turn feelings list to columns\n",
    "    df[f'Negative_{i+1}'] = df.apply(lambda x: x['Feelings']['Negatives'][i],axis=1) ## Turn negative feelings list to columns\n",
    "    df[f'Helps with_{i+1}'] = df.apply(lambda x: x['Feelings']['Helps with'][i],axis=1) ## Turn helps with list to columns\n",
    "\n",
    "    df[f'Feeling_{i+1}'] = df[f'Feeling_{i+1}'].str.replace(r'\\b $','',regex=True) ## Remove space at the end of values\n",
    "    df[f'Negative_{i+1}'] = df[f'Negative_{i+1}'].str.replace(r'\\b $','',regex=True)\n",
    "    df[f'Helps with_{i+1}'] = df[f'Helps with_{i+1}'].str.replace(r'\\b $','',regex=True)\n",
    "\n",
    "\n",
    "df['THC'] = df.apply(lambda x: x['Cannabinoids']['THC'],axis=1) ## Turn Cannabinoid dict to columns\n",
    "df['CBD'] = df.apply(lambda x: x['Cannabinoids']['CBD'],axis=1) \n",
    "df['CBG'] = df.apply(lambda x: x['Cannabinoids']['CBG'],axis=1) \n",
    "\n",
    "\n",
    "df.drop(['Feelings','Cannabinoids'],inplace=True,axis=1) ## Remove old columns\n",
    "\n",
    "cols = ['Rating','Rating Users','THC','CBD','CBG']\n",
    "\n",
    "df['THC'] = df['THC'].str.replace(\"%\",'',regex=True) # Remove % from numbers\n",
    "df['CBD'] = df['CBD'].str.replace(\"%\",'',regex=True)\n",
    "df['CBG'] = df['CBG'].str.replace(\"%\",'',regex=True)\n",
    "\n",
    "\n",
    "df['CBD'].replace(\"—\",np.nan,regex=True,inplace=True) # Replace '-' values with NaN\n",
    "df['THC'].replace(\"—\",np.nan,regex=True,inplace=True)\n",
    "df['CBG'].replace(\"—\",np.nan,regex=True,inplace=True)\n",
    "\n",
    "df[cols] = df[cols].apply(pd.to_numeric) # Change columns type to numeric\n",
    "\n",
    "\n",
    "\n"
   ]
  },
  {
   "cell_type": "code",
   "execution_count": 95,
   "metadata": {},
   "outputs": [
    {
     "output_type": "execute_result",
     "data": {
      "text/plain": [
       "Hybrid    3014\n",
       "Indica     836\n",
       "Sativa     520\n",
       "Name: Type, dtype: int64"
      ]
     },
     "metadata": {},
     "execution_count": 95
    }
   ],
   "source": [
    "df['Type'].value_counts()"
   ]
  },
  {
   "cell_type": "code",
   "execution_count": 102,
   "metadata": {},
   "outputs": [],
   "source": [
    "## Fill missing THC values\n",
    "\n",
    "def my_func(df,parent):\n",
    "\n",
    "    func_df = df.loc[(df['Left Parent'] == parent) | (df['Right parent'] == parent) | (df['Strain Name'] == parent)] ## All rows with same parent, including the parent\n",
    "    mean = round(func_df['THC'].mean(),0)\n",
    "\n",
    "    return mean\n",
    "\n",
    "def complete_cannabinoids_nan(df,col_names):\n",
    "    \n",
    "    fixed_df = []\n",
    "\n",
    "    for col in col_names:\n",
    "        try:\n",
    "            nanim = df[(df[f'{col}'].isna()) & ((df['Left Parent'].notna()) | (df['Right parent'].notna()))].copy() # To apply changes on real DF\n",
    "\n",
    "            nanim[f'{col}'] = nanim.apply(lambda x: my_func(df,x['Left Parent']),axis=1)\n",
    "            nanim[f'{col}'] = nanim.apply(lambda x: my_func(df,x['Right parent']) if pd.isnull(x[f'{col}']) else x[f'{col}'],axis=1)\n",
    "            fixed_df.append(nanim)\n",
    "        except Exception as e:\n",
    "            print(f'Didnt get data for {col_name}')\n",
    "            pass\n",
    "\n",
    "\n",
    "    fixed_df = pd.concat(fixed_df)\n",
    "\n",
    "    return fixed_df\n",
    "\n",
    "\n",
    "\n",
    "\n"
   ]
  },
  {
   "cell_type": "code",
   "execution_count": 48,
   "metadata": {},
   "outputs": [
    {
     "output_type": "execute_result",
     "data": {
      "text/plain": [
       "      Unnamed: 0     Strain Name    Type  Rating  Rating Users  Left Parent  \\\n",
       "0              0    Mega Jackpot  Hybrid     4.1          19.0   Jack Herer   \n",
       "1              1         Versace  Hybrid     4.8          30.0      OG Kush   \n",
       "2              2          Y Life  Hybrid     4.0           2.0          NaN   \n",
       "3              3    Purple Reign  Hybrid     4.2          17.0          NaN   \n",
       "4              4      Black Haze  Hybrid     4.4          43.0  Purple Haze   \n",
       "...          ...             ...     ...     ...           ...          ...   \n",
       "5157        5157         G Purps     NaN     3.6          11.0          NaN   \n",
       "5158        5158       Snow Daze     NaN     NaN           NaN          NaN   \n",
       "5159        5159            1024  Sativa     4.5          61.0          NaN   \n",
       "5160        5160  Red Velvet Pie  Hybrid     5.0          11.0   Cherry Pie   \n",
       "5161        5161        Heist OG     NaN     NaN           NaN          NaN   \n",
       "\n",
       "         Right parent Left Child Right Child Feeling_0  ... Helps with_2  \\\n",
       "0     Northern Lights        NaN         NaN   Relaxed  ...      Anxiety   \n",
       "1         Sour Diesel        NaN         NaN   Relaxed  ...      Fatigue   \n",
       "2                 NaN        NaN         NaN  Uplifted  ...         None   \n",
       "3                 NaN        NaN         NaN   Relaxed  ...      Anxiety   \n",
       "4      Colombian Gold        NaN         NaN   Relaxed  ...       Stress   \n",
       "...               ...        ...         ...       ...  ...          ...   \n",
       "5157              NaN        NaN         NaN      None  ...         None   \n",
       "5158              NaN        NaN         NaN      None  ...         None   \n",
       "5159              NaN        NaN         NaN  Uplifted  ...      Anxiety   \n",
       "5160              NaN        NaN         NaN     Happy  ...       Stress   \n",
       "5161              NaN        NaN         NaN      None  ...         None   \n",
       "\n",
       "     Feeling_3 Negative_3 Helps with_3  Feeling_4 Negative_4  \\\n",
       "0     Creative       None       Nausea  Talkative       None   \n",
       "1      Focused   Headache         Pain   Euphoric    Anxious   \n",
       "2         None       None         None       None       None   \n",
       "3       Tingly       None         None    Focused       None   \n",
       "4     Uplifted      Dizzy   Depression   Creative   Headache   \n",
       "...        ...        ...          ...        ...        ...   \n",
       "5157      None       None         None       None       None   \n",
       "5158      None       None         None       None       None   \n",
       "5159   Relaxed       None   Depression   Creative       None   \n",
       "5160    Giggly       None         None    Relaxed       None   \n",
       "5161      None       None         None       None       None   \n",
       "\n",
       "          Helps with_4   THC CBD  CBG  \n",
       "0               Stress  18.0 NaN  1.0  \n",
       "1            Headaches  14.0 NaN  NaN  \n",
       "2                 None   NaN NaN  NaN  \n",
       "3                 None   NaN NaN  NaN  \n",
       "4     Lack of appetite  15.0 NaN  NaN  \n",
       "...                ...   ...  ..  ...  \n",
       "5157              None   NaN NaN  NaN  \n",
       "5158              None  14.0 NaN  1.0  \n",
       "5159      Inflammation  10.0 NaN  1.0  \n",
       "5160              None  21.0 NaN  NaN  \n",
       "5161              None   NaN NaN  NaN  \n",
       "\n",
       "[5007 rows x 27 columns]"
      ],
      "text/html": "<div>\n<style scoped>\n    .dataframe tbody tr th:only-of-type {\n        vertical-align: middle;\n    }\n\n    .dataframe tbody tr th {\n        vertical-align: top;\n    }\n\n    .dataframe thead th {\n        text-align: right;\n    }\n</style>\n<table border=\"1\" class=\"dataframe\">\n  <thead>\n    <tr style=\"text-align: right;\">\n      <th></th>\n      <th>Unnamed: 0</th>\n      <th>Strain Name</th>\n      <th>Type</th>\n      <th>Rating</th>\n      <th>Rating Users</th>\n      <th>Left Parent</th>\n      <th>Right parent</th>\n      <th>Left Child</th>\n      <th>Right Child</th>\n      <th>Feeling_0</th>\n      <th>...</th>\n      <th>Helps with_2</th>\n      <th>Feeling_3</th>\n      <th>Negative_3</th>\n      <th>Helps with_3</th>\n      <th>Feeling_4</th>\n      <th>Negative_4</th>\n      <th>Helps with_4</th>\n      <th>THC</th>\n      <th>CBD</th>\n      <th>CBG</th>\n    </tr>\n  </thead>\n  <tbody>\n    <tr>\n      <th>0</th>\n      <td>0</td>\n      <td>Mega Jackpot</td>\n      <td>Hybrid</td>\n      <td>4.1</td>\n      <td>19.0</td>\n      <td>Jack Herer</td>\n      <td>Northern Lights</td>\n      <td>NaN</td>\n      <td>NaN</td>\n      <td>Relaxed</td>\n      <td>...</td>\n      <td>Anxiety</td>\n      <td>Creative</td>\n      <td>None</td>\n      <td>Nausea</td>\n      <td>Talkative</td>\n      <td>None</td>\n      <td>Stress</td>\n      <td>18.0</td>\n      <td>NaN</td>\n      <td>1.0</td>\n    </tr>\n    <tr>\n      <th>1</th>\n      <td>1</td>\n      <td>Versace</td>\n      <td>Hybrid</td>\n      <td>4.8</td>\n      <td>30.0</td>\n      <td>OG Kush</td>\n      <td>Sour Diesel</td>\n      <td>NaN</td>\n      <td>NaN</td>\n      <td>Relaxed</td>\n      <td>...</td>\n      <td>Fatigue</td>\n      <td>Focused</td>\n      <td>Headache</td>\n      <td>Pain</td>\n      <td>Euphoric</td>\n      <td>Anxious</td>\n      <td>Headaches</td>\n      <td>14.0</td>\n      <td>NaN</td>\n      <td>NaN</td>\n    </tr>\n    <tr>\n      <th>2</th>\n      <td>2</td>\n      <td>Y Life</td>\n      <td>Hybrid</td>\n      <td>4.0</td>\n      <td>2.0</td>\n      <td>NaN</td>\n      <td>NaN</td>\n      <td>NaN</td>\n      <td>NaN</td>\n      <td>Uplifted</td>\n      <td>...</td>\n      <td>None</td>\n      <td>None</td>\n      <td>None</td>\n      <td>None</td>\n      <td>None</td>\n      <td>None</td>\n      <td>None</td>\n      <td>NaN</td>\n      <td>NaN</td>\n      <td>NaN</td>\n    </tr>\n    <tr>\n      <th>3</th>\n      <td>3</td>\n      <td>Purple Reign</td>\n      <td>Hybrid</td>\n      <td>4.2</td>\n      <td>17.0</td>\n      <td>NaN</td>\n      <td>NaN</td>\n      <td>NaN</td>\n      <td>NaN</td>\n      <td>Relaxed</td>\n      <td>...</td>\n      <td>Anxiety</td>\n      <td>Tingly</td>\n      <td>None</td>\n      <td>None</td>\n      <td>Focused</td>\n      <td>None</td>\n      <td>None</td>\n      <td>NaN</td>\n      <td>NaN</td>\n      <td>NaN</td>\n    </tr>\n    <tr>\n      <th>4</th>\n      <td>4</td>\n      <td>Black Haze</td>\n      <td>Hybrid</td>\n      <td>4.4</td>\n      <td>43.0</td>\n      <td>Purple Haze</td>\n      <td>Colombian Gold</td>\n      <td>NaN</td>\n      <td>NaN</td>\n      <td>Relaxed</td>\n      <td>...</td>\n      <td>Stress</td>\n      <td>Uplifted</td>\n      <td>Dizzy</td>\n      <td>Depression</td>\n      <td>Creative</td>\n      <td>Headache</td>\n      <td>Lack of appetite</td>\n      <td>15.0</td>\n      <td>NaN</td>\n      <td>NaN</td>\n    </tr>\n    <tr>\n      <th>...</th>\n      <td>...</td>\n      <td>...</td>\n      <td>...</td>\n      <td>...</td>\n      <td>...</td>\n      <td>...</td>\n      <td>...</td>\n      <td>...</td>\n      <td>...</td>\n      <td>...</td>\n      <td>...</td>\n      <td>...</td>\n      <td>...</td>\n      <td>...</td>\n      <td>...</td>\n      <td>...</td>\n      <td>...</td>\n      <td>...</td>\n      <td>...</td>\n      <td>...</td>\n      <td>...</td>\n    </tr>\n    <tr>\n      <th>5157</th>\n      <td>5157</td>\n      <td>G Purps</td>\n      <td>NaN</td>\n      <td>3.6</td>\n      <td>11.0</td>\n      <td>NaN</td>\n      <td>NaN</td>\n      <td>NaN</td>\n      <td>NaN</td>\n      <td>None</td>\n      <td>...</td>\n      <td>None</td>\n      <td>None</td>\n      <td>None</td>\n      <td>None</td>\n      <td>None</td>\n      <td>None</td>\n      <td>None</td>\n      <td>NaN</td>\n      <td>NaN</td>\n      <td>NaN</td>\n    </tr>\n    <tr>\n      <th>5158</th>\n      <td>5158</td>\n      <td>Snow Daze</td>\n      <td>NaN</td>\n      <td>NaN</td>\n      <td>NaN</td>\n      <td>NaN</td>\n      <td>NaN</td>\n      <td>NaN</td>\n      <td>NaN</td>\n      <td>None</td>\n      <td>...</td>\n      <td>None</td>\n      <td>None</td>\n      <td>None</td>\n      <td>None</td>\n      <td>None</td>\n      <td>None</td>\n      <td>None</td>\n      <td>14.0</td>\n      <td>NaN</td>\n      <td>1.0</td>\n    </tr>\n    <tr>\n      <th>5159</th>\n      <td>5159</td>\n      <td>1024</td>\n      <td>Sativa</td>\n      <td>4.5</td>\n      <td>61.0</td>\n      <td>NaN</td>\n      <td>NaN</td>\n      <td>NaN</td>\n      <td>NaN</td>\n      <td>Uplifted</td>\n      <td>...</td>\n      <td>Anxiety</td>\n      <td>Relaxed</td>\n      <td>None</td>\n      <td>Depression</td>\n      <td>Creative</td>\n      <td>None</td>\n      <td>Inflammation</td>\n      <td>10.0</td>\n      <td>NaN</td>\n      <td>1.0</td>\n    </tr>\n    <tr>\n      <th>5160</th>\n      <td>5160</td>\n      <td>Red Velvet Pie</td>\n      <td>Hybrid</td>\n      <td>5.0</td>\n      <td>11.0</td>\n      <td>Cherry Pie</td>\n      <td>NaN</td>\n      <td>NaN</td>\n      <td>NaN</td>\n      <td>Happy</td>\n      <td>...</td>\n      <td>Stress</td>\n      <td>Giggly</td>\n      <td>None</td>\n      <td>None</td>\n      <td>Relaxed</td>\n      <td>None</td>\n      <td>None</td>\n      <td>21.0</td>\n      <td>NaN</td>\n      <td>NaN</td>\n    </tr>\n    <tr>\n      <th>5161</th>\n      <td>5161</td>\n      <td>Heist OG</td>\n      <td>NaN</td>\n      <td>NaN</td>\n      <td>NaN</td>\n      <td>NaN</td>\n      <td>NaN</td>\n      <td>NaN</td>\n      <td>NaN</td>\n      <td>None</td>\n      <td>...</td>\n      <td>None</td>\n      <td>None</td>\n      <td>None</td>\n      <td>None</td>\n      <td>None</td>\n      <td>None</td>\n      <td>None</td>\n      <td>NaN</td>\n      <td>NaN</td>\n      <td>NaN</td>\n    </tr>\n  </tbody>\n</table>\n<p>5007 rows × 27 columns</p>\n</div>"
     },
     "metadata": {},
     "execution_count": 48
    }
   ],
   "source": [
    "df[df['CBD'].isna()]"
   ]
  },
  {
   "cell_type": "code",
   "execution_count": 103,
   "metadata": {},
   "outputs": [],
   "source": [
    "\n",
    "nanim_df = complete_cannabinoids_nan(df,['THC','CBD','CBG'])\n"
   ]
  },
  {
   "cell_type": "code",
   "execution_count": 104,
   "metadata": {},
   "outputs": [],
   "source": [
    "df = df.copy()\n",
    "df.update(nanim_df)"
   ]
  },
  {
   "cell_type": "code",
   "execution_count": 105,
   "metadata": {},
   "outputs": [],
   "source": [
    "df.columns.str.match(\"Unnamed\") ## A new column was created from some reason\n",
    "df = df.loc[:,~df.columns.str.match(\"Unnamed\")]\n",
    "\n"
   ]
  },
  {
   "cell_type": "code",
   "execution_count": 99,
   "metadata": {},
   "outputs": [
    {
     "output_type": "execute_result",
     "data": {
      "text/plain": [
       "     Unnamed: 0        Strain Name    Type  Rating  Rating Users  \\\n",
       "8             8       Stashsquatch  Hybrid     NaN           NaN   \n",
       "17           17            Dosi OG  Hybrid     NaN           NaN   \n",
       "37           37  Sugartown Express  Hybrid     NaN           NaN   \n",
       "46           46          Hot Cakes  Hybrid     4.0           2.0   \n",
       "67           67               Ivan  Hybrid     NaN           NaN   \n",
       "73           73       Lemon Tangie  Hybrid     5.0           3.0   \n",
       "78           78        Actual Pain  Hybrid     NaN           NaN   \n",
       "106         106         Tangenesia  Hybrid     5.0           1.0   \n",
       "154         154         F'n louZER  Indica     NaN           NaN   \n",
       "187         187         Phone Home  Hybrid     5.0           1.0   \n",
       "\n",
       "           Left Parent          Right parent       Left Child     Right Child  \\\n",
       "8                  GSC               True OG  Lemon Stash CBD  Lazy Susan CBD   \n",
       "17             OG Kush             Do-Si-Dos              NaN             NaN   \n",
       "37   Purple Trainwreck                   NaN              NaN             NaN   \n",
       "46        Wedding Cake  Strawberry Shortcake              NaN             NaN   \n",
       "67                 GG4     Granddaddy Purple              NaN             NaN   \n",
       "73              SFV OG                Tangie              NaN             NaN   \n",
       "78              Papaya          Black Domina              NaN             NaN   \n",
       "106     Tangerine Haze                   NaN              NaN             NaN   \n",
       "154        White Rhino          Bloo's Kloos              NaN             NaN   \n",
       "187  Strawberry Banana                   NaN              NaN             NaN   \n",
       "\n",
       "    Feeling_1  ... Helps with_3 Feeling_4 Negative_4 Helps with_4 Feeling_5  \\\n",
       "8        None  ...         None      None       None         None      None   \n",
       "17       None  ...         None      None       None         None      None   \n",
       "37       None  ...         None      None       None         None      None   \n",
       "46       None  ...         None      None       None         None      None   \n",
       "67       None  ...         None      None       None         None      None   \n",
       "73       None  ...         None      None       None         None      None   \n",
       "78       None  ...         None      None       None         None      None   \n",
       "106      None  ...         None      None       None         None      None   \n",
       "154      None  ...         None      None       None         None      None   \n",
       "187      None  ...         None      None       None         None      None   \n",
       "\n",
       "    Negative_5 Helps with_5   THC CBD  CBG  \n",
       "8         None         None   NaN NaN  NaN  \n",
       "17        None         None  21.0 NaN  1.0  \n",
       "37        None         None   NaN NaN  NaN  \n",
       "46        None         None   NaN NaN  NaN  \n",
       "67        None         None   NaN NaN  NaN  \n",
       "73        None         None  19.0 NaN  NaN  \n",
       "78        None         None  19.0 NaN  1.0  \n",
       "106       None         None  16.0 NaN  1.0  \n",
       "154       None         None   NaN NaN  NaN  \n",
       "187       None         None  22.0 NaN  1.0  \n",
       "\n",
       "[10 rows x 27 columns]"
      ],
      "text/html": "<div>\n<style scoped>\n    .dataframe tbody tr th:only-of-type {\n        vertical-align: middle;\n    }\n\n    .dataframe tbody tr th {\n        vertical-align: top;\n    }\n\n    .dataframe thead th {\n        text-align: right;\n    }\n</style>\n<table border=\"1\" class=\"dataframe\">\n  <thead>\n    <tr style=\"text-align: right;\">\n      <th></th>\n      <th>Unnamed: 0</th>\n      <th>Strain Name</th>\n      <th>Type</th>\n      <th>Rating</th>\n      <th>Rating Users</th>\n      <th>Left Parent</th>\n      <th>Right parent</th>\n      <th>Left Child</th>\n      <th>Right Child</th>\n      <th>Feeling_1</th>\n      <th>...</th>\n      <th>Helps with_3</th>\n      <th>Feeling_4</th>\n      <th>Negative_4</th>\n      <th>Helps with_4</th>\n      <th>Feeling_5</th>\n      <th>Negative_5</th>\n      <th>Helps with_5</th>\n      <th>THC</th>\n      <th>CBD</th>\n      <th>CBG</th>\n    </tr>\n  </thead>\n  <tbody>\n    <tr>\n      <th>8</th>\n      <td>8</td>\n      <td>Stashsquatch</td>\n      <td>Hybrid</td>\n      <td>NaN</td>\n      <td>NaN</td>\n      <td>GSC</td>\n      <td>True OG</td>\n      <td>Lemon Stash CBD</td>\n      <td>Lazy Susan CBD</td>\n      <td>None</td>\n      <td>...</td>\n      <td>None</td>\n      <td>None</td>\n      <td>None</td>\n      <td>None</td>\n      <td>None</td>\n      <td>None</td>\n      <td>None</td>\n      <td>NaN</td>\n      <td>NaN</td>\n      <td>NaN</td>\n    </tr>\n    <tr>\n      <th>17</th>\n      <td>17</td>\n      <td>Dosi OG</td>\n      <td>Hybrid</td>\n      <td>NaN</td>\n      <td>NaN</td>\n      <td>OG Kush</td>\n      <td>Do-Si-Dos</td>\n      <td>NaN</td>\n      <td>NaN</td>\n      <td>None</td>\n      <td>...</td>\n      <td>None</td>\n      <td>None</td>\n      <td>None</td>\n      <td>None</td>\n      <td>None</td>\n      <td>None</td>\n      <td>None</td>\n      <td>21.0</td>\n      <td>NaN</td>\n      <td>1.0</td>\n    </tr>\n    <tr>\n      <th>37</th>\n      <td>37</td>\n      <td>Sugartown Express</td>\n      <td>Hybrid</td>\n      <td>NaN</td>\n      <td>NaN</td>\n      <td>Purple Trainwreck</td>\n      <td>NaN</td>\n      <td>NaN</td>\n      <td>NaN</td>\n      <td>None</td>\n      <td>...</td>\n      <td>None</td>\n      <td>None</td>\n      <td>None</td>\n      <td>None</td>\n      <td>None</td>\n      <td>None</td>\n      <td>None</td>\n      <td>NaN</td>\n      <td>NaN</td>\n      <td>NaN</td>\n    </tr>\n    <tr>\n      <th>46</th>\n      <td>46</td>\n      <td>Hot Cakes</td>\n      <td>Hybrid</td>\n      <td>4.0</td>\n      <td>2.0</td>\n      <td>Wedding Cake</td>\n      <td>Strawberry Shortcake</td>\n      <td>NaN</td>\n      <td>NaN</td>\n      <td>None</td>\n      <td>...</td>\n      <td>None</td>\n      <td>None</td>\n      <td>None</td>\n      <td>None</td>\n      <td>None</td>\n      <td>None</td>\n      <td>None</td>\n      <td>NaN</td>\n      <td>NaN</td>\n      <td>NaN</td>\n    </tr>\n    <tr>\n      <th>67</th>\n      <td>67</td>\n      <td>Ivan</td>\n      <td>Hybrid</td>\n      <td>NaN</td>\n      <td>NaN</td>\n      <td>GG4</td>\n      <td>Granddaddy Purple</td>\n      <td>NaN</td>\n      <td>NaN</td>\n      <td>None</td>\n      <td>...</td>\n      <td>None</td>\n      <td>None</td>\n      <td>None</td>\n      <td>None</td>\n      <td>None</td>\n      <td>None</td>\n      <td>None</td>\n      <td>NaN</td>\n      <td>NaN</td>\n      <td>NaN</td>\n    </tr>\n    <tr>\n      <th>73</th>\n      <td>73</td>\n      <td>Lemon Tangie</td>\n      <td>Hybrid</td>\n      <td>5.0</td>\n      <td>3.0</td>\n      <td>SFV OG</td>\n      <td>Tangie</td>\n      <td>NaN</td>\n      <td>NaN</td>\n      <td>None</td>\n      <td>...</td>\n      <td>None</td>\n      <td>None</td>\n      <td>None</td>\n      <td>None</td>\n      <td>None</td>\n      <td>None</td>\n      <td>None</td>\n      <td>19.0</td>\n      <td>NaN</td>\n      <td>NaN</td>\n    </tr>\n    <tr>\n      <th>78</th>\n      <td>78</td>\n      <td>Actual Pain</td>\n      <td>Hybrid</td>\n      <td>NaN</td>\n      <td>NaN</td>\n      <td>Papaya</td>\n      <td>Black Domina</td>\n      <td>NaN</td>\n      <td>NaN</td>\n      <td>None</td>\n      <td>...</td>\n      <td>None</td>\n      <td>None</td>\n      <td>None</td>\n      <td>None</td>\n      <td>None</td>\n      <td>None</td>\n      <td>None</td>\n      <td>19.0</td>\n      <td>NaN</td>\n      <td>1.0</td>\n    </tr>\n    <tr>\n      <th>106</th>\n      <td>106</td>\n      <td>Tangenesia</td>\n      <td>Hybrid</td>\n      <td>5.0</td>\n      <td>1.0</td>\n      <td>Tangerine Haze</td>\n      <td>NaN</td>\n      <td>NaN</td>\n      <td>NaN</td>\n      <td>None</td>\n      <td>...</td>\n      <td>None</td>\n      <td>None</td>\n      <td>None</td>\n      <td>None</td>\n      <td>None</td>\n      <td>None</td>\n      <td>None</td>\n      <td>16.0</td>\n      <td>NaN</td>\n      <td>1.0</td>\n    </tr>\n    <tr>\n      <th>154</th>\n      <td>154</td>\n      <td>F'n louZER</td>\n      <td>Indica</td>\n      <td>NaN</td>\n      <td>NaN</td>\n      <td>White Rhino</td>\n      <td>Bloo's Kloos</td>\n      <td>NaN</td>\n      <td>NaN</td>\n      <td>None</td>\n      <td>...</td>\n      <td>None</td>\n      <td>None</td>\n      <td>None</td>\n      <td>None</td>\n      <td>None</td>\n      <td>None</td>\n      <td>None</td>\n      <td>NaN</td>\n      <td>NaN</td>\n      <td>NaN</td>\n    </tr>\n    <tr>\n      <th>187</th>\n      <td>187</td>\n      <td>Phone Home</td>\n      <td>Hybrid</td>\n      <td>5.0</td>\n      <td>1.0</td>\n      <td>Strawberry Banana</td>\n      <td>NaN</td>\n      <td>NaN</td>\n      <td>NaN</td>\n      <td>None</td>\n      <td>...</td>\n      <td>None</td>\n      <td>None</td>\n      <td>None</td>\n      <td>None</td>\n      <td>None</td>\n      <td>None</td>\n      <td>None</td>\n      <td>22.0</td>\n      <td>NaN</td>\n      <td>1.0</td>\n    </tr>\n  </tbody>\n</table>\n<p>10 rows × 27 columns</p>\n</div>"
     },
     "metadata": {},
     "execution_count": 99
    }
   ],
   "source": [
    "\n",
    "\n",
    "# curr_df = df[(df['Feeling_1'].isna()) & (df['Feeling_2'].isna()) & (df['Feeling_3'].isna())]\n",
    "curr_df = df[(df['Feeling_1'].isnull()) & (df['Feeling_2'].isnull()) & (df['Feeling_3'].isnull()) & ((df['Left Parent'].notna()) | (df['Right parent'].notna()))]\n",
    "# curr_df = df[(df['Negative_1'].isnull()) & (df['Negative_2'].isnull()) & (df['Negative_3'].isnull())]\n",
    "\n",
    "# curr_df.shape\n",
    "curr_df.head(10)\n"
   ]
  },
  {
   "cell_type": "code",
   "execution_count": 166,
   "metadata": {},
   "outputs": [],
   "source": [
    "def my_func2(df,parent,mode,col):\n",
    "\n",
    "    func_df = df.loc[(df['Left Parent'] == parent) | (df['Right parent'] == parent) | (df['Strain Name'] == parent)] ## All rows with same parent, including the parent\n",
    "\n",
    "    if mode == 'Feelings':\n",
    "        try:\n",
    "            feeling = func_df[col].value_counts().idxmax()\n",
    "            \n",
    "            return feeling\n",
    "\n",
    "        except Exception as e:\n",
    "            feeling = np.NaN\n",
    "\n",
    "    elif mode == 'Cannabinoids':\n",
    "\n",
    "        mean = round(func_df[col].mean(),0)\n",
    "        return mean\n",
    "\n",
    "\n",
    "\n",
    "def complete_feelings(df,col_names):\n",
    "    \n",
    "    \n",
    "    \n",
    "    for i,col in enumerate(col_names,0):\n",
    "        if any('Feeling' in s for s in cols):\n",
    "            nanim = df[(df['Feeling_1'].isnull()) & (df['Feeling_2'].isnull()) & (df['Feeling_3'].isnull()) & ((df['Left Parent'].notna()) | (df['Right parent'].notna()))]\n",
    "            mode = 'Feelings'\n",
    "\n",
    "        # elif any('Negative' in s for s in cols):\n",
    "        #     nanim = df[(df['Negative_1'].isnull()) & (df['Negative_2'].isnull()) & (df['Negative_3'].isnull()) & ((df['Left Parent'].notna()) | (df['Right parent'].notna()))]\n",
    "        # elif any('Helps with' in s for s in cols):\n",
    "        #     nanim = df[(df['Helps with_1'].isnull()) & (df['Helps with_2'].isnull()) & (df['Helps with_3'].isnull()) & ((df['Left Parent'].notna()) | (df['Right parent'].notna()))]\n",
    "    \n",
    "        # else:\n",
    "        #     nanim = df[(df[f'{col}'].isna()) & ((df['Left Parent'].notna()) | (df['Right parent'].notna()))].copy() # To apply changes on real DF\n",
    "        #     mode = 'Cannabinoids'\n",
    "        \n",
    "        try:\n",
    "            \n",
    "            nanim[col] = nanim.apply(lambda x: my_func2(df,x['Left Parent'],mode,col),axis=1)\n",
    "            nanim[col] = nanim.apply(lambda x: my_func2(df,x['Right parent'],mode,col) if pd.isnull(x[col]) else x[col],axis=1)\n",
    "            if i == 0:\n",
    "                main_df = nanim\n",
    "            else:\n",
    "                main_df.fillna(nanim)\n",
    "\n",
    "        except Exception as e:\n",
    "            print(e)\n",
    "            pass\n",
    "\n",
    "\n",
    "    return nanim"
   ]
  },
  {
   "cell_type": "code",
   "execution_count": 173,
   "metadata": {},
   "outputs": [
    {
     "output_type": "stream",
     "name": "stdout",
     "text": [
      "Si\n"
     ]
    }
   ],
   "source": [
    "# cols = ['Feeling_1','Fas']\n",
    "\n",
    "# if any('Feeling' in s for s in cols):\n",
    "#     print('Si')\n",
    "\n",
    "cols = ['Feelings_1','Feelings_2','Feelings_3']"
   ]
  },
  {
   "cell_type": "code",
   "execution_count": 167,
   "metadata": {},
   "outputs": [],
   "source": [
    "feelings_complete = complete_feelings(df)"
   ]
  },
  {
   "cell_type": "code",
   "execution_count": 170,
   "metadata": {},
   "outputs": [
    {
     "output_type": "execute_result",
     "data": {
      "text/plain": [
       "           Strain Name    Type  Rating  Rating Users        Left Parent  \\\n",
       "8         Stashsquatch  Hybrid     NaN           NaN                GSC   \n",
       "17             Dosi OG  Hybrid     NaN           NaN            OG Kush   \n",
       "37   Sugartown Express  Hybrid     NaN           NaN  Purple Trainwreck   \n",
       "46           Hot Cakes  Hybrid     4.0           2.0       Wedding Cake   \n",
       "67                Ivan  Hybrid     NaN           NaN                GG4   \n",
       "73        Lemon Tangie  Hybrid     5.0           3.0             SFV OG   \n",
       "78         Actual Pain  Hybrid     NaN           NaN             Papaya   \n",
       "106         Tangenesia  Hybrid     5.0           1.0     Tangerine Haze   \n",
       "154         F'n louZER  Indica     NaN           NaN        White Rhino   \n",
       "187         Phone Home  Hybrid     5.0           1.0  Strawberry Banana   \n",
       "192          Sour D*OG  Hybrid     5.0           1.0   Rare Dankness #1   \n",
       "266                KGB  Hybrid     5.0           1.0            Afghani   \n",
       "273             Pie 95  Hybrid     NaN           NaN         Cherry Pie   \n",
       "282      Flying Hammer  Hybrid     NaN           NaN        Afghan Haze   \n",
       "291         Journeymen  Hybrid     NaN           NaN            Odyssey   \n",
       "\n",
       "               Right parent       Left Child       Right Child Feeling_1  \\\n",
       "8                   True OG  Lemon Stash CBD    Lazy Susan CBD   Relaxed   \n",
       "17                Do-Si-Dos              NaN               NaN   Relaxed   \n",
       "37                      NaN              NaN               NaN  Uplifted   \n",
       "46     Strawberry Shortcake              NaN               NaN   Relaxed   \n",
       "67        Granddaddy Purple              NaN               NaN   Relaxed   \n",
       "73                   Tangie              NaN               NaN   Relaxed   \n",
       "78             Black Domina              NaN               NaN     Happy   \n",
       "106                     NaN              NaN               NaN     Happy   \n",
       "154            Bloo's Kloos              NaN               NaN   Relaxed   \n",
       "187                     NaN              NaN               NaN   Relaxed   \n",
       "192  East Coast Sour Diesel              NaN               NaN   Relaxed   \n",
       "266                     NaN              NaN               NaN   Relaxed   \n",
       "273                    I-95    Pie Til I Die  Pie of the Tiger   Relaxed   \n",
       "282              Anesthesia              NaN               NaN   Relaxed   \n",
       "291                     NaN              NaN               NaN   Focused   \n",
       "\n",
       "    Negative_1  ... Helps with_3 Feeling_4 Negative_4 Helps with_4 Feeling_5  \\\n",
       "8         None  ...         None      None       None         None      None   \n",
       "17        None  ...         None      None       None         None      None   \n",
       "37        None  ...         None      None       None         None      None   \n",
       "46        None  ...         None      None       None         None      None   \n",
       "67        None  ...         None      None       None         None      None   \n",
       "73        None  ...         None      None       None         None      None   \n",
       "78        None  ...         None      None       None         None      None   \n",
       "106       None  ...         None      None       None         None      None   \n",
       "154       None  ...         None      None       None         None      None   \n",
       "187       None  ...         None      None       None         None      None   \n",
       "192       None  ...         None      None       None         None      None   \n",
       "266       None  ...         None      None       None         None      None   \n",
       "273       None  ...         None      None       None         None      None   \n",
       "282       None  ...         None      None       None         None      None   \n",
       "291       None  ...         None      None       None         None      None   \n",
       "\n",
       "    Negative_5 Helps with_5   THC CBD   CBG  \n",
       "8         None         None   NaN NaN  19.0  \n",
       "17        None         None  21.0 NaN   1.0  \n",
       "37        None         None   NaN NaN  18.0  \n",
       "46        None         None   NaN NaN  20.0  \n",
       "67        None         None   NaN NaN  20.0  \n",
       "73        None         None  19.0 NaN  21.0  \n",
       "78        None         None  19.0 NaN   1.0  \n",
       "106       None         None  16.0 NaN   1.0  \n",
       "154       None         None   NaN NaN  17.0  \n",
       "187       None         None  22.0 NaN   1.0  \n",
       "192       None         None  20.0 NaN   1.0  \n",
       "266       None         None  21.0 NaN   1.0  \n",
       "273       None         None   NaN NaN  19.0  \n",
       "282       None         None  19.0 NaN   1.0  \n",
       "291       None         None   NaN NaN   NaN  \n",
       "\n",
       "[15 rows x 26 columns]"
      ],
      "text/html": "<div>\n<style scoped>\n    .dataframe tbody tr th:only-of-type {\n        vertical-align: middle;\n    }\n\n    .dataframe tbody tr th {\n        vertical-align: top;\n    }\n\n    .dataframe thead th {\n        text-align: right;\n    }\n</style>\n<table border=\"1\" class=\"dataframe\">\n  <thead>\n    <tr style=\"text-align: right;\">\n      <th></th>\n      <th>Strain Name</th>\n      <th>Type</th>\n      <th>Rating</th>\n      <th>Rating Users</th>\n      <th>Left Parent</th>\n      <th>Right parent</th>\n      <th>Left Child</th>\n      <th>Right Child</th>\n      <th>Feeling_1</th>\n      <th>Negative_1</th>\n      <th>...</th>\n      <th>Helps with_3</th>\n      <th>Feeling_4</th>\n      <th>Negative_4</th>\n      <th>Helps with_4</th>\n      <th>Feeling_5</th>\n      <th>Negative_5</th>\n      <th>Helps with_5</th>\n      <th>THC</th>\n      <th>CBD</th>\n      <th>CBG</th>\n    </tr>\n  </thead>\n  <tbody>\n    <tr>\n      <th>8</th>\n      <td>Stashsquatch</td>\n      <td>Hybrid</td>\n      <td>NaN</td>\n      <td>NaN</td>\n      <td>GSC</td>\n      <td>True OG</td>\n      <td>Lemon Stash CBD</td>\n      <td>Lazy Susan CBD</td>\n      <td>Relaxed</td>\n      <td>None</td>\n      <td>...</td>\n      <td>None</td>\n      <td>None</td>\n      <td>None</td>\n      <td>None</td>\n      <td>None</td>\n      <td>None</td>\n      <td>None</td>\n      <td>NaN</td>\n      <td>NaN</td>\n      <td>19.0</td>\n    </tr>\n    <tr>\n      <th>17</th>\n      <td>Dosi OG</td>\n      <td>Hybrid</td>\n      <td>NaN</td>\n      <td>NaN</td>\n      <td>OG Kush</td>\n      <td>Do-Si-Dos</td>\n      <td>NaN</td>\n      <td>NaN</td>\n      <td>Relaxed</td>\n      <td>None</td>\n      <td>...</td>\n      <td>None</td>\n      <td>None</td>\n      <td>None</td>\n      <td>None</td>\n      <td>None</td>\n      <td>None</td>\n      <td>None</td>\n      <td>21.0</td>\n      <td>NaN</td>\n      <td>1.0</td>\n    </tr>\n    <tr>\n      <th>37</th>\n      <td>Sugartown Express</td>\n      <td>Hybrid</td>\n      <td>NaN</td>\n      <td>NaN</td>\n      <td>Purple Trainwreck</td>\n      <td>NaN</td>\n      <td>NaN</td>\n      <td>NaN</td>\n      <td>Uplifted</td>\n      <td>None</td>\n      <td>...</td>\n      <td>None</td>\n      <td>None</td>\n      <td>None</td>\n      <td>None</td>\n      <td>None</td>\n      <td>None</td>\n      <td>None</td>\n      <td>NaN</td>\n      <td>NaN</td>\n      <td>18.0</td>\n    </tr>\n    <tr>\n      <th>46</th>\n      <td>Hot Cakes</td>\n      <td>Hybrid</td>\n      <td>4.0</td>\n      <td>2.0</td>\n      <td>Wedding Cake</td>\n      <td>Strawberry Shortcake</td>\n      <td>NaN</td>\n      <td>NaN</td>\n      <td>Relaxed</td>\n      <td>None</td>\n      <td>...</td>\n      <td>None</td>\n      <td>None</td>\n      <td>None</td>\n      <td>None</td>\n      <td>None</td>\n      <td>None</td>\n      <td>None</td>\n      <td>NaN</td>\n      <td>NaN</td>\n      <td>20.0</td>\n    </tr>\n    <tr>\n      <th>67</th>\n      <td>Ivan</td>\n      <td>Hybrid</td>\n      <td>NaN</td>\n      <td>NaN</td>\n      <td>GG4</td>\n      <td>Granddaddy Purple</td>\n      <td>NaN</td>\n      <td>NaN</td>\n      <td>Relaxed</td>\n      <td>None</td>\n      <td>...</td>\n      <td>None</td>\n      <td>None</td>\n      <td>None</td>\n      <td>None</td>\n      <td>None</td>\n      <td>None</td>\n      <td>None</td>\n      <td>NaN</td>\n      <td>NaN</td>\n      <td>20.0</td>\n    </tr>\n    <tr>\n      <th>73</th>\n      <td>Lemon Tangie</td>\n      <td>Hybrid</td>\n      <td>5.0</td>\n      <td>3.0</td>\n      <td>SFV OG</td>\n      <td>Tangie</td>\n      <td>NaN</td>\n      <td>NaN</td>\n      <td>Relaxed</td>\n      <td>None</td>\n      <td>...</td>\n      <td>None</td>\n      <td>None</td>\n      <td>None</td>\n      <td>None</td>\n      <td>None</td>\n      <td>None</td>\n      <td>None</td>\n      <td>19.0</td>\n      <td>NaN</td>\n      <td>21.0</td>\n    </tr>\n    <tr>\n      <th>78</th>\n      <td>Actual Pain</td>\n      <td>Hybrid</td>\n      <td>NaN</td>\n      <td>NaN</td>\n      <td>Papaya</td>\n      <td>Black Domina</td>\n      <td>NaN</td>\n      <td>NaN</td>\n      <td>Happy</td>\n      <td>None</td>\n      <td>...</td>\n      <td>None</td>\n      <td>None</td>\n      <td>None</td>\n      <td>None</td>\n      <td>None</td>\n      <td>None</td>\n      <td>None</td>\n      <td>19.0</td>\n      <td>NaN</td>\n      <td>1.0</td>\n    </tr>\n    <tr>\n      <th>106</th>\n      <td>Tangenesia</td>\n      <td>Hybrid</td>\n      <td>5.0</td>\n      <td>1.0</td>\n      <td>Tangerine Haze</td>\n      <td>NaN</td>\n      <td>NaN</td>\n      <td>NaN</td>\n      <td>Happy</td>\n      <td>None</td>\n      <td>...</td>\n      <td>None</td>\n      <td>None</td>\n      <td>None</td>\n      <td>None</td>\n      <td>None</td>\n      <td>None</td>\n      <td>None</td>\n      <td>16.0</td>\n      <td>NaN</td>\n      <td>1.0</td>\n    </tr>\n    <tr>\n      <th>154</th>\n      <td>F'n louZER</td>\n      <td>Indica</td>\n      <td>NaN</td>\n      <td>NaN</td>\n      <td>White Rhino</td>\n      <td>Bloo's Kloos</td>\n      <td>NaN</td>\n      <td>NaN</td>\n      <td>Relaxed</td>\n      <td>None</td>\n      <td>...</td>\n      <td>None</td>\n      <td>None</td>\n      <td>None</td>\n      <td>None</td>\n      <td>None</td>\n      <td>None</td>\n      <td>None</td>\n      <td>NaN</td>\n      <td>NaN</td>\n      <td>17.0</td>\n    </tr>\n    <tr>\n      <th>187</th>\n      <td>Phone Home</td>\n      <td>Hybrid</td>\n      <td>5.0</td>\n      <td>1.0</td>\n      <td>Strawberry Banana</td>\n      <td>NaN</td>\n      <td>NaN</td>\n      <td>NaN</td>\n      <td>Relaxed</td>\n      <td>None</td>\n      <td>...</td>\n      <td>None</td>\n      <td>None</td>\n      <td>None</td>\n      <td>None</td>\n      <td>None</td>\n      <td>None</td>\n      <td>None</td>\n      <td>22.0</td>\n      <td>NaN</td>\n      <td>1.0</td>\n    </tr>\n    <tr>\n      <th>192</th>\n      <td>Sour D*OG</td>\n      <td>Hybrid</td>\n      <td>5.0</td>\n      <td>1.0</td>\n      <td>Rare Dankness #1</td>\n      <td>East Coast Sour Diesel</td>\n      <td>NaN</td>\n      <td>NaN</td>\n      <td>Relaxed</td>\n      <td>None</td>\n      <td>...</td>\n      <td>None</td>\n      <td>None</td>\n      <td>None</td>\n      <td>None</td>\n      <td>None</td>\n      <td>None</td>\n      <td>None</td>\n      <td>20.0</td>\n      <td>NaN</td>\n      <td>1.0</td>\n    </tr>\n    <tr>\n      <th>266</th>\n      <td>KGB</td>\n      <td>Hybrid</td>\n      <td>5.0</td>\n      <td>1.0</td>\n      <td>Afghani</td>\n      <td>NaN</td>\n      <td>NaN</td>\n      <td>NaN</td>\n      <td>Relaxed</td>\n      <td>None</td>\n      <td>...</td>\n      <td>None</td>\n      <td>None</td>\n      <td>None</td>\n      <td>None</td>\n      <td>None</td>\n      <td>None</td>\n      <td>None</td>\n      <td>21.0</td>\n      <td>NaN</td>\n      <td>1.0</td>\n    </tr>\n    <tr>\n      <th>273</th>\n      <td>Pie 95</td>\n      <td>Hybrid</td>\n      <td>NaN</td>\n      <td>NaN</td>\n      <td>Cherry Pie</td>\n      <td>I-95</td>\n      <td>Pie Til I Die</td>\n      <td>Pie of the Tiger</td>\n      <td>Relaxed</td>\n      <td>None</td>\n      <td>...</td>\n      <td>None</td>\n      <td>None</td>\n      <td>None</td>\n      <td>None</td>\n      <td>None</td>\n      <td>None</td>\n      <td>None</td>\n      <td>NaN</td>\n      <td>NaN</td>\n      <td>19.0</td>\n    </tr>\n    <tr>\n      <th>282</th>\n      <td>Flying Hammer</td>\n      <td>Hybrid</td>\n      <td>NaN</td>\n      <td>NaN</td>\n      <td>Afghan Haze</td>\n      <td>Anesthesia</td>\n      <td>NaN</td>\n      <td>NaN</td>\n      <td>Relaxed</td>\n      <td>None</td>\n      <td>...</td>\n      <td>None</td>\n      <td>None</td>\n      <td>None</td>\n      <td>None</td>\n      <td>None</td>\n      <td>None</td>\n      <td>None</td>\n      <td>19.0</td>\n      <td>NaN</td>\n      <td>1.0</td>\n    </tr>\n    <tr>\n      <th>291</th>\n      <td>Journeymen</td>\n      <td>Hybrid</td>\n      <td>NaN</td>\n      <td>NaN</td>\n      <td>Odyssey</td>\n      <td>NaN</td>\n      <td>NaN</td>\n      <td>NaN</td>\n      <td>Focused</td>\n      <td>None</td>\n      <td>...</td>\n      <td>None</td>\n      <td>None</td>\n      <td>None</td>\n      <td>None</td>\n      <td>None</td>\n      <td>None</td>\n      <td>None</td>\n      <td>NaN</td>\n      <td>NaN</td>\n      <td>NaN</td>\n    </tr>\n  </tbody>\n</table>\n<p>15 rows × 26 columns</p>\n</div>"
     },
     "metadata": {},
     "execution_count": 170
    }
   ],
   "source": [
    "# curr_df = df[(df['Feeling_1'].isnull()) & (df['Feeling_2'].isnull()) & (df['Feeling_3'].isnull()) & ((df['Left Parent'].notna()) | (df['Right parent'].notna()))]\n",
    "feelings_complete.head(15)\n",
    "# feelings_complete.shape"
   ]
  },
  {
   "cell_type": "code",
   "execution_count": 22,
   "metadata": {},
   "outputs": [
    {
     "output_type": "display_data",
     "data": {
      "text/plain": "<Figure size 432x288 with 1 Axes>",
      "image/svg+xml": "<?xml version=\"1.0\" encoding=\"utf-8\" standalone=\"no\"?>\n<!DOCTYPE svg PUBLIC \"-//W3C//DTD SVG 1.1//EN\"\n  \"http://www.w3.org/Graphics/SVG/1.1/DTD/svg11.dtd\">\n<!-- Created with matplotlib (https://matplotlib.org/) -->\n<svg height=\"277.314375pt\" version=\"1.1\" viewBox=\"0 0 390.416338 277.314375\" width=\"390.416338pt\" xmlns=\"http://www.w3.org/2000/svg\" xmlns:xlink=\"http://www.w3.org/1999/xlink\">\n <metadata>\n  <rdf:RDF xmlns:cc=\"http://creativecommons.org/ns#\" xmlns:dc=\"http://purl.org/dc/elements/1.1/\" xmlns:rdf=\"http://www.w3.org/1999/02/22-rdf-syntax-ns#\">\n   <cc:Work>\n    <dc:type rdf:resource=\"http://purl.org/dc/dcmitype/StillImage\"/>\n    <dc:date>2021-05-10T20:27:27.044424</dc:date>\n    <dc:format>image/svg+xml</dc:format>\n    <dc:creator>\n     <cc:Agent>\n      <dc:title>Matplotlib v3.3.4, https://matplotlib.org/</dc:title>\n     </cc:Agent>\n    </dc:creator>\n   </cc:Work>\n  </rdf:RDF>\n </metadata>\n <defs>\n  <style type=\"text/css\">*{stroke-linecap:butt;stroke-linejoin:round;}</style>\n </defs>\n <g id=\"figure_1\">\n  <g id=\"patch_1\">\n   <path d=\"M 0 277.314375 \nL 390.416338 277.314375 \nL 390.416338 0 \nL 0 0 \nz\n\" style=\"fill:none;\"/>\n  </g>\n  <g id=\"axes_1\">\n   <g id=\"patch_2\">\n    <path d=\"M 46.965625 239.758125 \nL 381.765625 239.758125 \nL 381.765625 22.318125 \nL 46.965625 22.318125 \nz\n\" style=\"fill:#ffffff;\"/>\n   </g>\n   <g id=\"patch_3\">\n    <path clip-path=\"url(#pf0eee8f117)\" d=\"M 62.183807 239.758125 \nL 70.354643 239.758125 \nL 70.354643 229.820575 \nL 62.183807 229.820575 \nz\n\" style=\"fill:#1f77b4;\"/>\n   </g>\n   <g id=\"patch_4\">\n    <path clip-path=\"url(#pf0eee8f117)\" d=\"M 72.397352 239.758125 \nL 80.568188 239.758125 \nL 80.568188 235.911332 \nL 72.397352 235.911332 \nz\n\" style=\"fill:#1f77b4;\"/>\n   </g>\n   <g id=\"patch_5\">\n    <path clip-path=\"url(#pf0eee8f117)\" d=\"M 82.610897 239.758125 \nL 90.781732 239.758125 \nL 90.781732 235.270199 \nL 82.610897 235.270199 \nz\n\" style=\"fill:#1f77b4;\"/>\n   </g>\n   <g id=\"patch_6\">\n    <path clip-path=\"url(#pf0eee8f117)\" d=\"M 92.824441 239.758125 \nL 100.995277 239.758125 \nL 100.995277 233.987935 \nL 92.824441 233.987935 \nz\n\" style=\"fill:#1f77b4;\"/>\n   </g>\n   <g id=\"patch_7\">\n    <path clip-path=\"url(#pf0eee8f117)\" d=\"M 103.037986 239.758125 \nL 111.208822 239.758125 \nL 111.208822 234.308501 \nL 103.037986 234.308501 \nz\n\" style=\"fill:#1f77b4;\"/>\n   </g>\n   <g id=\"patch_8\">\n    <path clip-path=\"url(#pf0eee8f117)\" d=\"M 113.251531 239.758125 \nL 121.422367 239.758125 \nL 121.422367 235.590765 \nL 113.251531 235.590765 \nz\n\" style=\"fill:#1f77b4;\"/>\n   </g>\n   <g id=\"patch_9\">\n    <path clip-path=\"url(#pf0eee8f117)\" d=\"M 123.465076 239.758125 \nL 131.635912 239.758125 \nL 131.635912 233.987935 \nL 123.465076 233.987935 \nz\n\" style=\"fill:#1f77b4;\"/>\n   </g>\n   <g id=\"patch_10\">\n    <path clip-path=\"url(#pf0eee8f117)\" d=\"M 133.678621 239.758125 \nL 141.849457 239.758125 \nL 141.849457 236.552464 \nL 133.678621 236.552464 \nz\n\" style=\"fill:#1f77b4;\"/>\n   </g>\n   <g id=\"patch_11\">\n    <path clip-path=\"url(#pf0eee8f117)\" d=\"M 143.892166 239.758125 \nL 152.063001 239.758125 \nL 152.063001 235.911332 \nL 143.892166 235.911332 \nz\n\" style=\"fill:#1f77b4;\"/>\n   </g>\n   <g id=\"patch_12\">\n    <path clip-path=\"url(#pf0eee8f117)\" d=\"M 154.10571 239.758125 \nL 162.276546 239.758125 \nL 162.276546 231.743972 \nL 154.10571 231.743972 \nz\n\" style=\"fill:#1f77b4;\"/>\n   </g>\n   <g id=\"patch_13\">\n    <path clip-path=\"url(#pf0eee8f117)\" d=\"M 164.319255 239.758125 \nL 172.490091 239.758125 \nL 172.490091 201.610757 \nL 164.319255 201.610757 \nz\n\" style=\"fill:#1f77b4;\"/>\n   </g>\n   <g id=\"patch_14\">\n    <path clip-path=\"url(#pf0eee8f117)\" d=\"M 174.5328 239.758125 \nL 182.703636 239.758125 \nL 182.703636 195.840566 \nL 174.5328 195.840566 \nz\n\" style=\"fill:#1f77b4;\"/>\n   </g>\n   <g id=\"patch_15\">\n    <path clip-path=\"url(#pf0eee8f117)\" d=\"M 184.746345 239.758125 \nL 192.917181 239.758125 \nL 192.917181 175.965467 \nL 184.746345 175.965467 \nz\n\" style=\"fill:#1f77b4;\"/>\n   </g>\n   <g id=\"patch_16\">\n    <path clip-path=\"url(#pf0eee8f117)\" d=\"M 194.95989 239.758125 \nL 203.130726 239.758125 \nL 203.130726 124.354321 \nL 194.95989 124.354321 \nz\n\" style=\"fill:#1f77b4;\"/>\n   </g>\n   <g id=\"patch_17\">\n    <path clip-path=\"url(#pf0eee8f117)\" d=\"M 205.173435 239.758125 \nL 213.344271 239.758125 \nL 213.344271 56.073738 \nL 205.173435 56.073738 \nz\n\" style=\"fill:#1f77b4;\"/>\n   </g>\n   <g id=\"patch_18\">\n    <path clip-path=\"url(#pf0eee8f117)\" d=\"M 215.386979 239.758125 \nL 223.557815 239.758125 \nL 223.557815 32.672411 \nL 215.386979 32.672411 \nz\n\" style=\"fill:#1f77b4;\"/>\n   </g>\n   <g id=\"patch_19\">\n    <path clip-path=\"url(#pf0eee8f117)\" d=\"M 225.600524 239.758125 \nL 233.77136 239.758125 \nL 233.77136 61.843928 \nL 225.600524 61.843928 \nz\n\" style=\"fill:#1f77b4;\"/>\n   </g>\n   <g id=\"patch_20\">\n    <path clip-path=\"url(#pf0eee8f117)\" d=\"M 235.814069 239.758125 \nL 243.984905 239.758125 \nL 243.984905 79.154498 \nL 235.814069 79.154498 \nz\n\" style=\"fill:#1f77b4;\"/>\n   </g>\n   <g id=\"patch_21\">\n    <path clip-path=\"url(#pf0eee8f117)\" d=\"M 246.027614 239.758125 \nL 254.19845 239.758125 \nL 254.19845 138.459231 \nL 246.027614 138.459231 \nz\n\" style=\"fill:#1f77b4;\"/>\n   </g>\n   <g id=\"patch_22\">\n    <path clip-path=\"url(#pf0eee8f117)\" d=\"M 256.241159 239.758125 \nL 264.411995 239.758125 \nL 264.411995 184.300186 \nL 256.241159 184.300186 \nz\n\" style=\"fill:#1f77b4;\"/>\n   </g>\n   <g id=\"patch_23\">\n    <path clip-path=\"url(#pf0eee8f117)\" d=\"M 266.454704 239.758125 \nL 274.62554 239.758125 \nL 274.62554 172.43924 \nL 266.454704 172.43924 \nz\n\" style=\"fill:#1f77b4;\"/>\n   </g>\n   <g id=\"patch_24\">\n    <path clip-path=\"url(#pf0eee8f117)\" d=\"M 276.668249 239.758125 \nL 284.839084 239.758125 \nL 284.839084 224.050385 \nL 276.668249 224.050385 \nz\n\" style=\"fill:#1f77b4;\"/>\n   </g>\n   <g id=\"patch_25\">\n    <path clip-path=\"url(#pf0eee8f117)\" d=\"M 286.881793 239.758125 \nL 295.052629 239.758125 \nL 295.052629 230.461707 \nL 286.881793 230.461707 \nz\n\" style=\"fill:#1f77b4;\"/>\n   </g>\n   <g id=\"patch_26\">\n    <path clip-path=\"url(#pf0eee8f117)\" d=\"M 297.095338 239.758125 \nL 305.266174 239.758125 \nL 305.266174 230.141141 \nL 297.095338 230.141141 \nz\n\" style=\"fill:#1f77b4;\"/>\n   </g>\n   <g id=\"patch_27\">\n    <path clip-path=\"url(#pf0eee8f117)\" d=\"M 307.308883 239.758125 \nL 315.479719 239.758125 \nL 315.479719 236.552464 \nL 307.308883 236.552464 \nz\n\" style=\"fill:#1f77b4;\"/>\n   </g>\n   <g id=\"patch_28\">\n    <path clip-path=\"url(#pf0eee8f117)\" d=\"M 317.522428 239.758125 \nL 325.693264 239.758125 \nL 325.693264 237.193596 \nL 317.522428 237.193596 \nz\n\" style=\"fill:#1f77b4;\"/>\n   </g>\n   <g id=\"patch_29\">\n    <path clip-path=\"url(#pf0eee8f117)\" d=\"M 327.735973 239.758125 \nL 335.906809 239.758125 \nL 335.906809 238.475861 \nL 327.735973 238.475861 \nz\n\" style=\"fill:#1f77b4;\"/>\n   </g>\n   <g id=\"patch_30\">\n    <path clip-path=\"url(#pf0eee8f117)\" d=\"M 337.949518 239.758125 \nL 346.120353 239.758125 \nL 346.120353 238.796427 \nL 337.949518 238.796427 \nz\n\" style=\"fill:#1f77b4;\"/>\n   </g>\n   <g id=\"patch_31\">\n    <path clip-path=\"url(#pf0eee8f117)\" d=\"M 348.163062 239.758125 \nL 356.333898 239.758125 \nL 356.333898 239.437559 \nL 348.163062 239.437559 \nz\n\" style=\"fill:#1f77b4;\"/>\n   </g>\n   <g id=\"patch_32\">\n    <path clip-path=\"url(#pf0eee8f117)\" d=\"M 358.376607 239.758125 \nL 366.547443 239.758125 \nL 366.547443 238.796427 \nL 358.376607 238.796427 \nz\n\" style=\"fill:#1f77b4;\"/>\n   </g>\n   <g id=\"matplotlib.axis_1\">\n    <g id=\"xtick_1\">\n     <g id=\"line2d_1\">\n      <defs>\n       <path d=\"M 0 0 \nL 0 3.5 \n\" id=\"me1707c84bf\" style=\"stroke:#000000;stroke-width:0.8;\"/>\n      </defs>\n      <g>\n       <use style=\"stroke:#000000;stroke-width:0.8;\" x=\"51.877412\" xlink:href=\"#me1707c84bf\" y=\"239.758125\"/>\n      </g>\n     </g>\n     <g id=\"text_1\">\n      <!-- 0 -->\n      <g transform=\"translate(48.696162 254.356562)scale(0.1 -0.1)\">\n       <defs>\n        <path d=\"M 31.78125 66.40625 \nQ 24.171875 66.40625 20.328125 58.90625 \nQ 16.5 51.421875 16.5 36.375 \nQ 16.5 21.390625 20.328125 13.890625 \nQ 24.171875 6.390625 31.78125 6.390625 \nQ 39.453125 6.390625 43.28125 13.890625 \nQ 47.125 21.390625 47.125 36.375 \nQ 47.125 51.421875 43.28125 58.90625 \nQ 39.453125 66.40625 31.78125 66.40625 \nz\nM 31.78125 74.21875 \nQ 44.046875 74.21875 50.515625 64.515625 \nQ 56.984375 54.828125 56.984375 36.375 \nQ 56.984375 17.96875 50.515625 8.265625 \nQ 44.046875 -1.421875 31.78125 -1.421875 \nQ 19.53125 -1.421875 13.0625 8.265625 \nQ 6.59375 17.96875 6.59375 36.375 \nQ 6.59375 54.828125 13.0625 64.515625 \nQ 19.53125 74.21875 31.78125 74.21875 \nz\n\" id=\"DejaVuSans-48\"/>\n       </defs>\n       <use xlink:href=\"#DejaVuSans-48\"/>\n      </g>\n     </g>\n    </g>\n    <g id=\"xtick_2\">\n     <g id=\"line2d_2\">\n      <g>\n       <use style=\"stroke:#000000;stroke-width:0.8;\" x=\"98.302615\" xlink:href=\"#me1707c84bf\" y=\"239.758125\"/>\n      </g>\n     </g>\n     <g id=\"text_2\">\n      <!-- 5 -->\n      <g transform=\"translate(95.121365 254.356562)scale(0.1 -0.1)\">\n       <defs>\n        <path d=\"M 10.796875 72.90625 \nL 49.515625 72.90625 \nL 49.515625 64.59375 \nL 19.828125 64.59375 \nL 19.828125 46.734375 \nQ 21.96875 47.46875 24.109375 47.828125 \nQ 26.265625 48.1875 28.421875 48.1875 \nQ 40.625 48.1875 47.75 41.5 \nQ 54.890625 34.8125 54.890625 23.390625 \nQ 54.890625 11.625 47.5625 5.09375 \nQ 40.234375 -1.421875 26.90625 -1.421875 \nQ 22.3125 -1.421875 17.546875 -0.640625 \nQ 12.796875 0.140625 7.71875 1.703125 \nL 7.71875 11.625 \nQ 12.109375 9.234375 16.796875 8.0625 \nQ 21.484375 6.890625 26.703125 6.890625 \nQ 35.15625 6.890625 40.078125 11.328125 \nQ 45.015625 15.765625 45.015625 23.390625 \nQ 45.015625 31 40.078125 35.4375 \nQ 35.15625 39.890625 26.703125 39.890625 \nQ 22.75 39.890625 18.8125 39.015625 \nQ 14.890625 38.140625 10.796875 36.28125 \nz\n\" id=\"DejaVuSans-53\"/>\n       </defs>\n       <use xlink:href=\"#DejaVuSans-53\"/>\n      </g>\n     </g>\n    </g>\n    <g id=\"xtick_3\">\n     <g id=\"line2d_3\">\n      <g>\n       <use style=\"stroke:#000000;stroke-width:0.8;\" x=\"144.727819\" xlink:href=\"#me1707c84bf\" y=\"239.758125\"/>\n      </g>\n     </g>\n     <g id=\"text_3\">\n      <!-- 10 -->\n      <g transform=\"translate(138.365319 254.356562)scale(0.1 -0.1)\">\n       <defs>\n        <path d=\"M 12.40625 8.296875 \nL 28.515625 8.296875 \nL 28.515625 63.921875 \nL 10.984375 60.40625 \nL 10.984375 69.390625 \nL 28.421875 72.90625 \nL 38.28125 72.90625 \nL 38.28125 8.296875 \nL 54.390625 8.296875 \nL 54.390625 0 \nL 12.40625 0 \nz\n\" id=\"DejaVuSans-49\"/>\n       </defs>\n       <use xlink:href=\"#DejaVuSans-49\"/>\n       <use x=\"63.623047\" xlink:href=\"#DejaVuSans-48\"/>\n      </g>\n     </g>\n    </g>\n    <g id=\"xtick_4\">\n     <g id=\"line2d_4\">\n      <g>\n       <use style=\"stroke:#000000;stroke-width:0.8;\" x=\"191.153023\" xlink:href=\"#me1707c84bf\" y=\"239.758125\"/>\n      </g>\n     </g>\n     <g id=\"text_4\">\n      <!-- 15 -->\n      <g transform=\"translate(184.790523 254.356562)scale(0.1 -0.1)\">\n       <use xlink:href=\"#DejaVuSans-49\"/>\n       <use x=\"63.623047\" xlink:href=\"#DejaVuSans-53\"/>\n      </g>\n     </g>\n    </g>\n    <g id=\"xtick_5\">\n     <g id=\"line2d_5\">\n      <g>\n       <use style=\"stroke:#000000;stroke-width:0.8;\" x=\"237.578227\" xlink:href=\"#me1707c84bf\" y=\"239.758125\"/>\n      </g>\n     </g>\n     <g id=\"text_5\">\n      <!-- 20 -->\n      <g transform=\"translate(231.215727 254.356562)scale(0.1 -0.1)\">\n       <defs>\n        <path d=\"M 19.1875 8.296875 \nL 53.609375 8.296875 \nL 53.609375 0 \nL 7.328125 0 \nL 7.328125 8.296875 \nQ 12.9375 14.109375 22.625 23.890625 \nQ 32.328125 33.6875 34.8125 36.53125 \nQ 39.546875 41.84375 41.421875 45.53125 \nQ 43.3125 49.21875 43.3125 52.78125 \nQ 43.3125 58.59375 39.234375 62.25 \nQ 35.15625 65.921875 28.609375 65.921875 \nQ 23.96875 65.921875 18.8125 64.3125 \nQ 13.671875 62.703125 7.8125 59.421875 \nL 7.8125 69.390625 \nQ 13.765625 71.78125 18.9375 73 \nQ 24.125 74.21875 28.421875 74.21875 \nQ 39.75 74.21875 46.484375 68.546875 \nQ 53.21875 62.890625 53.21875 53.421875 \nQ 53.21875 48.921875 51.53125 44.890625 \nQ 49.859375 40.875 45.40625 35.40625 \nQ 44.1875 33.984375 37.640625 27.21875 \nQ 31.109375 20.453125 19.1875 8.296875 \nz\n\" id=\"DejaVuSans-50\"/>\n       </defs>\n       <use xlink:href=\"#DejaVuSans-50\"/>\n       <use x=\"63.623047\" xlink:href=\"#DejaVuSans-48\"/>\n      </g>\n     </g>\n    </g>\n    <g id=\"xtick_6\">\n     <g id=\"line2d_6\">\n      <g>\n       <use style=\"stroke:#000000;stroke-width:0.8;\" x=\"284.003431\" xlink:href=\"#me1707c84bf\" y=\"239.758125\"/>\n      </g>\n     </g>\n     <g id=\"text_6\">\n      <!-- 25 -->\n      <g transform=\"translate(277.640931 254.356562)scale(0.1 -0.1)\">\n       <use xlink:href=\"#DejaVuSans-50\"/>\n       <use x=\"63.623047\" xlink:href=\"#DejaVuSans-53\"/>\n      </g>\n     </g>\n    </g>\n    <g id=\"xtick_7\">\n     <g id=\"line2d_7\">\n      <g>\n       <use style=\"stroke:#000000;stroke-width:0.8;\" x=\"330.428635\" xlink:href=\"#me1707c84bf\" y=\"239.758125\"/>\n      </g>\n     </g>\n     <g id=\"text_7\">\n      <!-- 30 -->\n      <g transform=\"translate(324.066135 254.356562)scale(0.1 -0.1)\">\n       <defs>\n        <path d=\"M 40.578125 39.3125 \nQ 47.65625 37.796875 51.625 33 \nQ 55.609375 28.21875 55.609375 21.1875 \nQ 55.609375 10.40625 48.1875 4.484375 \nQ 40.765625 -1.421875 27.09375 -1.421875 \nQ 22.515625 -1.421875 17.65625 -0.515625 \nQ 12.796875 0.390625 7.625 2.203125 \nL 7.625 11.71875 \nQ 11.71875 9.328125 16.59375 8.109375 \nQ 21.484375 6.890625 26.8125 6.890625 \nQ 36.078125 6.890625 40.9375 10.546875 \nQ 45.796875 14.203125 45.796875 21.1875 \nQ 45.796875 27.640625 41.28125 31.265625 \nQ 36.765625 34.90625 28.71875 34.90625 \nL 20.21875 34.90625 \nL 20.21875 43.015625 \nL 29.109375 43.015625 \nQ 36.375 43.015625 40.234375 45.921875 \nQ 44.09375 48.828125 44.09375 54.296875 \nQ 44.09375 59.90625 40.109375 62.90625 \nQ 36.140625 65.921875 28.71875 65.921875 \nQ 24.65625 65.921875 20.015625 65.03125 \nQ 15.375 64.15625 9.8125 62.3125 \nL 9.8125 71.09375 \nQ 15.4375 72.65625 20.34375 73.4375 \nQ 25.25 74.21875 29.59375 74.21875 \nQ 40.828125 74.21875 47.359375 69.109375 \nQ 53.90625 64.015625 53.90625 55.328125 \nQ 53.90625 49.265625 50.4375 45.09375 \nQ 46.96875 40.921875 40.578125 39.3125 \nz\n\" id=\"DejaVuSans-51\"/>\n       </defs>\n       <use xlink:href=\"#DejaVuSans-51\"/>\n       <use x=\"63.623047\" xlink:href=\"#DejaVuSans-48\"/>\n      </g>\n     </g>\n    </g>\n    <g id=\"xtick_8\">\n     <g id=\"line2d_8\">\n      <g>\n       <use style=\"stroke:#000000;stroke-width:0.8;\" x=\"376.853838\" xlink:href=\"#me1707c84bf\" y=\"239.758125\"/>\n      </g>\n     </g>\n     <g id=\"text_8\">\n      <!-- 35 -->\n      <g transform=\"translate(370.491338 254.356562)scale(0.1 -0.1)\">\n       <use xlink:href=\"#DejaVuSans-51\"/>\n       <use x=\"63.623047\" xlink:href=\"#DejaVuSans-53\"/>\n      </g>\n     </g>\n    </g>\n    <g id=\"text_9\">\n     <!-- THC% -->\n     <g transform=\"translate(199.309375 268.034687)scale(0.1 -0.1)\">\n      <defs>\n       <path d=\"M -0.296875 72.90625 \nL 61.375 72.90625 \nL 61.375 64.59375 \nL 35.5 64.59375 \nL 35.5 0 \nL 25.59375 0 \nL 25.59375 64.59375 \nL -0.296875 64.59375 \nz\n\" id=\"DejaVuSans-84\"/>\n       <path d=\"M 9.8125 72.90625 \nL 19.671875 72.90625 \nL 19.671875 43.015625 \nL 55.515625 43.015625 \nL 55.515625 72.90625 \nL 65.375 72.90625 \nL 65.375 0 \nL 55.515625 0 \nL 55.515625 34.71875 \nL 19.671875 34.71875 \nL 19.671875 0 \nL 9.8125 0 \nz\n\" id=\"DejaVuSans-72\"/>\n       <path d=\"M 64.40625 67.28125 \nL 64.40625 56.890625 \nQ 59.421875 61.53125 53.78125 63.8125 \nQ 48.140625 66.109375 41.796875 66.109375 \nQ 29.296875 66.109375 22.65625 58.46875 \nQ 16.015625 50.828125 16.015625 36.375 \nQ 16.015625 21.96875 22.65625 14.328125 \nQ 29.296875 6.6875 41.796875 6.6875 \nQ 48.140625 6.6875 53.78125 8.984375 \nQ 59.421875 11.28125 64.40625 15.921875 \nL 64.40625 5.609375 \nQ 59.234375 2.09375 53.4375 0.328125 \nQ 47.65625 -1.421875 41.21875 -1.421875 \nQ 24.65625 -1.421875 15.125 8.703125 \nQ 5.609375 18.84375 5.609375 36.375 \nQ 5.609375 53.953125 15.125 64.078125 \nQ 24.65625 74.21875 41.21875 74.21875 \nQ 47.75 74.21875 53.53125 72.484375 \nQ 59.328125 70.75 64.40625 67.28125 \nz\n\" id=\"DejaVuSans-67\"/>\n       <path d=\"M 72.703125 32.078125 \nQ 68.453125 32.078125 66.03125 28.46875 \nQ 63.625 24.859375 63.625 18.40625 \nQ 63.625 12.0625 66.03125 8.421875 \nQ 68.453125 4.78125 72.703125 4.78125 \nQ 76.859375 4.78125 79.265625 8.421875 \nQ 81.6875 12.0625 81.6875 18.40625 \nQ 81.6875 24.8125 79.265625 28.4375 \nQ 76.859375 32.078125 72.703125 32.078125 \nz\nM 72.703125 38.28125 \nQ 80.421875 38.28125 84.953125 32.90625 \nQ 89.5 27.546875 89.5 18.40625 \nQ 89.5 9.28125 84.9375 3.921875 \nQ 80.375 -1.421875 72.703125 -1.421875 \nQ 64.890625 -1.421875 60.34375 3.921875 \nQ 55.8125 9.28125 55.8125 18.40625 \nQ 55.8125 27.59375 60.375 32.9375 \nQ 64.9375 38.28125 72.703125 38.28125 \nz\nM 22.3125 68.015625 \nQ 18.109375 68.015625 15.6875 64.375 \nQ 13.28125 60.75 13.28125 54.390625 \nQ 13.28125 47.953125 15.671875 44.328125 \nQ 18.0625 40.71875 22.3125 40.71875 \nQ 26.5625 40.71875 28.96875 44.328125 \nQ 31.390625 47.953125 31.390625 54.390625 \nQ 31.390625 60.6875 28.953125 64.34375 \nQ 26.515625 68.015625 22.3125 68.015625 \nz\nM 66.40625 74.21875 \nL 74.21875 74.21875 \nL 28.609375 -1.421875 \nL 20.796875 -1.421875 \nz\nM 22.3125 74.21875 \nQ 30.03125 74.21875 34.609375 68.875 \nQ 39.203125 63.53125 39.203125 54.390625 \nQ 39.203125 45.171875 34.640625 39.84375 \nQ 30.078125 34.515625 22.3125 34.515625 \nQ 14.546875 34.515625 10.03125 39.859375 \nQ 5.515625 45.21875 5.515625 54.390625 \nQ 5.515625 63.484375 10.046875 68.84375 \nQ 14.59375 74.21875 22.3125 74.21875 \nz\n\" id=\"DejaVuSans-37\"/>\n      </defs>\n      <use xlink:href=\"#DejaVuSans-84\"/>\n      <use x=\"61.083984\" xlink:href=\"#DejaVuSans-72\"/>\n      <use x=\"136.279297\" xlink:href=\"#DejaVuSans-67\"/>\n      <use x=\"206.103516\" xlink:href=\"#DejaVuSans-37\"/>\n     </g>\n    </g>\n   </g>\n   <g id=\"matplotlib.axis_2\">\n    <g id=\"ytick_1\">\n     <g id=\"line2d_9\">\n      <defs>\n       <path d=\"M 0 0 \nL -3.5 0 \n\" id=\"m08805b420f\" style=\"stroke:#000000;stroke-width:0.8;\"/>\n      </defs>\n      <g>\n       <use style=\"stroke:#000000;stroke-width:0.8;\" x=\"46.965625\" xlink:href=\"#m08805b420f\" y=\"239.758125\"/>\n      </g>\n     </g>\n     <g id=\"text_10\">\n      <!-- 0 -->\n      <g transform=\"translate(33.603125 243.557344)scale(0.1 -0.1)\">\n       <use xlink:href=\"#DejaVuSans-48\"/>\n      </g>\n     </g>\n    </g>\n    <g id=\"ytick_2\">\n     <g id=\"line2d_10\">\n      <g>\n       <use style=\"stroke:#000000;stroke-width:0.8;\" x=\"46.965625\" xlink:href=\"#m08805b420f\" y=\"207.701513\"/>\n      </g>\n     </g>\n     <g id=\"text_11\">\n      <!-- 100 -->\n      <g transform=\"translate(20.878125 211.500732)scale(0.1 -0.1)\">\n       <use xlink:href=\"#DejaVuSans-49\"/>\n       <use x=\"63.623047\" xlink:href=\"#DejaVuSans-48\"/>\n       <use x=\"127.246094\" xlink:href=\"#DejaVuSans-48\"/>\n      </g>\n     </g>\n    </g>\n    <g id=\"ytick_3\">\n     <g id=\"line2d_11\">\n      <g>\n       <use style=\"stroke:#000000;stroke-width:0.8;\" x=\"46.965625\" xlink:href=\"#m08805b420f\" y=\"175.644901\"/>\n      </g>\n     </g>\n     <g id=\"text_12\">\n      <!-- 200 -->\n      <g transform=\"translate(20.878125 179.44412)scale(0.1 -0.1)\">\n       <use xlink:href=\"#DejaVuSans-50\"/>\n       <use x=\"63.623047\" xlink:href=\"#DejaVuSans-48\"/>\n       <use x=\"127.246094\" xlink:href=\"#DejaVuSans-48\"/>\n      </g>\n     </g>\n    </g>\n    <g id=\"ytick_4\">\n     <g id=\"line2d_12\">\n      <g>\n       <use style=\"stroke:#000000;stroke-width:0.8;\" x=\"46.965625\" xlink:href=\"#m08805b420f\" y=\"143.588289\"/>\n      </g>\n     </g>\n     <g id=\"text_13\">\n      <!-- 300 -->\n      <g transform=\"translate(20.878125 147.387507)scale(0.1 -0.1)\">\n       <use xlink:href=\"#DejaVuSans-51\"/>\n       <use x=\"63.623047\" xlink:href=\"#DejaVuSans-48\"/>\n       <use x=\"127.246094\" xlink:href=\"#DejaVuSans-48\"/>\n      </g>\n     </g>\n    </g>\n    <g id=\"ytick_5\">\n     <g id=\"line2d_13\">\n      <g>\n       <use style=\"stroke:#000000;stroke-width:0.8;\" x=\"46.965625\" xlink:href=\"#m08805b420f\" y=\"111.531677\"/>\n      </g>\n     </g>\n     <g id=\"text_14\">\n      <!-- 400 -->\n      <g transform=\"translate(20.878125 115.330895)scale(0.1 -0.1)\">\n       <defs>\n        <path d=\"M 37.796875 64.3125 \nL 12.890625 25.390625 \nL 37.796875 25.390625 \nz\nM 35.203125 72.90625 \nL 47.609375 72.90625 \nL 47.609375 25.390625 \nL 58.015625 25.390625 \nL 58.015625 17.1875 \nL 47.609375 17.1875 \nL 47.609375 0 \nL 37.796875 0 \nL 37.796875 17.1875 \nL 4.890625 17.1875 \nL 4.890625 26.703125 \nz\n\" id=\"DejaVuSans-52\"/>\n       </defs>\n       <use xlink:href=\"#DejaVuSans-52\"/>\n       <use x=\"63.623047\" xlink:href=\"#DejaVuSans-48\"/>\n       <use x=\"127.246094\" xlink:href=\"#DejaVuSans-48\"/>\n      </g>\n     </g>\n    </g>\n    <g id=\"ytick_6\">\n     <g id=\"line2d_14\">\n      <g>\n       <use style=\"stroke:#000000;stroke-width:0.8;\" x=\"46.965625\" xlink:href=\"#m08805b420f\" y=\"79.475064\"/>\n      </g>\n     </g>\n     <g id=\"text_15\">\n      <!-- 500 -->\n      <g transform=\"translate(20.878125 83.274283)scale(0.1 -0.1)\">\n       <use xlink:href=\"#DejaVuSans-53\"/>\n       <use x=\"63.623047\" xlink:href=\"#DejaVuSans-48\"/>\n       <use x=\"127.246094\" xlink:href=\"#DejaVuSans-48\"/>\n      </g>\n     </g>\n    </g>\n    <g id=\"ytick_7\">\n     <g id=\"line2d_15\">\n      <g>\n       <use style=\"stroke:#000000;stroke-width:0.8;\" x=\"46.965625\" xlink:href=\"#m08805b420f\" y=\"47.418452\"/>\n      </g>\n     </g>\n     <g id=\"text_16\">\n      <!-- 600 -->\n      <g transform=\"translate(20.878125 51.217671)scale(0.1 -0.1)\">\n       <defs>\n        <path d=\"M 33.015625 40.375 \nQ 26.375 40.375 22.484375 35.828125 \nQ 18.609375 31.296875 18.609375 23.390625 \nQ 18.609375 15.53125 22.484375 10.953125 \nQ 26.375 6.390625 33.015625 6.390625 \nQ 39.65625 6.390625 43.53125 10.953125 \nQ 47.40625 15.53125 47.40625 23.390625 \nQ 47.40625 31.296875 43.53125 35.828125 \nQ 39.65625 40.375 33.015625 40.375 \nz\nM 52.59375 71.296875 \nL 52.59375 62.3125 \nQ 48.875 64.0625 45.09375 64.984375 \nQ 41.3125 65.921875 37.59375 65.921875 \nQ 27.828125 65.921875 22.671875 59.328125 \nQ 17.53125 52.734375 16.796875 39.40625 \nQ 19.671875 43.65625 24.015625 45.921875 \nQ 28.375 48.1875 33.59375 48.1875 \nQ 44.578125 48.1875 50.953125 41.515625 \nQ 57.328125 34.859375 57.328125 23.390625 \nQ 57.328125 12.15625 50.6875 5.359375 \nQ 44.046875 -1.421875 33.015625 -1.421875 \nQ 20.359375 -1.421875 13.671875 8.265625 \nQ 6.984375 17.96875 6.984375 36.375 \nQ 6.984375 53.65625 15.1875 63.9375 \nQ 23.390625 74.21875 37.203125 74.21875 \nQ 40.921875 74.21875 44.703125 73.484375 \nQ 48.484375 72.75 52.59375 71.296875 \nz\n\" id=\"DejaVuSans-54\"/>\n       </defs>\n       <use xlink:href=\"#DejaVuSans-54\"/>\n       <use x=\"63.623047\" xlink:href=\"#DejaVuSans-48\"/>\n       <use x=\"127.246094\" xlink:href=\"#DejaVuSans-48\"/>\n      </g>\n     </g>\n    </g>\n    <g id=\"text_17\">\n     <!-- Amount -->\n     <g transform=\"translate(14.798438 150.685781)rotate(-90)scale(0.1 -0.1)\">\n      <defs>\n       <path d=\"M 34.1875 63.1875 \nL 20.796875 26.90625 \nL 47.609375 26.90625 \nz\nM 28.609375 72.90625 \nL 39.796875 72.90625 \nL 67.578125 0 \nL 57.328125 0 \nL 50.6875 18.703125 \nL 17.828125 18.703125 \nL 11.1875 0 \nL 0.78125 0 \nz\n\" id=\"DejaVuSans-65\"/>\n       <path d=\"M 52 44.1875 \nQ 55.375 50.25 60.0625 53.125 \nQ 64.75 56 71.09375 56 \nQ 79.640625 56 84.28125 50.015625 \nQ 88.921875 44.046875 88.921875 33.015625 \nL 88.921875 0 \nL 79.890625 0 \nL 79.890625 32.71875 \nQ 79.890625 40.578125 77.09375 44.375 \nQ 74.3125 48.1875 68.609375 48.1875 \nQ 61.625 48.1875 57.5625 43.546875 \nQ 53.515625 38.921875 53.515625 30.90625 \nL 53.515625 0 \nL 44.484375 0 \nL 44.484375 32.71875 \nQ 44.484375 40.625 41.703125 44.40625 \nQ 38.921875 48.1875 33.109375 48.1875 \nQ 26.21875 48.1875 22.15625 43.53125 \nQ 18.109375 38.875 18.109375 30.90625 \nL 18.109375 0 \nL 9.078125 0 \nL 9.078125 54.6875 \nL 18.109375 54.6875 \nL 18.109375 46.1875 \nQ 21.1875 51.21875 25.484375 53.609375 \nQ 29.78125 56 35.6875 56 \nQ 41.65625 56 45.828125 52.96875 \nQ 50 49.953125 52 44.1875 \nz\n\" id=\"DejaVuSans-109\"/>\n       <path d=\"M 30.609375 48.390625 \nQ 23.390625 48.390625 19.1875 42.75 \nQ 14.984375 37.109375 14.984375 27.296875 \nQ 14.984375 17.484375 19.15625 11.84375 \nQ 23.34375 6.203125 30.609375 6.203125 \nQ 37.796875 6.203125 41.984375 11.859375 \nQ 46.1875 17.53125 46.1875 27.296875 \nQ 46.1875 37.015625 41.984375 42.703125 \nQ 37.796875 48.390625 30.609375 48.390625 \nz\nM 30.609375 56 \nQ 42.328125 56 49.015625 48.375 \nQ 55.71875 40.765625 55.71875 27.296875 \nQ 55.71875 13.875 49.015625 6.21875 \nQ 42.328125 -1.421875 30.609375 -1.421875 \nQ 18.84375 -1.421875 12.171875 6.21875 \nQ 5.515625 13.875 5.515625 27.296875 \nQ 5.515625 40.765625 12.171875 48.375 \nQ 18.84375 56 30.609375 56 \nz\n\" id=\"DejaVuSans-111\"/>\n       <path d=\"M 8.5 21.578125 \nL 8.5 54.6875 \nL 17.484375 54.6875 \nL 17.484375 21.921875 \nQ 17.484375 14.15625 20.5 10.265625 \nQ 23.53125 6.390625 29.59375 6.390625 \nQ 36.859375 6.390625 41.078125 11.03125 \nQ 45.3125 15.671875 45.3125 23.6875 \nL 45.3125 54.6875 \nL 54.296875 54.6875 \nL 54.296875 0 \nL 45.3125 0 \nL 45.3125 8.40625 \nQ 42.046875 3.421875 37.71875 1 \nQ 33.40625 -1.421875 27.6875 -1.421875 \nQ 18.265625 -1.421875 13.375 4.4375 \nQ 8.5 10.296875 8.5 21.578125 \nz\nM 31.109375 56 \nz\n\" id=\"DejaVuSans-117\"/>\n       <path d=\"M 54.890625 33.015625 \nL 54.890625 0 \nL 45.90625 0 \nL 45.90625 32.71875 \nQ 45.90625 40.484375 42.875 44.328125 \nQ 39.84375 48.1875 33.796875 48.1875 \nQ 26.515625 48.1875 22.3125 43.546875 \nQ 18.109375 38.921875 18.109375 30.90625 \nL 18.109375 0 \nL 9.078125 0 \nL 9.078125 54.6875 \nL 18.109375 54.6875 \nL 18.109375 46.1875 \nQ 21.34375 51.125 25.703125 53.5625 \nQ 30.078125 56 35.796875 56 \nQ 45.21875 56 50.046875 50.171875 \nQ 54.890625 44.34375 54.890625 33.015625 \nz\n\" id=\"DejaVuSans-110\"/>\n       <path d=\"M 18.3125 70.21875 \nL 18.3125 54.6875 \nL 36.8125 54.6875 \nL 36.8125 47.703125 \nL 18.3125 47.703125 \nL 18.3125 18.015625 \nQ 18.3125 11.328125 20.140625 9.421875 \nQ 21.96875 7.515625 27.59375 7.515625 \nL 36.8125 7.515625 \nL 36.8125 0 \nL 27.59375 0 \nQ 17.1875 0 13.234375 3.875 \nQ 9.28125 7.765625 9.28125 18.015625 \nL 9.28125 47.703125 \nL 2.6875 47.703125 \nL 2.6875 54.6875 \nL 9.28125 54.6875 \nL 9.28125 70.21875 \nz\n\" id=\"DejaVuSans-116\"/>\n      </defs>\n      <use xlink:href=\"#DejaVuSans-65\"/>\n      <use x=\"68.408203\" xlink:href=\"#DejaVuSans-109\"/>\n      <use x=\"165.820312\" xlink:href=\"#DejaVuSans-111\"/>\n      <use x=\"227.001953\" xlink:href=\"#DejaVuSans-117\"/>\n      <use x=\"290.380859\" xlink:href=\"#DejaVuSans-110\"/>\n      <use x=\"353.759766\" xlink:href=\"#DejaVuSans-116\"/>\n     </g>\n    </g>\n   </g>\n   <g id=\"patch_33\">\n    <path d=\"M 46.965625 239.758125 \nL 46.965625 22.318125 \n\" style=\"fill:none;stroke:#000000;stroke-linecap:square;stroke-linejoin:miter;stroke-width:0.8;\"/>\n   </g>\n   <g id=\"patch_34\">\n    <path d=\"M 381.765625 239.758125 \nL 381.765625 22.318125 \n\" style=\"fill:none;stroke:#000000;stroke-linecap:square;stroke-linejoin:miter;stroke-width:0.8;\"/>\n   </g>\n   <g id=\"patch_35\">\n    <path d=\"M 46.965625 239.758125 \nL 381.765625 239.758125 \n\" style=\"fill:none;stroke:#000000;stroke-linecap:square;stroke-linejoin:miter;stroke-width:0.8;\"/>\n   </g>\n   <g id=\"patch_36\">\n    <path d=\"M 46.965625 22.318125 \nL 381.765625 22.318125 \n\" style=\"fill:none;stroke:#000000;stroke-linecap:square;stroke-linejoin:miter;stroke-width:0.8;\"/>\n   </g>\n   <g id=\"text_18\">\n    <!-- THC% Distribution -->\n    <g transform=\"translate(159.38875 16.318125)scale(0.12 -0.12)\">\n     <defs>\n      <path id=\"DejaVuSans-32\"/>\n      <path d=\"M 19.671875 64.796875 \nL 19.671875 8.109375 \nL 31.59375 8.109375 \nQ 46.6875 8.109375 53.6875 14.9375 \nQ 60.6875 21.78125 60.6875 36.53125 \nQ 60.6875 51.171875 53.6875 57.984375 \nQ 46.6875 64.796875 31.59375 64.796875 \nz\nM 9.8125 72.90625 \nL 30.078125 72.90625 \nQ 51.265625 72.90625 61.171875 64.09375 \nQ 71.09375 55.28125 71.09375 36.53125 \nQ 71.09375 17.671875 61.125 8.828125 \nQ 51.171875 0 30.078125 0 \nL 9.8125 0 \nz\n\" id=\"DejaVuSans-68\"/>\n      <path d=\"M 9.421875 54.6875 \nL 18.40625 54.6875 \nL 18.40625 0 \nL 9.421875 0 \nz\nM 9.421875 75.984375 \nL 18.40625 75.984375 \nL 18.40625 64.59375 \nL 9.421875 64.59375 \nz\n\" id=\"DejaVuSans-105\"/>\n      <path d=\"M 44.28125 53.078125 \nL 44.28125 44.578125 \nQ 40.484375 46.53125 36.375 47.5 \nQ 32.28125 48.484375 27.875 48.484375 \nQ 21.1875 48.484375 17.84375 46.4375 \nQ 14.5 44.390625 14.5 40.28125 \nQ 14.5 37.15625 16.890625 35.375 \nQ 19.28125 33.59375 26.515625 31.984375 \nL 29.59375 31.296875 \nQ 39.15625 29.25 43.1875 25.515625 \nQ 47.21875 21.78125 47.21875 15.09375 \nQ 47.21875 7.46875 41.1875 3.015625 \nQ 35.15625 -1.421875 24.609375 -1.421875 \nQ 20.21875 -1.421875 15.453125 -0.5625 \nQ 10.6875 0.296875 5.421875 2 \nL 5.421875 11.28125 \nQ 10.40625 8.6875 15.234375 7.390625 \nQ 20.0625 6.109375 24.8125 6.109375 \nQ 31.15625 6.109375 34.5625 8.28125 \nQ 37.984375 10.453125 37.984375 14.40625 \nQ 37.984375 18.0625 35.515625 20.015625 \nQ 33.0625 21.96875 24.703125 23.78125 \nL 21.578125 24.515625 \nQ 13.234375 26.265625 9.515625 29.90625 \nQ 5.8125 33.546875 5.8125 39.890625 \nQ 5.8125 47.609375 11.28125 51.796875 \nQ 16.75 56 26.8125 56 \nQ 31.78125 56 36.171875 55.265625 \nQ 40.578125 54.546875 44.28125 53.078125 \nz\n\" id=\"DejaVuSans-115\"/>\n      <path d=\"M 41.109375 46.296875 \nQ 39.59375 47.171875 37.8125 47.578125 \nQ 36.03125 48 33.890625 48 \nQ 26.265625 48 22.1875 43.046875 \nQ 18.109375 38.09375 18.109375 28.8125 \nL 18.109375 0 \nL 9.078125 0 \nL 9.078125 54.6875 \nL 18.109375 54.6875 \nL 18.109375 46.1875 \nQ 20.953125 51.171875 25.484375 53.578125 \nQ 30.03125 56 36.53125 56 \nQ 37.453125 56 38.578125 55.875 \nQ 39.703125 55.765625 41.0625 55.515625 \nz\n\" id=\"DejaVuSans-114\"/>\n      <path d=\"M 48.6875 27.296875 \nQ 48.6875 37.203125 44.609375 42.84375 \nQ 40.53125 48.484375 33.40625 48.484375 \nQ 26.265625 48.484375 22.1875 42.84375 \nQ 18.109375 37.203125 18.109375 27.296875 \nQ 18.109375 17.390625 22.1875 11.75 \nQ 26.265625 6.109375 33.40625 6.109375 \nQ 40.53125 6.109375 44.609375 11.75 \nQ 48.6875 17.390625 48.6875 27.296875 \nz\nM 18.109375 46.390625 \nQ 20.953125 51.265625 25.265625 53.625 \nQ 29.59375 56 35.59375 56 \nQ 45.5625 56 51.78125 48.09375 \nQ 58.015625 40.1875 58.015625 27.296875 \nQ 58.015625 14.40625 51.78125 6.484375 \nQ 45.5625 -1.421875 35.59375 -1.421875 \nQ 29.59375 -1.421875 25.265625 0.953125 \nQ 20.953125 3.328125 18.109375 8.203125 \nL 18.109375 0 \nL 9.078125 0 \nL 9.078125 75.984375 \nL 18.109375 75.984375 \nz\n\" id=\"DejaVuSans-98\"/>\n     </defs>\n     <use xlink:href=\"#DejaVuSans-84\"/>\n     <use x=\"61.083984\" xlink:href=\"#DejaVuSans-72\"/>\n     <use x=\"136.279297\" xlink:href=\"#DejaVuSans-67\"/>\n     <use x=\"206.103516\" xlink:href=\"#DejaVuSans-37\"/>\n     <use x=\"301.123047\" xlink:href=\"#DejaVuSans-32\"/>\n     <use x=\"332.910156\" xlink:href=\"#DejaVuSans-68\"/>\n     <use x=\"409.912109\" xlink:href=\"#DejaVuSans-105\"/>\n     <use x=\"437.695312\" xlink:href=\"#DejaVuSans-115\"/>\n     <use x=\"489.794922\" xlink:href=\"#DejaVuSans-116\"/>\n     <use x=\"529.003906\" xlink:href=\"#DejaVuSans-114\"/>\n     <use x=\"570.117188\" xlink:href=\"#DejaVuSans-105\"/>\n     <use x=\"597.900391\" xlink:href=\"#DejaVuSans-98\"/>\n     <use x=\"661.376953\" xlink:href=\"#DejaVuSans-117\"/>\n     <use x=\"724.755859\" xlink:href=\"#DejaVuSans-116\"/>\n     <use x=\"763.964844\" xlink:href=\"#DejaVuSans-105\"/>\n     <use x=\"791.748047\" xlink:href=\"#DejaVuSans-111\"/>\n     <use x=\"852.929688\" xlink:href=\"#DejaVuSans-110\"/>\n    </g>\n   </g>\n  </g>\n </g>\n <defs>\n  <clipPath id=\"pf0eee8f117\">\n   <rect height=\"217.44\" width=\"334.8\" x=\"46.965625\" y=\"22.318125\"/>\n  </clipPath>\n </defs>\n</svg>\n",
      "image/png": "[encoded data removed]"
     },
     "metadata": {
      "needs_background": "light"
     }
    }
   ],
   "source": [
    "df['THC'].hist(bins=30,rwidth=0.8,grid=False)\n",
    "plt.xlabel('THC%')\n",
    "plt.ylabel('Amount')\n",
    "plt.title('THC% Distribution')\n",
    "plt.show()"
   ]
  },
  {
   "cell_type": "code",
   "execution_count": null,
   "metadata": {},
   "outputs": [],
   "source": [
    "\n",
    "most_freq1 = df['Feeling_1'].value_counts()[:5].sort_index(ascending=True)\n",
    "most_freq2 = df['Feeling_2'].value_counts()[:5].sort_index(ascending=True)\n",
    "most_freq3 = df['Feeling_3'].value_counts()[:5].sort_index(ascending=True)\n",
    "\n",
    "\n",
    "freq = most_freq1 + most_freq2 + most_freq3\n",
    "\n",
    "\n",
    "freq.plot(kind='pie')\n",
    "plt.title('Top 5 Feelings')\n",
    "plt.show()"
   ]
  },
  {
   "cell_type": "code",
   "execution_count": null,
   "metadata": {},
   "outputs": [],
   "source": [
    "## Top health conditions\n",
    "\n",
    "most_freq1 = df['Helps with_1'].value_counts()[:5].sort_index(ascending=True)\n",
    "most_freq2 = df['Helps with_2'].value_counts()[:5].sort_index(ascending=True)\n",
    "most_freq3 = df['Helps with_3'].value_counts()[:5].sort_index(ascending=True)\n",
    "\n",
    "\n",
    "freq = most_freq1 + most_freq2 + most_freq3\n",
    "\n",
    "\n",
    "freq.plot(kind='bar')\n",
    "plt.show()"
   ]
  },
  {
   "cell_type": "code",
   "execution_count": null,
   "metadata": {},
   "outputs": [],
   "source": []
  }
 ]
}