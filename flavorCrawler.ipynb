{
 "metadata": {
  "language_info": {
   "codemirror_mode": {
    "name": "ipython",
    "version": 3
   },
   "file_extension": ".py",
   "mimetype": "text/x-python",
   "name": "python",
   "nbconvert_exporter": "python",
   "pygments_lexer": "ipython3",
   "version": "3.9.1"
  },
  "orig_nbformat": 2,
  "kernelspec": {
   "name": "python391jvsc74a57bd0ac2eaa0ea0ebeafcc7822e65e46aa9d4f966f30b695406963e145ea4a91cd4fc",
   "display_name": "Python 3.9.1 64-bit ('python@3.9')"
  },
  "metadata": {
   "interpreter": {
    "hash": "ac2eaa0ea0ebeafcc7822e65e46aa9d4f966f30b695406963e145ea4a91cd4fc"
   }
  }
 },
 "nbformat": 4,
 "nbformat_minor": 2,
 "cells": [
  {
   "cell_type": "code",
   "execution_count": null,
   "metadata": {},
   "outputs": [],
   "source": [
    "import ast\n",
    "import bs4\n",
    "import time\n",
    "import json\n",
    "import requests\n",
    "import pandas as pd\n",
    "import scipy as scipy\n",
    "import numpy as np\n",
    "from bs4 import BeautifulSoup\n",
    "from datetime import datetime\n",
    "import matplotlib.pyplot as plt\n",
    "\n",
    "from multiprocessing.pool import ThreadPool\n",
    "\n",
    "\n",
    "\n",
    "\n",
    "%matplotlib inline"
   ]
  },
  {
   "cell_type": "code",
   "execution_count": 51,
   "metadata": {},
   "outputs": [],
   "source": [
    "\n",
    "def get_strains_w_flavors(page_num):\n",
    "    \n",
    "    strain_urls = []\n",
    "\n",
    "    url = f'https://www.strainofweed.com/page/{i}/'\n",
    "    r = requests.get(url)\n",
    "    soup = BeautifulSoup(r.content,'html.parser')\n",
    "    names = soup.find_all('a',{'rel':'bookmark'})\n",
    "    for name in names:\n",
    "        strain_urls.append(name['href'])\n",
    "\n",
    "    return strain_urls\n"
   ]
  },
  {
   "cell_type": "code",
   "execution_count": null,
   "metadata": {},
   "outputs": [],
   "source": [
    "url = 'https://www.strainofweed.com/hybrid/gsc/'\n",
    "\n",
    "r = requests.get(url)\n",
    "\n",
    "soup = BeautifulSoup(r.content,'html.parser')\n",
    "\n",
    "flavors = soup.find_all('td')[9]\n",
    "name = soup.find_all('td')[1]\n"
   ]
  },
  {
   "cell_type": "code",
   "execution_count": 52,
   "metadata": {},
   "outputs": [],
   "source": [
    "\n",
    "def scrape_flavors(url):\n",
    "    r = requests.get(url)\n",
    "    soup = BeautifulSoup(r.content,'html.parser')\n",
    "    flavors = soup.find_all('td')[9].text.split(\",\")\n",
    "    flavor_list = [x.replace(' ','') for x in flavors]\n",
    "    name = soup.find_all('td')[1].text\n",
    "\n",
    "\n",
    "    return name,flavor_list\n",
    "\n",
    "\n",
    "\n"
   ]
  },
  {
   "cell_type": "code",
   "execution_count": 53,
   "metadata": {},
   "outputs": [],
   "source": [
    "def run_flavors_thread(mode):\n",
    "\n",
    "    if mode == 'Flavors':\n",
    "    \n",
    "        flavor_data = []\n",
    "\n",
    "        with ThreadPool(10) as pool:\n",
    "            for name,flavor_list in pool.map(scrape_flavors,strain_urls):\n",
    "                flavor_data.append({'Strain Name':name,'Flavors':flavor_list})\n",
    "\n",
    "        return flavor_data\n",
    "    \n",
    "    if mode == 'Names':\n",
    "\n",
    "        names = []\n",
    "        page_num = list(range(1,180))\n",
    "        with ThreadPool(10) as pool:\n",
    "            for result in pool.map(get_strains_w_flavors,page_num):\n",
    "                names.append(result)\n",
    "\n",
    "        flat_names = [item for sublist in names for item in sublist]\n",
    "\n",
    "        return flat_names\n"
   ]
  },
  {
   "cell_type": "code",
   "execution_count": 55,
   "metadata": {},
   "outputs": [
    {
     "output_type": "stream",
     "name": "stdout",
     "text": [
      "Finished in 1.16 minutes\n"
     ]
    }
   ],
   "source": [
    "start = time.perf_counter()\n",
    "flavor_data = run_flavors_thread('Names')\n",
    "finish = time.perf_counter()\n",
    "print(f'Finished in {round((finish-start)/60,2)} minutes')"
   ]
  },
  {
   "cell_type": "code",
   "execution_count": null,
   "metadata": {},
   "outputs": [],
   "source": [
    "# start = time.perf_counter()\n",
    "# flavor_data = run_thread()\n",
    "# finish = time.perf_counter()\n",
    "# print(f'Finished in {round((finish-start)/60,2)} minutes')"
   ]
  },
  {
   "cell_type": "code",
   "execution_count": null,
   "metadata": {},
   "outputs": [],
   "source": [
    "print(flavor_data[6])\n",
    "\n",
    "\n",
    "with open('flavors.txt','w') as f:\n",
    "    json.dump(flavor_data,f)"
   ]
  },
  {
   "cell_type": "code",
   "execution_count": null,
   "metadata": {},
   "outputs": [],
   "source": [
    "with open('flavors.txt', 'r') as f:\n",
    "    flavor_data = json.load(f)\n"
   ]
  },
  {
   "cell_type": "code",
   "execution_count": null,
   "metadata": {},
   "outputs": [],
   "source": [
    "flavor_strain_names = [x['Strain Name'] for x in flavor_data]"
   ]
  }
 ]
}