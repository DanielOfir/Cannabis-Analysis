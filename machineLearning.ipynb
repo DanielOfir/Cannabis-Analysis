{
 "metadata": {
  "language_info": {
   "codemirror_mode": {
    "name": "ipython",
    "version": 3
   },
   "file_extension": ".py",
   "mimetype": "text/x-python",
   "name": "python",
   "nbconvert_exporter": "python",
   "pygments_lexer": "ipython3",
   "version": "3.9.1"
  },
  "orig_nbformat": 2,
  "kernelspec": {
   "name": "python391jvsc74a57bd0ac2eaa0ea0ebeafcc7822e65e46aa9d4f966f30b695406963e145ea4a91cd4fc",
   "display_name": "Python 3.9.1 64-bit ('python@3.9')"
  },
  "metadata": {
   "interpreter": {
    "hash": "ac2eaa0ea0ebeafcc7822e65e46aa9d4f966f30b695406963e145ea4a91cd4fc"
   }
  }
 },
 "nbformat": 4,
 "nbformat_minor": 2,
 "cells": [
  {
   "cell_type": "code",
   "execution_count": 195,
   "metadata": {},
   "outputs": [],
   "source": [
    "import ast\n",
    "import bs4\n",
    "import time\n",
    "import json\n",
    "import requests\n",
    "import pandas as pd\n",
    "import scipy as scipy\n",
    "import numpy as np\n",
    "from bs4 import BeautifulSoup\n",
    "from datetime import datetime\n",
    "import matplotlib.pyplot as plt\n",
    "\n",
    "import sklearn\n",
    "from sklearn import preprocessing, linear_model, model_selection, metrics\n",
    "from sklearn.preprocessing import StandardScaler, MinMaxScaler, LabelEncoder\n",
    "from sklearn.linear_model import LogisticRegression\n",
    "from sklearn.model_selection import train_test_split\n",
    "from sklearn.metrics import r2_score, f1_score\n",
    "\n",
    "%matplotlib inline"
   ]
  },
  {
   "cell_type": "code",
   "execution_count": 251,
   "metadata": {},
   "outputs": [],
   "source": [
    "def load_dataset(file_name, label_column):\n",
    "    \n",
    "    df = pd.read_csv(file_name)\n",
    "    df = df.loc[:,~df.columns.str.match(\"Unnamed\")]\n",
    "\n",
    "    cols = ['Top Terpene','Feeling_1','Feeling_2','Feeling_3','Feeling_4','Feeling_5','Negative_1','Negative_2','Negative_3','Negative_4','Negative_5','Helps with_1','Helps with_2','Helps with_3','Helps with_4','Helps with_5','Flavor_1','Flavor_2','Flavor_3']\n",
    "\n",
    "    for col in cols:\n",
    "        df[col] = LabelEncoder().fit_transform(df[col])\n",
    "\n",
    "    # df = df.apply(lambda x: pd.factorize(x)[0])\n",
    "\n",
    "\n",
    "    # df = df.drop(columns=['Strain Name','Rating','Rating Users'])\n",
    "    df = df.drop(columns=['Strain Name'])\n",
    "\n",
    "    X = df.loc[:,df.columns != label_column].copy()\n",
    "    y = df[label_column]\n",
    "\n",
    "\n",
    "    return X, y"
   ]
  },
  {
   "cell_type": "code",
   "execution_count": 207,
   "metadata": {},
   "outputs": [],
   "source": [
    "def split_to_train_and_test(X, y, test_ratio, rand_state):\n",
    "    \n",
    "    X_train, X_test, y_train, y_test = train_test_split(X,y,test_size=test_ratio,random_state=rand_state)\n",
    "\n",
    "    return X_train, X_test, y_train, y_test"
   ]
  },
  {
   "cell_type": "code",
   "execution_count": 208,
   "metadata": {},
   "outputs": [],
   "source": [
    "\n",
    "def scale_features(X_train, scale_type):\n",
    "\n",
    "    if scale_type == 'minmax':\n",
    "\n",
    "        scaler = MinMaxScaler(feature_range=(0,1))\n",
    "\n",
    "    elif scale_type == 'standard':\n",
    "\n",
    "        scaler = StandardScaler()\n",
    "\n",
    "    X_train_scaled = scaler.fit_transform(X_train)   \n",
    "\n",
    "    return scaler, X_train_scaled\n"
   ]
  },
  {
   "cell_type": "code",
   "execution_count": 209,
   "metadata": {},
   "outputs": [],
   "source": [
    "\n",
    "def scale_test_features(X_test, scaler):\n",
    "\n",
    "    scaled = scaler.transform(X_test)\n",
    "\n",
    "\n",
    "    return scaled"
   ]
  },
  {
   "cell_type": "code",
   "execution_count": 210,
   "metadata": {},
   "outputs": [],
   "source": [
    "def train_classifier(X_train, y_train):\n",
    "    \n",
    "    # classification_model = LogisticRegression().fit(X_train,y_train)\n",
    "    classification_model = LogisticRegression(max_iter=8000).fit(X_train,y_train)\n",
    "\n",
    "\n",
    "    return classification_model\n"
   ]
  },
  {
   "cell_type": "code",
   "execution_count": 211,
   "metadata": {},
   "outputs": [],
   "source": [
    "\n",
    "def predict(classifier, X_test, y_test):\n",
    "    \n",
    "    y_pred = classifier.predict(X_test)\n",
    "    # resDF = pd.DataFrame({'Actual':y_test, 'Predicted':y_pred})\n",
    "\n",
    "    # return resDF\n",
    "    return y_pred\n"
   ]
  },
  {
   "cell_type": "code",
   "execution_count": 212,
   "metadata": {},
   "outputs": [],
   "source": [
    "def evaluate_performance(y_test,y_predicted):\n",
    "    \n",
    "    # evaluate_value = r2_score(y_test,y_predicted)\n",
    "    evaluate_value = metrics.f1_score(y_test,y_predicted,average='micro')\n",
    "\n",
    "    return evaluate_value"
   ]
  },
  {
   "cell_type": "code",
   "execution_count": 252,
   "metadata": {},
   "outputs": [
    {
     "output_type": "stream",
     "name": "stdout",
     "text": [
      "0.5854838709677419\n0.5790322580645161\n0.5935483870967742\n"
     ]
    }
   ],
   "source": [
    "file_name = 'clean_df.csv'\n",
    "category_col_name = 'Type'\n",
    "\n",
    "X, y = load_dataset(file_name, category_col_name)\n",
    "\n",
    "X_train, X_test, y_train, y_test = split_to_train_and_test(X, y, 0.3, 11)\n",
    "\n",
    "# X.head()\n",
    "\n",
    "standard_scaler, X_train_standard_scaled = scale_features(X_train, 'standard')\n",
    "minmax_scaler, X_train_minmax_scaled = scale_features(X_train, 'minmax')\n",
    "X_test_standard_scaled = scale_test_features(X_test, standard_scaler)\n",
    "X_test_minmax_scaled = scale_test_features(X_test, minmax_scaler)\n",
    "\n",
    "classification_model = train_classifier(X_train, y_train)\n",
    "classification_standard_model = train_classifier(X_train_standard_scaled, y_train)\n",
    "classification_minmax_model = train_classifier(X_train_minmax_scaled, y_train)\n",
    "\n",
    "df_res = predict(classification_model, X_test, y_test)\n",
    "df_standard_res = predict(classification_standard_model, X_test_standard_scaled, y_test)\n",
    "df_minmax_res = predict(classification_minmax_model, X_test_minmax_scaled, y_test)\n",
    "\n",
    "y_pred_1st= pd.Series(df_res,index=X_test.index)\n",
    "eval_res_1st = evaluate_performance(y_test, y_pred_1st)\n",
    "\n",
    "y_pred_1st_standard= pd.Series(df_standard_res,index=X_test.index)\n",
    "eval_res_1st_standard = evaluate_performance(y_test, y_pred_1st_standard)\n",
    "\n",
    "y_pred_1st_minmax= pd.Series(df_minmax_res,index=X_test.index)\n",
    "eval_res_1st_minmax = evaluate_performance(y_test, y_pred_1st_minmax)\n",
    "\n",
    "# X.head()\n",
    "\n",
    "\n",
    "print(eval_res_1st)\n",
    "print(eval_res_1st_standard)\n",
    "print(eval_res_1st_minmax)\n",
    "\n"
   ]
  },
  {
   "cell_type": "code",
   "execution_count": 68,
   "metadata": {},
   "outputs": [
    {
     "output_type": "execute_result",
     "data": {
      "text/plain": [
       "      Actual Predicted\n",
       "2706  Hybrid    Hybrid\n",
       "1320  Hybrid    Hybrid\n",
       "147   Hybrid    Hybrid\n",
       "2324  Hybrid    Hybrid\n",
       "1001  Hybrid    Hybrid\n",
       "2438  Hybrid    Hybrid\n",
       "999   Hybrid    Hybrid\n",
       "2076  Indica    Indica\n",
       "2380  Indica    Hybrid\n",
       "2222  Sativa    Hybrid\n",
       "3274  Sativa    Hybrid\n",
       "692   Hybrid    Hybrid\n",
       "3117  Indica    Indica\n",
       "2949  Indica    Hybrid\n",
       "1607  Hybrid    Hybrid\n",
       "2716  Hybrid    Hybrid\n",
       "2554  Sativa    Hybrid\n",
       "2707  Hybrid    Hybrid\n",
       "2059  Sativa    Hybrid\n",
       "2856  Indica    Indica"
      ],
      "text/html": "<div>\n<style scoped>\n    .dataframe tbody tr th:only-of-type {\n        vertical-align: middle;\n    }\n\n    .dataframe tbody tr th {\n        vertical-align: top;\n    }\n\n    .dataframe thead th {\n        text-align: right;\n    }\n</style>\n<table border=\"1\" class=\"dataframe\">\n  <thead>\n    <tr style=\"text-align: right;\">\n      <th></th>\n      <th>Actual</th>\n      <th>Predicted</th>\n    </tr>\n  </thead>\n  <tbody>\n    <tr>\n      <th>2706</th>\n      <td>Hybrid</td>\n      <td>Hybrid</td>\n    </tr>\n    <tr>\n      <th>1320</th>\n      <td>Hybrid</td>\n      <td>Hybrid</td>\n    </tr>\n    <tr>\n      <th>147</th>\n      <td>Hybrid</td>\n      <td>Hybrid</td>\n    </tr>\n    <tr>\n      <th>2324</th>\n      <td>Hybrid</td>\n      <td>Hybrid</td>\n    </tr>\n    <tr>\n      <th>1001</th>\n      <td>Hybrid</td>\n      <td>Hybrid</td>\n    </tr>\n    <tr>\n      <th>2438</th>\n      <td>Hybrid</td>\n      <td>Hybrid</td>\n    </tr>\n    <tr>\n      <th>999</th>\n      <td>Hybrid</td>\n      <td>Hybrid</td>\n    </tr>\n    <tr>\n      <th>2076</th>\n      <td>Indica</td>\n      <td>Indica</td>\n    </tr>\n    <tr>\n      <th>2380</th>\n      <td>Indica</td>\n      <td>Hybrid</td>\n    </tr>\n    <tr>\n      <th>2222</th>\n      <td>Sativa</td>\n      <td>Hybrid</td>\n    </tr>\n    <tr>\n      <th>3274</th>\n      <td>Sativa</td>\n      <td>Hybrid</td>\n    </tr>\n    <tr>\n      <th>692</th>\n      <td>Hybrid</td>\n      <td>Hybrid</td>\n    </tr>\n    <tr>\n      <th>3117</th>\n      <td>Indica</td>\n      <td>Indica</td>\n    </tr>\n    <tr>\n      <th>2949</th>\n      <td>Indica</td>\n      <td>Hybrid</td>\n    </tr>\n    <tr>\n      <th>1607</th>\n      <td>Hybrid</td>\n      <td>Hybrid</td>\n    </tr>\n    <tr>\n      <th>2716</th>\n      <td>Hybrid</td>\n      <td>Hybrid</td>\n    </tr>\n    <tr>\n      <th>2554</th>\n      <td>Sativa</td>\n      <td>Hybrid</td>\n    </tr>\n    <tr>\n      <th>2707</th>\n      <td>Hybrid</td>\n      <td>Hybrid</td>\n    </tr>\n    <tr>\n      <th>2059</th>\n      <td>Sativa</td>\n      <td>Hybrid</td>\n    </tr>\n    <tr>\n      <th>2856</th>\n      <td>Indica</td>\n      <td>Indica</td>\n    </tr>\n  </tbody>\n</table>\n</div>"
     },
     "metadata": {},
     "execution_count": 68
    }
   ],
   "source": [
    "df_res.head(20)"
   ]
  },
  {
   "cell_type": "code",
   "execution_count": 69,
   "metadata": {},
   "outputs": [
    {
     "output_type": "execute_result",
     "data": {
      "text/plain": [
       "      Actual Predicted\n",
       "2706  Hybrid    Hybrid\n",
       "1320  Hybrid    Hybrid\n",
       "147   Hybrid    Hybrid\n",
       "2324  Hybrid    Hybrid\n",
       "1001  Hybrid    Hybrid\n",
       "2438  Hybrid    Hybrid\n",
       "999   Hybrid    Hybrid\n",
       "2076  Indica    Indica\n",
       "2380  Indica    Hybrid\n",
       "2222  Sativa    Hybrid\n",
       "3274  Sativa    Hybrid\n",
       "692   Hybrid    Hybrid\n",
       "3117  Indica    Indica\n",
       "2949  Indica    Hybrid\n",
       "1607  Hybrid    Hybrid\n",
       "2716  Hybrid    Hybrid\n",
       "2554  Sativa    Hybrid\n",
       "2707  Hybrid    Hybrid\n",
       "2059  Sativa    Hybrid\n",
       "2856  Indica    Indica"
      ],
      "text/html": "<div>\n<style scoped>\n    .dataframe tbody tr th:only-of-type {\n        vertical-align: middle;\n    }\n\n    .dataframe tbody tr th {\n        vertical-align: top;\n    }\n\n    .dataframe thead th {\n        text-align: right;\n    }\n</style>\n<table border=\"1\" class=\"dataframe\">\n  <thead>\n    <tr style=\"text-align: right;\">\n      <th></th>\n      <th>Actual</th>\n      <th>Predicted</th>\n    </tr>\n  </thead>\n  <tbody>\n    <tr>\n      <th>2706</th>\n      <td>Hybrid</td>\n      <td>Hybrid</td>\n    </tr>\n    <tr>\n      <th>1320</th>\n      <td>Hybrid</td>\n      <td>Hybrid</td>\n    </tr>\n    <tr>\n      <th>147</th>\n      <td>Hybrid</td>\n      <td>Hybrid</td>\n    </tr>\n    <tr>\n      <th>2324</th>\n      <td>Hybrid</td>\n      <td>Hybrid</td>\n    </tr>\n    <tr>\n      <th>1001</th>\n      <td>Hybrid</td>\n      <td>Hybrid</td>\n    </tr>\n    <tr>\n      <th>2438</th>\n      <td>Hybrid</td>\n      <td>Hybrid</td>\n    </tr>\n    <tr>\n      <th>999</th>\n      <td>Hybrid</td>\n      <td>Hybrid</td>\n    </tr>\n    <tr>\n      <th>2076</th>\n      <td>Indica</td>\n      <td>Indica</td>\n    </tr>\n    <tr>\n      <th>2380</th>\n      <td>Indica</td>\n      <td>Hybrid</td>\n    </tr>\n    <tr>\n      <th>2222</th>\n      <td>Sativa</td>\n      <td>Hybrid</td>\n    </tr>\n    <tr>\n      <th>3274</th>\n      <td>Sativa</td>\n      <td>Hybrid</td>\n    </tr>\n    <tr>\n      <th>692</th>\n      <td>Hybrid</td>\n      <td>Hybrid</td>\n    </tr>\n    <tr>\n      <th>3117</th>\n      <td>Indica</td>\n      <td>Indica</td>\n    </tr>\n    <tr>\n      <th>2949</th>\n      <td>Indica</td>\n      <td>Hybrid</td>\n    </tr>\n    <tr>\n      <th>1607</th>\n      <td>Hybrid</td>\n      <td>Hybrid</td>\n    </tr>\n    <tr>\n      <th>2716</th>\n      <td>Hybrid</td>\n      <td>Hybrid</td>\n    </tr>\n    <tr>\n      <th>2554</th>\n      <td>Sativa</td>\n      <td>Hybrid</td>\n    </tr>\n    <tr>\n      <th>2707</th>\n      <td>Hybrid</td>\n      <td>Hybrid</td>\n    </tr>\n    <tr>\n      <th>2059</th>\n      <td>Sativa</td>\n      <td>Hybrid</td>\n    </tr>\n    <tr>\n      <th>2856</th>\n      <td>Indica</td>\n      <td>Indica</td>\n    </tr>\n  </tbody>\n</table>\n</div>"
     },
     "metadata": {},
     "execution_count": 69
    }
   ],
   "source": [
    "df_res_standard.head(20)"
   ]
  },
  {
   "cell_type": "code",
   "execution_count": null,
   "metadata": {},
   "outputs": [],
   "source": []
  }
 ]
}