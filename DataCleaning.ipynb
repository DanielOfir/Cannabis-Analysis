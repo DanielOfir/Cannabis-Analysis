{
 "metadata": {
  "language_info": {
   "codemirror_mode": {
    "name": "ipython",
    "version": 3
   },
   "file_extension": ".py",
   "mimetype": "text/x-python",
   "name": "python",
   "nbconvert_exporter": "python",
   "pygments_lexer": "ipython3",
   "version": "3.9.1"
  },
  "orig_nbformat": 2,
  "kernelspec": {
   "name": "python3",
   "display_name": "Python 3.9.1 64-bit"
  },
  "metadata": {
   "interpreter": {
    "hash": "aee8b7b246df8f9039afb4144a1f6fd8d2ca17a180786b69acc140d282b71a49"
   }
  },
  "interpreter": {
   "hash": "aee8b7b246df8f9039afb4144a1f6fd8d2ca17a180786b69acc140d282b71a49"
  }
 },
 "nbformat": 4,
 "nbformat_minor": 2,
 "cells": [
  {
   "cell_type": "code",
   "execution_count": 1,
   "metadata": {},
   "outputs": [],
   "source": [
    "import ast\n",
    "import bs4\n",
    "import time\n",
    "import json\n",
    "import requests\n",
    "import pandas as pd\n",
    "import scipy as scipy\n",
    "import numpy as np\n",
    "from bs4 import BeautifulSoup\n",
    "from datetime import datetime\n",
    "import matplotlib.pyplot as plt\n",
    "\n",
    "%matplotlib inline"
   ]
  },
  {
   "source": [
    "## Leafly Dataframe"
   ],
   "cell_type": "markdown",
   "metadata": {}
  },
  {
   "cell_type": "code",
   "execution_count": 2,
   "metadata": {},
   "outputs": [],
   "source": [
    "leafly_df = pd.read_csv('CSVs/leafly_df.csv')\n",
    "leafly_df['Feelings'] = leafly_df['Feelings'].map(ast.literal_eval) ## To get dicts instead of strings\n",
    "leafly_df['Cannabinoids'] = leafly_df['Cannabinoids'].map(ast.literal_eval)"
   ]
  },
  {
   "cell_type": "code",
   "execution_count": 3,
   "metadata": {},
   "outputs": [],
   "source": [
    "## Open dictionaries in columns ['Feelings','Cannabinoids'] to columns\n",
    "\n",
    "leafly_df = leafly_df.reset_index(drop=True) \n",
    "\n",
    "\n",
    "for i in range(5): \n",
    "    leafly_df[f'Feeling_{i+1}'] = leafly_df.apply(lambda x: x['Feelings']['Feelings'][i],axis=1) ## Turn feelings list to columns\n",
    "    leafly_df[f'Negative_{i+1}'] = leafly_df.apply(lambda x: x['Feelings']['Negatives'][i],axis=1)   \n",
    "    leafly_df[f'Helps with_{i+1}'] = leafly_df.apply(lambda x: x['Feelings']['Helps with'][i],axis=1) \n",
    "\n",
    "    leafly_df[f'Feeling_{i+1}'] = leafly_df[f'Feeling_{i+1}'].str.replace(r'\\b $','',regex=True) ## Remove space at the end of values\n",
    "    leafly_df[f'Negative_{i+1}'] = leafly_df[f'Negative_{i+1}'].str.replace(r'\\b $','',regex=True)\n",
    "    leafly_df[f'Helps with_{i+1}'] = leafly_df[f'Helps with_{i+1}'].str.replace(r'\\b $','',regex=True)\n",
    "\n",
    "\n",
    "leafly_df['THC'] = leafly_df.apply(lambda x: x['Cannabinoids']['THC'],axis=1) ## Turn Cannabinoid dict to columns\n",
    "leafly_df['CBD'] = leafly_df.apply(lambda x: x['Cannabinoids']['CBD'],axis=1) \n",
    "leafly_df['CBG'] = leafly_df.apply(lambda x: x['Cannabinoids']['CBG'],axis=1) \n",
    "\n",
    "\n",
    "leafly_df.drop(['Feelings','Cannabinoids'],inplace=True,axis=1) ## Remove old columns\n",
    "\n",
    "cols = ['Rating','Rating Users','THC','CBD','CBG']\n",
    "\n",
    "leafly_df['THC'] = leafly_df['THC'].str.replace(\"%\",'',regex=True) # Remove % from numbers\n",
    "leafly_df['CBD'] = leafly_df['CBD'].str.replace(\"%\",'',regex=True)\n",
    "leafly_df['CBG'] = leafly_df['CBG'].str.replace(\"%\",'',regex=True)\n",
    "\n",
    "\n",
    "leafly_df['CBD'].replace(\"—\",np.nan,regex=True,inplace=True) # Replace '-' values with NaN\n",
    "leafly_df['THC'].replace(\"—\",np.nan,regex=True,inplace=True)\n",
    "leafly_df['CBG'].replace(\"—\",np.nan,regex=True,inplace=True)\n",
    "\n",
    "leafly_df[cols] = leafly_df[cols].apply(pd.to_numeric) # Change columns type to numeric\n",
    "\n",
    "\n"
   ]
  },
  {
   "source": [
    "## StrainsOfWeed Dataframe"
   ],
   "cell_type": "markdown",
   "metadata": {}
  },
  {
   "cell_type": "code",
   "execution_count": 4,
   "metadata": {},
   "outputs": [],
   "source": [
    "flavors_df = pd.read_csv('CSVs/strainofweed_df.csv')\n",
    "flavors_df['Flavors'] = flavors_df['Flavors'].map(ast.literal_eval) ## To get lists instead of strings\n",
    "\n",
    "flavors_df[['Flavor_1','Flavor_2','Flavor_3']] = pd.DataFrame(flavors_df.Flavors.tolist(),index=flavors_df.index) ## Open lists to columns\n",
    "flavors_df.drop(columns=['Flavors'],inplace=True) ## Remove original 'Flavors' column\n",
    "\n",
    "flavors_df['Flavor_1'].replace(\"\",np.nan,regex=True,inplace=True) ## Replace empty values with NaN\n",
    "flavors_df['Flavor_2'].replace(\"\",np.nan,regex=True,inplace=True)\n",
    "flavors_df['Flavor_3'].replace(\"\",np.nan,regex=True,inplace=True)\n",
    "\n",
    "flavors_df = flavors_df.loc[:,~flavors_df.columns.str.match(\"Unnamed\")] ## Remove 'Unnamed' column that was added\n"
   ]
  },
  {
   "source": [
    "## Combining both Dataframes"
   ],
   "cell_type": "markdown",
   "metadata": {}
  },
  {
   "cell_type": "code",
   "execution_count": 5,
   "metadata": {},
   "outputs": [],
   "source": [
    "## Combine DFs based on 'Strain Name' column ##\n",
    "\n",
    "for i in range(1,4):\n",
    "    \n",
    "    leafly_df[f'Flavor_{i}'] = leafly_df['Strain Name'].map(flavors_df.set_index('Strain Name')[f'Flavor_{i}'])   \n"
   ]
  },
  {
   "cell_type": "code",
   "execution_count": 6,
   "metadata": {},
   "outputs": [],
   "source": [
    "df = leafly_df.copy()\n"
   ]
  },
  {
   "source": [
    "## Data adjustment"
   ],
   "cell_type": "markdown",
   "metadata": {}
  },
  {
   "cell_type": "code",
   "execution_count": 7,
   "metadata": {},
   "outputs": [],
   "source": [
    "def get_nan_replace_value(df,parent,mode,col):\n",
    "    ## Get value to complete in NaN\n",
    "    func_df = df.loc[(df['Left Parent'] == parent) | (df['Right Parent'] == parent) | (df['Strain Name'] == parent)] ## All rows with same parent, including the parent\n",
    "\n",
    "    if mode == 'Feelings' or mode == 'Terpenes' or mode == 'Flavors':\n",
    "        try:\n",
    "            feeling = func_df[col].value_counts().idxmax() ## Limits to look only at the same col\n",
    "\n",
    "        except Exception as e:\n",
    "            feeling = np.NaN\n",
    "\n",
    "        return feeling\n",
    "\n",
    "    elif mode == 'Cannabinoids':\n",
    "\n",
    "        mean = round(func_df[col].mean(),0)\n",
    "        \n",
    "        return mean\n",
    "\n",
    "def complete_nan(df,col_names):\n",
    "        ## Create Dataframe that contains rows where all Feeling/Negative/Helps With/Flavor columns are NaN and has at least 1 parent\n",
    "    for i,col in enumerate(col_names,0):\n",
    "        print(f\"working on {col}\")\n",
    "        if 'Feeling' in col: ## Create DF that contains 'Feeling' columns with NaN that has at least 1 parent that's not NaN\n",
    "            nanim = df[(df['Feeling_1'].isnull()) & (df['Feeling_2'].isnull()) & (df['Feeling_3'].isnull()) & (df['Feeling_4'].isnull()) & (df['Feeling_5'].isnull()) & ((df['Left Parent'].notna()) | (df['Right Parent'].notna()))].copy()\n",
    "            mode = 'Feelings'\n",
    "\n",
    "        elif 'Negative' in col:\n",
    "            nanim = df[(df['Negative_1'].isnull()) & (df['Negative_2'].isnull()) & (df['Negative_3'].isnull()) & (df['Negative_4'].isnull()) & (df['Negative_5'].isnull()) & ((df['Left Parent'].notna()) | (df['Right Parent'].notna()))].copy()\n",
    "            mode = 'Feelings'\n",
    "        \n",
    "        elif 'Helps with' in col: \n",
    "            nanim = df[(df['Helps with_1'].isnull()) & (df['Helps with_2'].isnull()) & (df['Helps with_3'].isnull()) & (df['Helps with_4'].isnull()) & (df['Helps with_5'].isnull()) & ((df['Left Parent'].notna()) | (df['Right Parent'].notna()))].copy()\n",
    "            mode = 'Feelings'\n",
    "\n",
    "        elif 'Flavor' in col:\n",
    "            nanim = df[(df['Flavor_1'].isnull()) & (df['Flavor_2'].isnull()) & (df['Flavor_3'].isnull()) & ((df['Left Parent'].notna()) | (df['Right Parent'].notna()))].copy()\n",
    "            mode = 'Flavors'\n",
    "        \n",
    "        else: ## Create DF that contains a 'Cannabinoid' column with NaN, with at least 1 parent that's not NaN\n",
    "            nanim = df[(df[col].isna()) & ((df['Left Parent'].notna()) | (df['Right Parent'].notna()))].copy() # To apply changes on real DF \n",
    "            if col == 'Top Terpene':\n",
    "                mode = 'Terpenes'\n",
    "            else:\n",
    "                mode = 'Cannabinoids'\n",
    "        \n",
    "        try:\n",
    "            nanim[col] = nanim.apply(lambda x: get_nan_replace_value(df,x['Left Parent'],mode,col),axis=1)\n",
    "            nanim[col] = nanim.apply(lambda x: get_nan_replace_value(df,x['Right Parent'],mode,col) if pd.isnull(x[col]) else x[col],axis=1)\n",
    "            \n",
    "            df[col].fillna(nanim[col],inplace=True)\n",
    "\n",
    "\n",
    "        except Exception as e:\n",
    "            print(e)\n",
    "            pass\n",
    "    \n",
    "\n",
    "    return df"
   ]
  },
  {
   "cell_type": "code",
   "execution_count": 8,
   "metadata": {},
   "outputs": [
    {
     "output_type": "stream",
     "name": "stdout",
     "text": [
      "working on Feeling_1\n",
      "working on Feeling_2\n",
      "working on Feeling_3\n",
      "working on Feeling_4\n",
      "working on Feeling_5\n",
      "working on Negative_1\n",
      "working on Negative_2\n",
      "working on Negative_3\n",
      "working on Negative_4\n",
      "working on Negative_5\n",
      "working on Helps with_1\n",
      "working on Helps with_2\n",
      "working on Helps with_3\n",
      "working on Helps with_4\n",
      "working on Helps with_5\n",
      "working on THC\n",
      "working on CBD\n",
      "working on CBG\n",
      "working on Top Terpene\n",
      "working on Flavor_1\n",
      "working on Flavor_2\n",
      "working on Flavor_3\n"
     ]
    }
   ],
   "source": [
    "cols = ['Feeling_1','Feeling_2','Feeling_3','Feeling_4','Feeling_5','Negative_1','Negative_2','Negative_3','Negative_4','Negative_5','Helps with_1','Helps with_2','Helps with_3','Helps with_4','Helps with_5','THC','CBD','CBG','Top Terpene','Flavor_1','Flavor_2','Flavor_3']\n",
    "feelings_complete = complete_nan(df,cols) ## Fill NaN"
   ]
  },
  {
   "cell_type": "code",
   "execution_count": 9,
   "metadata": {},
   "outputs": [],
   "source": [
    "df = df.copy()\n",
    "df.update(feelings_complete)\n",
    "df = df.loc[:,~df.columns.str.match(\"Unnamed\")]## A new column was created from some reason"
   ]
  },
  {
   "cell_type": "code",
   "execution_count": 10,
   "metadata": {},
   "outputs": [],
   "source": [
    "\n",
    "df = df[(df['Rating Users'].notna()) & (df['Type'].notna()) & (df['Strain Name'].notna())].copy() ## Dataframe without NaN values in Rating users / Type / Name columns\n",
    "\n",
    "df.dropna(subset=['THC'],inplace=True) ## Drop rows with NaN in THC column\n",
    "\n",
    "df.drop(columns=['Left Parent','Right Parent','Left Child','Right Child','CBG'],inplace=True)\n"
   ]
  },
  {
   "cell_type": "code",
   "execution_count": 11,
   "metadata": {},
   "outputs": [],
   "source": [
    "curr_df = df.copy()\n",
    "curr_df = curr_df[(curr_df['Feeling_1'].notna()) & (curr_df['Feeling_2'].notna()) & (curr_df['Negative_2'].notna()) & (curr_df['Negative_1'].notna()) & (curr_df['Helps with_2'].notna()) & (curr_df['Helps with_1'].notna()) & (curr_df['Flavor_1'].notna())].copy()"
   ]
  },
  {
   "cell_type": "code",
   "execution_count": 12,
   "metadata": {},
   "outputs": [],
   "source": [
    "## Fill rest of NaNs with 'N/A' or 0.0\n",
    "\n",
    "for i in range(1,6):\n",
    "    curr_df[f'Feeling_{i}'].fillna('N/A',inplace=True)\n",
    "    curr_df[f'Negative_{i}'].fillna('N/A',inplace=True)\n",
    "    curr_df[f'Helps with_{i}'].fillna('N/A',inplace=True)\n",
    "\n",
    "curr_df.dropna(subset=['THC'],inplace=True)\n",
    "curr_df['CBD'].fillna(0.0,inplace=True)\n",
    "curr_df['Top Terpene'].fillna('N/A',inplace=True)\n",
    "curr_df['Flavor_2'].fillna('N/A',inplace=True)\n",
    "curr_df['Flavor_3'].fillna('N/A',inplace=True)\n"
   ]
  },
  {
   "cell_type": "code",
   "execution_count": 13,
   "metadata": {},
   "outputs": [],
   "source": [
    "curr_df.to_csv('CSVs/clean_df.csv')"
   ]
  },
  {
   "cell_type": "code",
   "execution_count": null,
   "metadata": {},
   "outputs": [],
   "source": []
  }
 ]
}